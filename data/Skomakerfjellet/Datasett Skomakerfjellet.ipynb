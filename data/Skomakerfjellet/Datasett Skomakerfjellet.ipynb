{
 "cells": [
  {
   "cell_type": "markdown",
   "metadata": {},
   "source": [
    "# Datasett Ytre Vikna"
   ]
  },
  {
   "cell_type": "markdown",
   "metadata": {},
   "source": [
    "Tar inn de nye datasettene for å finne ut hva som er forskjellig/likt"
   ]
  },
  {
   "cell_type": "markdown",
   "metadata": {},
   "source": [
    "#### Importerer biblioteker"
   ]
  },
  {
   "cell_type": "code",
   "execution_count": 1,
   "metadata": {
    "collapsed": true
   },
   "outputs": [],
   "source": [
    "import pandas as pd\n",
    "import numpy as np\n",
    "\n",
    "# Visualization\n",
    "import seaborn as sns\n",
    "import matplotlib.pyplot as plt\n",
    "\n",
    "%matplotlib inline\n",
    "\n",
    "# Making plots look better\n",
    "import matplotlib as mpl\n",
    "mpl.rcParams['patch.force_edgecolor'] = True\n",
    "\n",
    "%config InlineBackend.figure_format = 'retina'"
   ]
  },
  {
   "cell_type": "markdown",
   "metadata": {},
   "source": [
    "#### Henter ut ulike datasett"
   ]
  },
  {
   "cell_type": "code",
   "execution_count": 2,
   "metadata": {
    "collapsed": true
   },
   "outputs": [],
   "source": [
    "# TEK (13. Juli 2017 til 16. Desember 2018)\n",
    "df_tek = pd.read_csv('vindkraft 130717-160218 TEK met.csv',sep =';', low_memory = False)\n",
    "\n",
    "# Arome (1. Spetember til 16. Desember)\n",
    "df_arome = pd.read_csv('vindkraft 130717-160218 arome korr winddir.csv',sep =';', low_memory = False)"
   ]
  },
  {
   "cell_type": "code",
   "execution_count": 3,
   "metadata": {},
   "outputs": [
    {
     "name": "stdout",
     "output_type": "stream",
     "text": [
      "<class 'pandas.core.frame.DataFrame'>\n",
      "RangeIndex: 5239 entries, 0 to 5238\n",
      "Columns: 309 entries, Unnamed: 0 to AnmeldingskorreksjonYtreVikna_ML_train\n",
      "dtypes: float64(224), int64(85)\n",
      "memory usage: 12.4 MB\n"
     ]
    }
   ],
   "source": [
    "df_tek.info()"
   ]
  },
  {
   "cell_type": "code",
   "execution_count": 4,
   "metadata": {},
   "outputs": [
    {
     "name": "stdout",
     "output_type": "stream",
     "text": [
      "<class 'pandas.core.frame.DataFrame'>\n",
      "RangeIndex: 5239 entries, 0 to 5238\n",
      "Columns: 489 entries, Unnamed: 0 to /arome_windvel_6573_1232\n",
      "dtypes: float64(488), object(1)\n",
      "memory usage: 19.5+ MB\n"
     ]
    }
   ],
   "source": [
    "df_arome.info()"
   ]
  },
  {
   "cell_type": "markdown",
   "metadata": {},
   "source": [
    "## Fikser 2 timer frem med værdata"
   ]
  },
  {
   "cell_type": "markdown",
   "metadata": {},
   "source": [
    "#### Arome"
   ]
  },
  {
   "cell_type": "code",
   "execution_count": 5,
   "metadata": {},
   "outputs": [
    {
     "name": "stdout",
     "output_type": "stream",
     "text": [
      "<class 'pandas.core.frame.DataFrame'>\n",
      "RangeIndex: 5237 entries, 0 to 5236\n",
      "Columns: 490 entries, index to /arome_windvel_6573_1232\n",
      "dtypes: float64(488), int64(1), object(1)\n",
      "memory usage: 19.6+ MB\n"
     ]
    }
   ],
   "source": [
    "# Lager en ny dataframe\n",
    "arome_2_hour_future_pred = df_arome.copy(deep=True)\n",
    "\n",
    "# Forskyver to rader ved å fjerne de to første radene\n",
    "arome_2_hour_future_pred.drop([0,1], inplace=True)\n",
    "\n",
    "# Nullindekserer radene\n",
    "arome_2_hour_future_pred.reset_index(inplace=True)\n",
    "\n",
    "arome_2_hour_future_pred.info()"
   ]
  },
  {
   "cell_type": "markdown",
   "metadata": {},
   "source": [
    "#### Tek (2 timer frem)"
   ]
  },
  {
   "cell_type": "code",
   "execution_count": 6,
   "metadata": {},
   "outputs": [
    {
     "name": "stdout",
     "output_type": "stream",
     "text": [
      "<class 'pandas.core.frame.DataFrame'>\n",
      "RangeIndex: 5237 entries, 0 to 5236\n",
      "Columns: 310 entries, index to AnmeldingskorreksjonYtreVikna_ML_train\n",
      "dtypes: float64(224), int64(86)\n",
      "memory usage: 12.4 MB\n"
     ]
    }
   ],
   "source": [
    "# Lager en ny dataframe\n",
    "tek_2_hour_future_pred = df_tek.copy(deep=True)\n",
    "\n",
    "# Forskyver to rader ved å fjerne de to første radene\n",
    "tek_2_hour_future_pred.drop([0,1], inplace=True)\n",
    "\n",
    "# Nullindekserer radene\n",
    "tek_2_hour_future_pred.reset_index(inplace=True)\n",
    "\n",
    "tek_2_hour_future_pred.info()"
   ]
  },
  {
   "cell_type": "markdown",
   "metadata": {},
   "source": [
    "#### Tilpasser eksisterende datasett"
   ]
  },
  {
   "cell_type": "code",
   "execution_count": 7,
   "metadata": {
    "collapsed": true
   },
   "outputs": [],
   "source": [
    "df_tek.drop([5237,5238], inplace= True)"
   ]
  },
  {
   "cell_type": "code",
   "execution_count": 8,
   "metadata": {
    "collapsed": true
   },
   "outputs": [],
   "source": [
    "df_arome.drop([5237,5238], inplace= True)"
   ]
  },
  {
   "cell_type": "code",
   "execution_count": 9,
   "metadata": {
    "collapsed": true
   },
   "outputs": [],
   "source": [
    "tek_2_hour_future_pred['Target'] = tek_2_hour_future_pred['SKOM-Skomakerfj.-GS-T4015A3 -0104']"
   ]
  },
  {
   "cell_type": "markdown",
   "metadata": {},
   "source": [
    "# ' data_skomakerfjellet_simple.csv'"
   ]
  },
  {
   "cell_type": "code",
   "execution_count": 10,
   "metadata": {
    "collapsed": true
   },
   "outputs": [],
   "source": [
    "data_simple = pd.concat([\n",
    "\n",
    "    \n",
    "    \n",
    "    # Sum produksjon\n",
    "    df_tek['SKOM-Skomakerfj.-GS-T4015A3 -0104'], \n",
    "    \n",
    "    \n",
    "    \n",
    "    # Værstasjoner og tilhørende punkter\n",
    "    \n",
    "    # VÆRNES (Koordinater: 63.460, 10.931)\n",
    "    df_tek['DNMI_69100...........T0015A3-0120'],\n",
    "    df_arome['/arome_windvel_6347_1092'],\n",
    "\n",
    "    # ØRLAND III (Koordinater: 63.705, 9.611)\n",
    "    df_tek['DNMI_71550...........T0015A3-0120'],\n",
    "    df_arome['/arome_windvel_6372_0961'],\n",
    "    \n",
    "        \n",
    "    # HALTEN FYR ( Kordinater: 64.173, 9.405 )\n",
    "    df_tek['DNMI_71850...........T0015A3-0120'],\n",
    "    df_arome['/arome_windvel_6413_0933'],\n",
    "    \n",
    "    # BUHOLMRÅSA FYR (kordinater: 64.401, 10.455)\n",
    "    df_tek['DNMI_71990...........T0015A3-0120'],\n",
    "    df_arome['/arome_windvel_6440_1047'],\n",
    "        \n",
    "    \n",
    "    # NAMSOS LUFTHAVN (Koordinater: 64.471, 11.571)\n",
    "    df_tek['DNMI_72580...........T0015A3-0120'],\n",
    "    df_arome['/arome_windvel_6447_1156'],\n",
    "\n",
    "    \n",
    "                \n",
    "    #Storm værmelding i sentrum av park ( Bessaker bli nærmeste)\n",
    "    tek_2_hour_future_pred['STORM-Bess-Vindretn-25km'],\n",
    "    tek_2_hour_future_pred['STORM-Bess-Vindhast-25km'],\n",
    "    \n",
    "                \n",
    "    \n",
    "    \n",
    "    # Target value\n",
    "    tek_2_hour_future_pred['Target']\n",
    "    \n",
    "    \n",
    "    ], \n",
    "    axis = 1)"
   ]
  },
  {
   "cell_type": "code",
   "execution_count": 11,
   "metadata": {
    "collapsed": true
   },
   "outputs": [],
   "source": [
    "data_simple.to_csv('data_skomakerfjellet_simple.csv', sep=';', index = False)"
   ]
  },
  {
   "cell_type": "markdown",
   "metadata": {},
   "source": [
    "# 'data_skomakerfjellet_advanced.csv'"
   ]
  },
  {
   "cell_type": "code",
   "execution_count": 22,
   "metadata": {},
   "outputs": [],
   "source": [
    "data_advanced = pd.concat([\n",
    " \n",
    "    # Produksjonen på hver enkelt mølle\n",
    "    df_tek['SKOM-Skomakerfj.-G1-T4015A3 -0104'],\n",
    "    df_tek['SKOM-Skomakerfj.-G2-T4015A3 -0104'],\n",
    "    df_tek['SKOM-Skomakerfj.-G3-T4015A3 -0104'],\n",
    "    df_tek['SKOM-Skomakerfj.-G4-T4015A3 -0104'],\n",
    "    \n",
    "    \n",
    "    # Sum produksjon\n",
    "    df_tek['SKOM-Skomakerfj.-GS-T4015A3 -0104'], \n",
    "    \n",
    "    \n",
    "    \n",
    "    # Værstasjoner og tilhørende punkter\n",
    "    \n",
    "    # VÆRNES (Koordinater: 63.460, 10.931)\n",
    "    df_tek['DNMI_69100...........T0015A3-0120'],\n",
    "    df_arome['/arome_windvel_6347_1092'],\n",
    "\n",
    "    # ØRLAND III (Koordinater: 63.705, 9.611)\n",
    "    df_tek['DNMI_71550...........T0015A3-0120'],\n",
    "    df_arome['/arome_windvel_6372_0961'],\n",
    "    \n",
    "        \n",
    "    # HALTEN FYR ( Kordinater: 64.173, 9.405 )\n",
    "    df_tek['DNMI_71850...........T0015A3-0120'],\n",
    "    df_arome['/arome_windvel_6413_0933'],\n",
    "    \n",
    "    # BUHOLMRÅSA FYR (kordinater: 64.401, 10.455)\n",
    "    df_tek['DNMI_71990...........T0015A3-0120'],\n",
    "    df_arome['/arome_windvel_6440_1047'],\n",
    "        \n",
    "    \n",
    "    # NAMSOS LUFTHAVN (Koordinater: 64.471, 11.571)\n",
    "    df_tek['DNMI_72580...........T0015A3-0120'],\n",
    "    df_arome['/arome_windvel_6447_1156'],\n",
    "\n",
    "    \n",
    "                \n",
    "    #Storm værmelding i sentrum av park ( Bessaker bli nærmeste)\n",
    "    tek_2_hour_future_pred['STORM-Bess-Vindretn-25km'],\n",
    "    tek_2_hour_future_pred['STORM-Bess-Vindhast-25km'],\n",
    "    \n",
    "                \n",
    "    # Arome værmelding nær sentrum av parken\n",
    "    \n",
    "    # Punkt 1\n",
    "    arome_2_hour_future_pred['/arome_windvel_6422_1040'],\n",
    "    arome_2_hour_future_pred['/arome_airtemp_6422_1040'],\n",
    "    \n",
    "    \n",
    "    # Target value\n",
    "    tek_2_hour_future_pred['Target']\n",
    "    \n",
    "    \n",
    "    ], \n",
    "    axis = 1)"
   ]
  },
  {
   "cell_type": "code",
   "execution_count": 13,
   "metadata": {
    "collapsed": true
   },
   "outputs": [],
   "source": [
    "#data_advanced.info()"
   ]
  },
  {
   "cell_type": "code",
   "execution_count": 14,
   "metadata": {
    "collapsed": true
   },
   "outputs": [],
   "source": [
    "#data_advanced.head()"
   ]
  },
  {
   "cell_type": "code",
   "execution_count": 16,
   "metadata": {
    "collapsed": true
   },
   "outputs": [],
   "source": [
    "data_advanced.to_csv('data_skomakerfjellet_advanced.csv', sep=';', index = False)"
   ]
  },
  {
   "cell_type": "markdown",
   "metadata": {},
   "source": [
    "## Hva er benchmark på datasett?"
   ]
  },
  {
   "cell_type": "code",
   "execution_count": 18,
   "metadata": {
    "collapsed": true
   },
   "outputs": [],
   "source": [
    "model_value = 'SKOM-Skomakerfj.-GS-T4015A3 -0104'\n",
    "target_value = 'Target'"
   ]
  },
  {
   "cell_type": "code",
   "execution_count": 19,
   "metadata": {},
   "outputs": [],
   "source": [
    "sammenligning = pd.concat([df_tek[model_value],tek_2_hour_future_pred[target_value]], axis=1)\n",
    "sammenligning.dropna(inplace= True)"
   ]
  },
  {
   "cell_type": "code",
   "execution_count": 20,
   "metadata": {},
   "outputs": [
    {
     "name": "stdout",
     "output_type": "stream",
     "text": [
      "Mean Absolute Error: \t\t\t 1.26839788665\n",
      "Mean Squared Error: \t\t\t 4.44952915523\n",
      "Root Mean Squared Error: \t\t 2.10939070711\n"
     ]
    }
   ],
   "source": [
    "from sklearn import metrics\n",
    "\n",
    "print('Mean Absolute Error: \\t\\t\\t', metrics.mean_absolute_error(sammenligning[target_value], sammenligning[model_value]))\n",
    "print('Mean Squared Error: \\t\\t\\t', metrics.mean_squared_error(sammenligning[target_value], sammenligning[model_value]))\n",
    "print('Root Mean Squared Error: \\t\\t', np.sqrt(metrics.mean_squared_error(sammenligning[target_value], sammenligning[model_value])))"
   ]
  },
  {
   "cell_type": "code",
   "execution_count": null,
   "metadata": {
    "collapsed": true
   },
   "outputs": [],
   "source": []
  }
 ],
 "metadata": {
  "kernelspec": {
   "display_name": "Python 3",
   "language": "python",
   "name": "python3"
  },
  "language_info": {
   "codemirror_mode": {
    "name": "ipython",
    "version": 3
   },
   "file_extension": ".py",
   "mimetype": "text/x-python",
   "name": "python",
   "nbconvert_exporter": "python",
   "pygments_lexer": "ipython3",
   "version": "3.5.4"
  }
 },
 "nbformat": 4,
 "nbformat_minor": 2
}
