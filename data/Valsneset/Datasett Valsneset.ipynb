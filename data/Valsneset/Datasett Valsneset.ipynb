{
 "cells": [
  {
   "cell_type": "markdown",
   "metadata": {},
   "source": [
    "# Datasett Valsneset"
   ]
  },
  {
   "cell_type": "markdown",
   "metadata": {},
   "source": [
    "Tar inn de nye datasettene for å finne ut hva som er forskjellig/likt"
   ]
  },
  {
   "cell_type": "markdown",
   "metadata": {},
   "source": [
    "#### Importerer biblioteker"
   ]
  },
  {
   "cell_type": "code",
   "execution_count": 1,
   "metadata": {
    "collapsed": true
   },
   "outputs": [],
   "source": [
    "import pandas as pd\n",
    "import numpy as np\n",
    "\n",
    "# Visualization\n",
    "import seaborn as sns\n",
    "import matplotlib.pyplot as plt\n",
    "\n",
    "%matplotlib inline\n",
    "\n",
    "# Making plots look better\n",
    "import matplotlib as mpl\n",
    "mpl.rcParams['patch.force_edgecolor'] = True\n",
    "\n",
    "%config InlineBackend.figure_format = 'retina'"
   ]
  },
  {
   "cell_type": "markdown",
   "metadata": {},
   "source": [
    "#### Henter ut ulike datasett"
   ]
  },
  {
   "cell_type": "code",
   "execution_count": 2,
   "metadata": {
    "collapsed": true
   },
   "outputs": [],
   "source": [
    "# TEK (13. Juli 2017 til 16. Desember 2018)\n",
    "df_tek = pd.read_csv('vindkraft 130717-160218 TEK met.csv',sep =';', low_memory = False)\n",
    "\n",
    "# Arome (1. Spetember til 16. Desember)\n",
    "df_arome = pd.read_csv('vindkraft 130717-160218 arome korr winddir.csv',sep =';', low_memory = False)"
   ]
  },
  {
   "cell_type": "code",
   "execution_count": 3,
   "metadata": {},
   "outputs": [
    {
     "name": "stdout",
     "output_type": "stream",
     "text": [
      "<class 'pandas.core.frame.DataFrame'>\n",
      "RangeIndex: 5239 entries, 0 to 5238\n",
      "Columns: 309 entries, Unnamed: 0 to AnmeldingskorreksjonYtreVikna_ML_train\n",
      "dtypes: float64(224), int64(85)\n",
      "memory usage: 12.4 MB\n"
     ]
    }
   ],
   "source": [
    "df_tek.info()"
   ]
  },
  {
   "cell_type": "code",
   "execution_count": 4,
   "metadata": {},
   "outputs": [
    {
     "name": "stdout",
     "output_type": "stream",
     "text": [
      "<class 'pandas.core.frame.DataFrame'>\n",
      "RangeIndex: 5239 entries, 0 to 5238\n",
      "Columns: 489 entries, Unnamed: 0 to /arome_windvel_6573_1232\n",
      "dtypes: float64(488), object(1)\n",
      "memory usage: 19.5+ MB\n"
     ]
    }
   ],
   "source": [
    "df_arome.info()"
   ]
  },
  {
   "cell_type": "markdown",
   "metadata": {},
   "source": [
    "## Fikser 2 timer frem med værdata"
   ]
  },
  {
   "cell_type": "markdown",
   "metadata": {},
   "source": [
    "#### Arome"
   ]
  },
  {
   "cell_type": "code",
   "execution_count": 5,
   "metadata": {},
   "outputs": [
    {
     "name": "stdout",
     "output_type": "stream",
     "text": [
      "<class 'pandas.core.frame.DataFrame'>\n",
      "RangeIndex: 5237 entries, 0 to 5236\n",
      "Columns: 490 entries, index to /arome_windvel_6573_1232\n",
      "dtypes: float64(488), int64(1), object(1)\n",
      "memory usage: 19.6+ MB\n"
     ]
    }
   ],
   "source": [
    "# Lager en ny dataframe\n",
    "arome_2_hour_future_pred = df_arome.copy(deep=True)\n",
    "\n",
    "# Forskyver to rader ved å fjerne de to første radene\n",
    "arome_2_hour_future_pred.drop([0,1], inplace=True)\n",
    "\n",
    "# Nullindekserer radene\n",
    "arome_2_hour_future_pred.reset_index(inplace=True)\n",
    "\n",
    "arome_2_hour_future_pred.info()"
   ]
  },
  {
   "cell_type": "markdown",
   "metadata": {},
   "source": [
    "#### Tek (2 timer frem)"
   ]
  },
  {
   "cell_type": "code",
   "execution_count": 6,
   "metadata": {},
   "outputs": [
    {
     "name": "stdout",
     "output_type": "stream",
     "text": [
      "<class 'pandas.core.frame.DataFrame'>\n",
      "RangeIndex: 5237 entries, 0 to 5236\n",
      "Columns: 310 entries, index to AnmeldingskorreksjonYtreVikna_ML_train\n",
      "dtypes: float64(224), int64(86)\n",
      "memory usage: 12.4 MB\n"
     ]
    }
   ],
   "source": [
    "# Lager en ny dataframe\n",
    "tek_2_hour_future_pred = df_tek.copy(deep=True)\n",
    "\n",
    "# Forskyver to rader ved å fjerne de to første radene\n",
    "tek_2_hour_future_pred.drop([0,1], inplace=True)\n",
    "\n",
    "# Nullindekserer radene\n",
    "tek_2_hour_future_pred.reset_index(inplace=True)\n",
    "\n",
    "tek_2_hour_future_pred.info()"
   ]
  },
  {
   "cell_type": "markdown",
   "metadata": {},
   "source": [
    "#### Tilpasser eksisterende datasett"
   ]
  },
  {
   "cell_type": "code",
   "execution_count": 7,
   "metadata": {
    "collapsed": true
   },
   "outputs": [],
   "source": [
    "df_tek.drop([5237,5238], inplace= True)"
   ]
  },
  {
   "cell_type": "code",
   "execution_count": 8,
   "metadata": {
    "collapsed": true
   },
   "outputs": [],
   "source": [
    "df_arome.drop([5237,5238], inplace= True)"
   ]
  },
  {
   "cell_type": "code",
   "execution_count": 9,
   "metadata": {
    "collapsed": true
   },
   "outputs": [],
   "source": [
    "tek_2_hour_future_pred['Target'] = tek_2_hour_future_pred['VALS-Valsneset..-GS1-5-T4015A3 -0104']"
   ]
  },
  {
   "cell_type": "markdown",
   "metadata": {},
   "source": [
    "# ' data_valsneset_simple.csv'"
   ]
  },
  {
   "cell_type": "code",
   "execution_count": 10,
   "metadata": {
    "collapsed": true
   },
   "outputs": [],
   "source": [
    "data_simple = pd.concat([\n",
    "\n",
    "    # Sum produksjon\n",
    "    df_tek['VALS-Valsneset..-GS1-5-T4015A3 -0104'], \n",
    "    \n",
    "    \n",
    "    \n",
    "    # Værstasjoner (I sammenkomst med værmelding (arome) samme punkt )\n",
    "                \n",
    "\n",
    "                \n",
    "    # Nærmeste stormpunkt\n",
    "    tek_2_hour_future_pred['STORM-Vals-Vindhast-25km'],\n",
    "    tek_2_hour_future_pred['STORM-Vals-Vindretn-25km'],\n",
    "                \n",
    "                \n",
    "    # Nærmeste aromepunkter\n",
    "\n",
    "    \n",
    "    # Target value\n",
    "    tek_2_hour_future_pred['Target']\n",
    "    \n",
    "    \n",
    "    ], \n",
    "    axis = 1)"
   ]
  },
  {
   "cell_type": "code",
   "execution_count": 11,
   "metadata": {
    "collapsed": true
   },
   "outputs": [],
   "source": [
    "data_simple.to_csv('data_valsneset_simple.csv', sep=';', index = False)"
   ]
  },
  {
   "cell_type": "markdown",
   "metadata": {},
   "source": [
    "# 'data_valsneset_advanced.csv'"
   ]
  },
  {
   "cell_type": "code",
   "execution_count": 12,
   "metadata": {},
   "outputs": [],
   "source": [
    "data_advanced = pd.concat([\n",
    "                \n",
    "    # De 5 ulike turbinenen (produksjon + status)\n",
    "    df_tek['VALS-Valsneset..-G1-T4015A3 -0104'],\n",
    "    df_tek['VALS-Valsneset..-G2-T4015A3 -0104'],\n",
    "    df_tek['VALS-Valsneset..-G3-T4015A3 -0104'],\n",
    "    df_tek['VALS-Valsneset..-G4-T4015A3 -0104'],\n",
    "    df_tek['VALS-Valsneset..-G5-T4015A3 -0104'],\n",
    "    \n",
    "    # Error codes 5 turbinene\n",
    "    df_tek['RRS.S2451.Gunit.M1 G1.AVL'],\n",
    "    df_tek['RRS.S2451.Gunit.M2 G1.AVL'],\n",
    "    df_tek['RRS.S2451.Gunit.M3 G1.AVL'],\n",
    "    df_tek['RRS.S2451.Gunit.M4 G1.AVL'],\n",
    "    df_tek['RRS.S2451.Gunit.M5 G1.AVL'],\n",
    "    \n",
    "\n",
    "    # Sum produksjon\n",
    "    df_tek['VALS-Valsneset..-GS1-5-T4015A3 -0104'],  \n",
    "\n",
    "    \n",
    "    # Værstasjoner (korigert sammen med aromedata)\n",
    "    \n",
    "    # ørlandet ( koordinater: 63.705, 9.611)\n",
    "    df_tek['DNMI_71550...........T0015A3-0120'],\n",
    "    df_arome['/arome_windvel_6372_0961'],\n",
    "    \n",
    "    # Sula fyr (koordinater 63.847, 8.467)\n",
    "    df_tek['DNMI_65940...........T0015A3-0120'],\n",
    "    df_arome['/arome_windvel_6385_0846'],\n",
    "    \n",
    "    # Halten fyr (koordinater 64.173, 9.405)\n",
    "    df_tek['DNMI_71850...........T0015A3-0120'],\n",
    "    df_arome['/arome_windvel_6418_0942'],\n",
    "\n",
    "    # Nærmeste stormpunkt\n",
    "    tek_2_hour_future_pred['STORM-Vals-Vindhast-25km'],\n",
    "    tek_2_hour_future_pred['STORM-Vals-Vindretn-25km'],\n",
    "\n",
    "    # Nærmeste aromepunkt\n",
    "    \n",
    "    arome_2_hour_future_pred['/arome_windvel_6387_0958'],\n",
    "    arome_2_hour_future_pred['/arome_winddir_6387_0958'],\n",
    "    arome_2_hour_future_pred['/arome_airtemp_6387_0958'],\n",
    "    \n",
    "    arome_2_hour_future_pred['/arome_windvel_6385_0969'],\n",
    "    arome_2_hour_future_pred['/arome_winddir_6385_0969'],\n",
    "    arome_2_hour_future_pred['/arome_airtemp_6385_0969'],\n",
    "    \n",
    "    arome_2_hour_future_pred['/arome_windvel_6383_0964'],\n",
    "    arome_2_hour_future_pred['/arome_winddir_6383_0964'],\n",
    "    arome_2_hour_future_pred['/arome_airtemp_6383_0964'],\n",
    "    \n",
    "    arome_2_hour_future_pred['/arome_windvel_6378_0955'],\n",
    "    arome_2_hour_future_pred['/arome_winddir_6378_0955'],\n",
    "    arome_2_hour_future_pred['/arome_airtemp_6378_0955'],\n",
    "    \n",
    "    \n",
    "    arome_2_hour_future_pred['/arome_windvel_6379_0970'],\n",
    "    arome_2_hour_future_pred['/arome_winddir_6379_0970'],\n",
    "    arome_2_hour_future_pred['/arome_airtemp_6379_0970'],\n",
    "    \n",
    "    \n",
    "\n",
    "    # Target value\n",
    "    tek_2_hour_future_pred['Target']\n",
    "    \n",
    "   ], \n",
    "   axis = 1)"
   ]
  },
  {
   "cell_type": "code",
   "execution_count": 13,
   "metadata": {},
   "outputs": [
    {
     "name": "stdout",
     "output_type": "stream",
     "text": [
      "<class 'pandas.core.frame.DataFrame'>\n",
      "Int64Index: 5237 entries, 0 to 5236\n",
      "Data columns (total 35 columns):\n",
      "VALS-Valsneset..-G1-T4015A3 -0104       5237 non-null float64\n",
      "VALS-Valsneset..-G2-T4015A3 -0104       5237 non-null float64\n",
      "VALS-Valsneset..-G3-T4015A3 -0104       5237 non-null float64\n",
      "VALS-Valsneset..-G4-T4015A3 -0104       5237 non-null float64\n",
      "VALS-Valsneset..-G5-T4015A3 -0104       5237 non-null float64\n",
      "RRS.S2451.Gunit.M1 G1.AVL               5237 non-null int64\n",
      "RRS.S2451.Gunit.M2 G1.AVL               5237 non-null int64\n",
      "RRS.S2451.Gunit.M3 G1.AVL               5237 non-null int64\n",
      "RRS.S2451.Gunit.M4 G1.AVL               5237 non-null int64\n",
      "RRS.S2451.Gunit.M5 G1.AVL               5237 non-null int64\n",
      "VALS-Valsneset..-GS1-5-T4015A3 -0104    5237 non-null float64\n",
      "DNMI_71550...........T0015A3-0120       5237 non-null float64\n",
      "/arome_windvel_6372_0961                5190 non-null float64\n",
      "DNMI_65940...........T0015A3-0120       5237 non-null float64\n",
      "/arome_windvel_6385_0846                5190 non-null float64\n",
      "DNMI_71850...........T0015A3-0120       5237 non-null float64\n",
      "/arome_windvel_6418_0942                5190 non-null float64\n",
      "STORM-Vals-Vindhast-25km                5237 non-null float64\n",
      "STORM-Vals-Vindretn-25km                5237 non-null int64\n",
      "/arome_windvel_6387_0958                5190 non-null float64\n",
      "/arome_winddir_6387_0958                5185 non-null float64\n",
      "/arome_airtemp_6387_0958                5190 non-null float64\n",
      "/arome_windvel_6385_0969                5190 non-null float64\n",
      "/arome_winddir_6385_0969                5185 non-null float64\n",
      "/arome_airtemp_6385_0969                5190 non-null float64\n",
      "/arome_windvel_6383_0964                5190 non-null float64\n",
      "/arome_winddir_6383_0964                5185 non-null float64\n",
      "/arome_airtemp_6383_0964                5190 non-null float64\n",
      "/arome_windvel_6378_0955                5190 non-null float64\n",
      "/arome_winddir_6378_0955                5185 non-null float64\n",
      "/arome_airtemp_6378_0955                5190 non-null float64\n",
      "/arome_windvel_6379_0970                5190 non-null float64\n",
      "/arome_winddir_6379_0970                5185 non-null float64\n",
      "/arome_airtemp_6379_0970                5190 non-null float64\n",
      "Target                                  5237 non-null float64\n",
      "dtypes: float64(29), int64(6)\n",
      "memory usage: 1.4 MB\n"
     ]
    }
   ],
   "source": [
    "data_advanced.info()"
   ]
  },
  {
   "cell_type": "code",
   "execution_count": 14,
   "metadata": {},
   "outputs": [
    {
     "data": {
      "text/html": [
       "<div>\n",
       "<style>\n",
       "    .dataframe thead tr:only-child th {\n",
       "        text-align: right;\n",
       "    }\n",
       "\n",
       "    .dataframe thead th {\n",
       "        text-align: left;\n",
       "    }\n",
       "\n",
       "    .dataframe tbody tr th {\n",
       "        vertical-align: top;\n",
       "    }\n",
       "</style>\n",
       "<table border=\"1\" class=\"dataframe\">\n",
       "  <thead>\n",
       "    <tr style=\"text-align: right;\">\n",
       "      <th></th>\n",
       "      <th>VALS-Valsneset..-G1-T4015A3 -0104</th>\n",
       "      <th>VALS-Valsneset..-G2-T4015A3 -0104</th>\n",
       "      <th>VALS-Valsneset..-G3-T4015A3 -0104</th>\n",
       "      <th>VALS-Valsneset..-G4-T4015A3 -0104</th>\n",
       "      <th>VALS-Valsneset..-G5-T4015A3 -0104</th>\n",
       "      <th>RRS.S2451.Gunit.M1 G1.AVL</th>\n",
       "      <th>RRS.S2451.Gunit.M2 G1.AVL</th>\n",
       "      <th>RRS.S2451.Gunit.M3 G1.AVL</th>\n",
       "      <th>RRS.S2451.Gunit.M4 G1.AVL</th>\n",
       "      <th>RRS.S2451.Gunit.M5 G1.AVL</th>\n",
       "      <th>...</th>\n",
       "      <th>/arome_windvel_6383_0964</th>\n",
       "      <th>/arome_winddir_6383_0964</th>\n",
       "      <th>/arome_airtemp_6383_0964</th>\n",
       "      <th>/arome_windvel_6378_0955</th>\n",
       "      <th>/arome_winddir_6378_0955</th>\n",
       "      <th>/arome_airtemp_6378_0955</th>\n",
       "      <th>/arome_windvel_6379_0970</th>\n",
       "      <th>/arome_winddir_6379_0970</th>\n",
       "      <th>/arome_airtemp_6379_0970</th>\n",
       "      <th>Target</th>\n",
       "    </tr>\n",
       "  </thead>\n",
       "  <tbody>\n",
       "    <tr>\n",
       "      <th>0</th>\n",
       "      <td>1.371880</td>\n",
       "      <td>1.248195</td>\n",
       "      <td>0.0</td>\n",
       "      <td>1.235367</td>\n",
       "      <td>1.314127</td>\n",
       "      <td>1</td>\n",
       "      <td>1</td>\n",
       "      <td>1</td>\n",
       "      <td>1</td>\n",
       "      <td>1</td>\n",
       "      <td>...</td>\n",
       "      <td>5.752372</td>\n",
       "      <td>NaN</td>\n",
       "      <td>12.05117</td>\n",
       "      <td>6.516601</td>\n",
       "      <td>NaN</td>\n",
       "      <td>11.91494</td>\n",
       "      <td>5.248638</td>\n",
       "      <td>NaN</td>\n",
       "      <td>10.49550</td>\n",
       "      <td>5.488140</td>\n",
       "    </tr>\n",
       "    <tr>\n",
       "      <th>1</th>\n",
       "      <td>1.450206</td>\n",
       "      <td>1.447913</td>\n",
       "      <td>0.0</td>\n",
       "      <td>1.272919</td>\n",
       "      <td>1.416992</td>\n",
       "      <td>1</td>\n",
       "      <td>1</td>\n",
       "      <td>1</td>\n",
       "      <td>1</td>\n",
       "      <td>1</td>\n",
       "      <td>...</td>\n",
       "      <td>5.767471</td>\n",
       "      <td>NaN</td>\n",
       "      <td>12.01797</td>\n",
       "      <td>6.211858</td>\n",
       "      <td>NaN</td>\n",
       "      <td>12.06338</td>\n",
       "      <td>5.077352</td>\n",
       "      <td>NaN</td>\n",
       "      <td>10.89640</td>\n",
       "      <td>5.295362</td>\n",
       "    </tr>\n",
       "    <tr>\n",
       "      <th>2</th>\n",
       "      <td>1.431802</td>\n",
       "      <td>1.380060</td>\n",
       "      <td>0.0</td>\n",
       "      <td>1.282400</td>\n",
       "      <td>1.393878</td>\n",
       "      <td>1</td>\n",
       "      <td>1</td>\n",
       "      <td>1</td>\n",
       "      <td>1</td>\n",
       "      <td>1</td>\n",
       "      <td>...</td>\n",
       "      <td>5.840058</td>\n",
       "      <td>NaN</td>\n",
       "      <td>11.31802</td>\n",
       "      <td>6.400788</td>\n",
       "      <td>NaN</td>\n",
       "      <td>10.30580</td>\n",
       "      <td>5.389918</td>\n",
       "      <td>NaN</td>\n",
       "      <td>9.75356</td>\n",
       "      <td>4.938806</td>\n",
       "    </tr>\n",
       "    <tr>\n",
       "      <th>3</th>\n",
       "      <td>1.355955</td>\n",
       "      <td>1.302725</td>\n",
       "      <td>0.0</td>\n",
       "      <td>1.340277</td>\n",
       "      <td>1.296405</td>\n",
       "      <td>1</td>\n",
       "      <td>1</td>\n",
       "      <td>1</td>\n",
       "      <td>1</td>\n",
       "      <td>1</td>\n",
       "      <td>...</td>\n",
       "      <td>5.801629</td>\n",
       "      <td>NaN</td>\n",
       "      <td>12.19130</td>\n",
       "      <td>6.608010</td>\n",
       "      <td>NaN</td>\n",
       "      <td>11.57950</td>\n",
       "      <td>5.233864</td>\n",
       "      <td>NaN</td>\n",
       "      <td>10.39688</td>\n",
       "      <td>3.924535</td>\n",
       "    </tr>\n",
       "    <tr>\n",
       "      <th>4</th>\n",
       "      <td>1.258667</td>\n",
       "      <td>1.225081</td>\n",
       "      <td>0.0</td>\n",
       "      <td>1.276204</td>\n",
       "      <td>1.178854</td>\n",
       "      <td>1</td>\n",
       "      <td>1</td>\n",
       "      <td>1</td>\n",
       "      <td>1</td>\n",
       "      <td>1</td>\n",
       "      <td>...</td>\n",
       "      <td>5.746001</td>\n",
       "      <td>NaN</td>\n",
       "      <td>11.71940</td>\n",
       "      <td>6.552452</td>\n",
       "      <td>NaN</td>\n",
       "      <td>11.48013</td>\n",
       "      <td>5.111751</td>\n",
       "      <td>NaN</td>\n",
       "      <td>10.34730</td>\n",
       "      <td>3.130494</td>\n",
       "    </tr>\n",
       "  </tbody>\n",
       "</table>\n",
       "<p>5 rows × 35 columns</p>\n",
       "</div>"
      ],
      "text/plain": [
       "   VALS-Valsneset..-G1-T4015A3 -0104  VALS-Valsneset..-G2-T4015A3 -0104  \\\n",
       "0                           1.371880                           1.248195   \n",
       "1                           1.450206                           1.447913   \n",
       "2                           1.431802                           1.380060   \n",
       "3                           1.355955                           1.302725   \n",
       "4                           1.258667                           1.225081   \n",
       "\n",
       "   VALS-Valsneset..-G3-T4015A3 -0104  VALS-Valsneset..-G4-T4015A3 -0104  \\\n",
       "0                                0.0                           1.235367   \n",
       "1                                0.0                           1.272919   \n",
       "2                                0.0                           1.282400   \n",
       "3                                0.0                           1.340277   \n",
       "4                                0.0                           1.276204   \n",
       "\n",
       "   VALS-Valsneset..-G5-T4015A3 -0104  RRS.S2451.Gunit.M1 G1.AVL  \\\n",
       "0                           1.314127                          1   \n",
       "1                           1.416992                          1   \n",
       "2                           1.393878                          1   \n",
       "3                           1.296405                          1   \n",
       "4                           1.178854                          1   \n",
       "\n",
       "   RRS.S2451.Gunit.M2 G1.AVL  RRS.S2451.Gunit.M3 G1.AVL  \\\n",
       "0                          1                          1   \n",
       "1                          1                          1   \n",
       "2                          1                          1   \n",
       "3                          1                          1   \n",
       "4                          1                          1   \n",
       "\n",
       "   RRS.S2451.Gunit.M4 G1.AVL  RRS.S2451.Gunit.M5 G1.AVL    ...     \\\n",
       "0                          1                          1    ...      \n",
       "1                          1                          1    ...      \n",
       "2                          1                          1    ...      \n",
       "3                          1                          1    ...      \n",
       "4                          1                          1    ...      \n",
       "\n",
       "   /arome_windvel_6383_0964  /arome_winddir_6383_0964  \\\n",
       "0                  5.752372                       NaN   \n",
       "1                  5.767471                       NaN   \n",
       "2                  5.840058                       NaN   \n",
       "3                  5.801629                       NaN   \n",
       "4                  5.746001                       NaN   \n",
       "\n",
       "   /arome_airtemp_6383_0964  /arome_windvel_6378_0955  \\\n",
       "0                  12.05117                  6.516601   \n",
       "1                  12.01797                  6.211858   \n",
       "2                  11.31802                  6.400788   \n",
       "3                  12.19130                  6.608010   \n",
       "4                  11.71940                  6.552452   \n",
       "\n",
       "   /arome_winddir_6378_0955  /arome_airtemp_6378_0955  \\\n",
       "0                       NaN                  11.91494   \n",
       "1                       NaN                  12.06338   \n",
       "2                       NaN                  10.30580   \n",
       "3                       NaN                  11.57950   \n",
       "4                       NaN                  11.48013   \n",
       "\n",
       "   /arome_windvel_6379_0970  /arome_winddir_6379_0970  \\\n",
       "0                  5.248638                       NaN   \n",
       "1                  5.077352                       NaN   \n",
       "2                  5.389918                       NaN   \n",
       "3                  5.233864                       NaN   \n",
       "4                  5.111751                       NaN   \n",
       "\n",
       "   /arome_airtemp_6379_0970    Target  \n",
       "0                  10.49550  5.488140  \n",
       "1                  10.89640  5.295362  \n",
       "2                   9.75356  4.938806  \n",
       "3                  10.39688  3.924535  \n",
       "4                  10.34730  3.130494  \n",
       "\n",
       "[5 rows x 35 columns]"
      ]
     },
     "execution_count": 14,
     "metadata": {},
     "output_type": "execute_result"
    }
   ],
   "source": [
    "data_advanced.head()"
   ]
  },
  {
   "cell_type": "code",
   "execution_count": 15,
   "metadata": {
    "collapsed": true
   },
   "outputs": [],
   "source": [
    "data_advanced.to_csv('data_valsneset_advanced.csv', sep=';', index = False)"
   ]
  },
  {
   "cell_type": "markdown",
   "metadata": {},
   "source": [
    "## Hva er benchmark for datasettet"
   ]
  },
  {
   "cell_type": "code",
   "execution_count": 16,
   "metadata": {
    "collapsed": true
   },
   "outputs": [],
   "source": [
    "model_value = 'VALS-Valsneset..-GS1-5-T4015A3 -0104'\n",
    "target_value = 'Target'"
   ]
  },
  {
   "cell_type": "code",
   "execution_count": 17,
   "metadata": {
    "collapsed": true
   },
   "outputs": [],
   "source": [
    "sammenligning = pd.concat([df_tek[model_value],tek_2_hour_future_pred[target_value]], axis=1)\n",
    "sammenligning.dropna(inplace= True)"
   ]
  },
  {
   "cell_type": "code",
   "execution_count": 18,
   "metadata": {},
   "outputs": [
    {
     "name": "stdout",
     "output_type": "stream",
     "text": [
      "Mean Absolute Error: \t\t\t 1.26887425823\n",
      "Mean Squared Error: \t\t\t 4.17679748833\n",
      "Root Mean Squared Error: \t\t 2.04372148013\n"
     ]
    }
   ],
   "source": [
    "from sklearn import metrics\n",
    "\n",
    "print('Mean Absolute Error: \\t\\t\\t', metrics.mean_absolute_error(sammenligning[target_value], sammenligning[model_value]))\n",
    "print('Mean Squared Error: \\t\\t\\t', metrics.mean_squared_error(sammenligning[target_value], sammenligning[model_value]))\n",
    "print('Root Mean Squared Error: \\t\\t', np.sqrt(metrics.mean_squared_error(sammenligning[target_value], sammenligning[model_value])))"
   ]
  },
  {
   "cell_type": "code",
   "execution_count": null,
   "metadata": {
    "collapsed": true
   },
   "outputs": [],
   "source": []
  }
 ],
 "metadata": {
  "kernelspec": {
   "display_name": "Python 3",
   "language": "python",
   "name": "python3"
  },
  "language_info": {
   "codemirror_mode": {
    "name": "ipython",
    "version": 3
   },
   "file_extension": ".py",
   "mimetype": "text/x-python",
   "name": "python",
   "nbconvert_exporter": "python",
   "pygments_lexer": "ipython3",
   "version": "3.5.4"
  }
 },
 "nbformat": 4,
 "nbformat_minor": 2
}
