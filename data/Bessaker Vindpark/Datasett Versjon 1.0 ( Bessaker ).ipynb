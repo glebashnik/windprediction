{
 "cells": [
  {
   "cell_type": "markdown",
   "metadata": {},
   "source": [
    "# Datasett Versjon 1.0 ( Bessaker)"
   ]
  },
  {
   "cell_type": "markdown",
   "metadata": {},
   "source": [
    "Tar inn de nye datasettene for å finne ut hva som er forskjellig/likt"
   ]
  },
  {
   "cell_type": "markdown",
   "metadata": {},
   "source": [
    "#### Importerer biblioteker"
   ]
  },
  {
   "cell_type": "code",
   "execution_count": 1,
   "metadata": {
    "collapsed": true
   },
   "outputs": [],
   "source": [
    "import pandas as pd\n",
    "import numpy as np\n",
    "\n",
    "# Visualization\n",
    "import seaborn as sns\n",
    "import matplotlib.pyplot as plt\n",
    "\n",
    "%matplotlib inline\n",
    "\n",
    "# Making plots look better\n",
    "import matplotlib as mpl\n",
    "mpl.rcParams['patch.force_edgecolor'] = True\n",
    "\n",
    "%config InlineBackend.figure_format = 'retina'"
   ]
  },
  {
   "cell_type": "markdown",
   "metadata": {},
   "source": [
    "#### Henter ut ulike datasett"
   ]
  },
  {
   "cell_type": "code",
   "execution_count": 2,
   "metadata": {
    "collapsed": true
   },
   "outputs": [],
   "source": [
    "# TEK (13. Juli 2017 til 16. Desember 2018)\n",
    "df_tek = pd.read_csv('vindkraft 130717-160218 TEK met.csv',sep =';', low_memory = False)\n",
    "    #df_tek.info()\n",
    "    \n",
    "# Arome (1. Spetember til 16. Desember)\n",
    "df_arome = pd.read_csv('vindkraft 130717-160218 arome korr winddir.csv',sep =';', low_memory = False)\n",
    "    #df_tek.info()"
   ]
  },
  {
   "cell_type": "markdown",
   "metadata": {},
   "source": [
    "## Fikser 2 timer frem med værdata"
   ]
  },
  {
   "cell_type": "markdown",
   "metadata": {},
   "source": [
    "#### Arome"
   ]
  },
  {
   "cell_type": "code",
   "execution_count": 3,
   "metadata": {},
   "outputs": [
    {
     "name": "stdout",
     "output_type": "stream",
     "text": [
      "<class 'pandas.core.frame.DataFrame'>\n",
      "RangeIndex: 5237 entries, 0 to 5236\n",
      "Columns: 490 entries, index to /arome_windvel_6573_1232\n",
      "dtypes: float64(488), int64(1), object(1)\n",
      "memory usage: 19.6+ MB\n"
     ]
    }
   ],
   "source": [
    "# Lager en ny dataframe\n",
    "arome_2_hour_future_pred = df_arome.copy(deep=True)\n",
    "\n",
    "# Forskyver to rader ved å fjerne de to første radene\n",
    "arome_2_hour_future_pred.drop([0,1], inplace=True)\n",
    "\n",
    "# Nullindekserer radene\n",
    "arome_2_hour_future_pred.reset_index(inplace=True)\n",
    "\n",
    "arome_2_hour_future_pred.info()"
   ]
  },
  {
   "cell_type": "markdown",
   "metadata": {},
   "source": [
    "#### Tek (2 timer frem)"
   ]
  },
  {
   "cell_type": "code",
   "execution_count": 4,
   "metadata": {},
   "outputs": [
    {
     "name": "stdout",
     "output_type": "stream",
     "text": [
      "<class 'pandas.core.frame.DataFrame'>\n",
      "RangeIndex: 5237 entries, 0 to 5236\n",
      "Columns: 310 entries, index to AnmeldingskorreksjonYtreVikna_ML_train\n",
      "dtypes: float64(224), int64(86)\n",
      "memory usage: 12.4 MB\n"
     ]
    }
   ],
   "source": [
    "# Lager en ny dataframe\n",
    "tek_2_hour_future_pred = df_tek.copy(deep=True)\n",
    "\n",
    "# Forskyver to rader ved å fjerne de to første radene\n",
    "tek_2_hour_future_pred.drop([0,1], inplace=True)\n",
    "\n",
    "# Nullindekserer radene\n",
    "tek_2_hour_future_pred.reset_index(inplace=True)\n",
    "\n",
    "tek_2_hour_future_pred.info()"
   ]
  },
  {
   "cell_type": "markdown",
   "metadata": {},
   "source": [
    "#### Tilpasser eksisterende datasett"
   ]
  },
  {
   "cell_type": "code",
   "execution_count": 5,
   "metadata": {
    "collapsed": true
   },
   "outputs": [],
   "source": [
    "df_tek.drop([5237,5238], inplace= True)"
   ]
  },
  {
   "cell_type": "code",
   "execution_count": 6,
   "metadata": {
    "collapsed": true
   },
   "outputs": [],
   "source": [
    "df_arome.drop([5237,5238], inplace= True)"
   ]
  },
  {
   "cell_type": "code",
   "execution_count": 7,
   "metadata": {
    "collapsed": true
   },
   "outputs": [],
   "source": [
    "tek_2_hour_future_pred['Target'] = tek_2_hour_future_pred['BESS-Bessakerfj.-GS-T4015A3 -0104']"
   ]
  },
  {
   "cell_type": "code",
   "execution_count": null,
   "metadata": {
    "collapsed": true
   },
   "outputs": [],
   "source": []
  },
  {
   "cell_type": "markdown",
   "metadata": {},
   "source": [
    "## 'data_bessaker_simple.csv'"
   ]
  },
  {
   "cell_type": "code",
   "execution_count": 8,
   "metadata": {
    "collapsed": true
   },
   "outputs": [],
   "source": [
    "data_simple = pd.concat([\n",
    "\n",
    "     \n",
    "    # Sum nåværende produksjon \n",
    "    df_tek['BESS-Bessakerfj.-GS-T4015A3 -0104'],\n",
    "\n",
    "    \n",
    "\n",
    "    # Værstasjoner og tilhørende punkter\n",
    "    \n",
    "    # VÆRNES (Koordinater: 63.460, 10.931)\n",
    "    df_tek['DNMI_69100...........T0015A3-0120'],\n",
    "    df_arome['/arome_windvel_6347_1092'],\n",
    "\n",
    "    # ØRLAND III (Koordinater: 63.705, 9.611)\n",
    "    df_tek['DNMI_71550...........T0015A3-0120'],\n",
    "    df_arome['/arome_windvel_6372_0961'],\n",
    "    \n",
    "        \n",
    "    # HALTEN FYR ( Kordinater: 64.173, 9.405 )\n",
    "    df_tek['DNMI_71850...........T0015A3-0120'],\n",
    "    df_arome['/arome_windvel_6413_0933'],\n",
    "    \n",
    "    # BUHOLMRÅSA FYR (kordinater: 64.401, 10.455)\n",
    "    df_tek['DNMI_71990...........T0015A3-0120'],\n",
    "    df_arome['/arome_windvel_6440_1047'],\n",
    "        \n",
    "    \n",
    "    # NAMSOS LUFTHAVN (Koordinater: 64.471, 11.571)\n",
    "    df_tek['DNMI_72580...........T0015A3-0120'],\n",
    "    df_arome['/arome_windvel_6447_1156'],\n",
    "\n",
    "\n",
    "\n",
    "    #Storm værmelding i sentrum av park\n",
    "    tek_2_hour_future_pred['STORM-Bess-Vindretn-25km'],\n",
    "    tek_2_hour_future_pred['STORM-Bess-Vindhast-25km'],\n",
    "    \n",
    "    \n",
    "    \n",
    "                \n",
    "    \n",
    "    # Target value\n",
    "    tek_2_hour_future_pred['Target']\n",
    "    \n",
    "    ], \n",
    "    axis = 1)"
   ]
  },
  {
   "cell_type": "code",
   "execution_count": 9,
   "metadata": {},
   "outputs": [
    {
     "name": "stdout",
     "output_type": "stream",
     "text": [
      "<class 'pandas.core.frame.DataFrame'>\n",
      "Int64Index: 5237 entries, 0 to 5236\n",
      "Data columns (total 14 columns):\n",
      "BESS-Bessakerfj.-GS-T4015A3 -0104    5237 non-null float64\n",
      "DNMI_69100...........T0015A3-0120    5237 non-null float64\n",
      "/arome_windvel_6347_1092             5190 non-null float64\n",
      "DNMI_71550...........T0015A3-0120    5237 non-null float64\n",
      "/arome_windvel_6372_0961             5190 non-null float64\n",
      "DNMI_71850...........T0015A3-0120    5237 non-null float64\n",
      "/arome_windvel_6413_0933             5190 non-null float64\n",
      "DNMI_71990...........T0015A3-0120    5237 non-null float64\n",
      "/arome_windvel_6440_1047             5190 non-null float64\n",
      "DNMI_72580...........T0015A3-0120    5237 non-null float64\n",
      "/arome_windvel_6447_1156             5190 non-null float64\n",
      "STORM-Bess-Vindretn-25km             5237 non-null int64\n",
      "STORM-Bess-Vindhast-25km             5237 non-null float64\n",
      "Target                               5237 non-null float64\n",
      "dtypes: float64(13), int64(1)\n",
      "memory usage: 613.7 KB\n"
     ]
    }
   ],
   "source": [
    "data_simple.info()"
   ]
  },
  {
   "cell_type": "code",
   "execution_count": 10,
   "metadata": {
    "scrolled": true
   },
   "outputs": [
    {
     "data": {
      "text/html": [
       "<div>\n",
       "<style>\n",
       "    .dataframe thead tr:only-child th {\n",
       "        text-align: right;\n",
       "    }\n",
       "\n",
       "    .dataframe thead th {\n",
       "        text-align: left;\n",
       "    }\n",
       "\n",
       "    .dataframe tbody tr th {\n",
       "        vertical-align: top;\n",
       "    }\n",
       "</style>\n",
       "<table border=\"1\" class=\"dataframe\">\n",
       "  <thead>\n",
       "    <tr style=\"text-align: right;\">\n",
       "      <th></th>\n",
       "      <th>BESS-Bessakerfj.-GS-T4015A3 -0104</th>\n",
       "      <th>DNMI_69100...........T0015A3-0120</th>\n",
       "      <th>/arome_windvel_6347_1092</th>\n",
       "      <th>DNMI_71550...........T0015A3-0120</th>\n",
       "      <th>/arome_windvel_6372_0961</th>\n",
       "      <th>DNMI_71850...........T0015A3-0120</th>\n",
       "      <th>/arome_windvel_6413_0933</th>\n",
       "      <th>DNMI_71990...........T0015A3-0120</th>\n",
       "      <th>/arome_windvel_6440_1047</th>\n",
       "      <th>DNMI_72580...........T0015A3-0120</th>\n",
       "      <th>/arome_windvel_6447_1156</th>\n",
       "      <th>STORM-Bess-Vindretn-25km</th>\n",
       "      <th>STORM-Bess-Vindhast-25km</th>\n",
       "      <th>Target</th>\n",
       "    </tr>\n",
       "  </thead>\n",
       "  <tbody>\n",
       "    <tr>\n",
       "      <th>0</th>\n",
       "      <td>22.764865</td>\n",
       "      <td>7.7</td>\n",
       "      <td>4.868781</td>\n",
       "      <td>9.2</td>\n",
       "      <td>5.602640</td>\n",
       "      <td>11.1</td>\n",
       "      <td>8.199251</td>\n",
       "      <td>7.625000</td>\n",
       "      <td>8.372388</td>\n",
       "      <td>4.0</td>\n",
       "      <td>4.454652</td>\n",
       "      <td>322</td>\n",
       "      <td>8.7</td>\n",
       "      <td>24.097782</td>\n",
       "    </tr>\n",
       "    <tr>\n",
       "      <th>1</th>\n",
       "      <td>24.441216</td>\n",
       "      <td>9.2</td>\n",
       "      <td>5.485960</td>\n",
       "      <td>8.3</td>\n",
       "      <td>5.634571</td>\n",
       "      <td>11.0</td>\n",
       "      <td>8.041411</td>\n",
       "      <td>8.133333</td>\n",
       "      <td>7.693827</td>\n",
       "      <td>4.3</td>\n",
       "      <td>4.320184</td>\n",
       "      <td>322</td>\n",
       "      <td>8.8</td>\n",
       "      <td>29.852799</td>\n",
       "    </tr>\n",
       "    <tr>\n",
       "      <th>2</th>\n",
       "      <td>24.097782</td>\n",
       "      <td>7.6</td>\n",
       "      <td>3.839996</td>\n",
       "      <td>9.3</td>\n",
       "      <td>5.831631</td>\n",
       "      <td>10.0</td>\n",
       "      <td>8.016730</td>\n",
       "      <td>7.766667</td>\n",
       "      <td>7.177702</td>\n",
       "      <td>3.6</td>\n",
       "      <td>4.497287</td>\n",
       "      <td>323</td>\n",
       "      <td>8.9</td>\n",
       "      <td>29.481782</td>\n",
       "    </tr>\n",
       "    <tr>\n",
       "      <th>3</th>\n",
       "      <td>29.852799</td>\n",
       "      <td>8.6</td>\n",
       "      <td>4.254050</td>\n",
       "      <td>8.4</td>\n",
       "      <td>5.510204</td>\n",
       "      <td>9.2</td>\n",
       "      <td>8.950912</td>\n",
       "      <td>7.508333</td>\n",
       "      <td>7.785397</td>\n",
       "      <td>2.9</td>\n",
       "      <td>4.947569</td>\n",
       "      <td>325</td>\n",
       "      <td>9.1</td>\n",
       "      <td>30.434999</td>\n",
       "    </tr>\n",
       "    <tr>\n",
       "      <th>4</th>\n",
       "      <td>29.481782</td>\n",
       "      <td>7.4</td>\n",
       "      <td>4.948972</td>\n",
       "      <td>8.9</td>\n",
       "      <td>6.965438</td>\n",
       "      <td>9.9</td>\n",
       "      <td>8.713733</td>\n",
       "      <td>7.783333</td>\n",
       "      <td>6.982527</td>\n",
       "      <td>3.0</td>\n",
       "      <td>4.259005</td>\n",
       "      <td>327</td>\n",
       "      <td>9.4</td>\n",
       "      <td>27.689482</td>\n",
       "    </tr>\n",
       "  </tbody>\n",
       "</table>\n",
       "</div>"
      ],
      "text/plain": [
       "   BESS-Bessakerfj.-GS-T4015A3 -0104  DNMI_69100...........T0015A3-0120  \\\n",
       "0                          22.764865                                7.7   \n",
       "1                          24.441216                                9.2   \n",
       "2                          24.097782                                7.6   \n",
       "3                          29.852799                                8.6   \n",
       "4                          29.481782                                7.4   \n",
       "\n",
       "   /arome_windvel_6347_1092  DNMI_71550...........T0015A3-0120  \\\n",
       "0                  4.868781                                9.2   \n",
       "1                  5.485960                                8.3   \n",
       "2                  3.839996                                9.3   \n",
       "3                  4.254050                                8.4   \n",
       "4                  4.948972                                8.9   \n",
       "\n",
       "   /arome_windvel_6372_0961  DNMI_71850...........T0015A3-0120  \\\n",
       "0                  5.602640                               11.1   \n",
       "1                  5.634571                               11.0   \n",
       "2                  5.831631                               10.0   \n",
       "3                  5.510204                                9.2   \n",
       "4                  6.965438                                9.9   \n",
       "\n",
       "   /arome_windvel_6413_0933  DNMI_71990...........T0015A3-0120  \\\n",
       "0                  8.199251                           7.625000   \n",
       "1                  8.041411                           8.133333   \n",
       "2                  8.016730                           7.766667   \n",
       "3                  8.950912                           7.508333   \n",
       "4                  8.713733                           7.783333   \n",
       "\n",
       "   /arome_windvel_6440_1047  DNMI_72580...........T0015A3-0120  \\\n",
       "0                  8.372388                                4.0   \n",
       "1                  7.693827                                4.3   \n",
       "2                  7.177702                                3.6   \n",
       "3                  7.785397                                2.9   \n",
       "4                  6.982527                                3.0   \n",
       "\n",
       "   /arome_windvel_6447_1156  STORM-Bess-Vindretn-25km  \\\n",
       "0                  4.454652                       322   \n",
       "1                  4.320184                       322   \n",
       "2                  4.497287                       323   \n",
       "3                  4.947569                       325   \n",
       "4                  4.259005                       327   \n",
       "\n",
       "   STORM-Bess-Vindhast-25km     Target  \n",
       "0                       8.7  24.097782  \n",
       "1                       8.8  29.852799  \n",
       "2                       8.9  29.481782  \n",
       "3                       9.1  30.434999  \n",
       "4                       9.4  27.689482  "
      ]
     },
     "execution_count": 10,
     "metadata": {},
     "output_type": "execute_result"
    }
   ],
   "source": [
    "data_simple.head()"
   ]
  },
  {
   "cell_type": "code",
   "execution_count": 11,
   "metadata": {
    "collapsed": true
   },
   "outputs": [],
   "source": [
    "data_simple.to_csv('data_bessaker_simple.csv', sep=';', index = False)"
   ]
  },
  {
   "cell_type": "code",
   "execution_count": null,
   "metadata": {
    "collapsed": true
   },
   "outputs": [],
   "source": []
  },
  {
   "cell_type": "code",
   "execution_count": null,
   "metadata": {
    "collapsed": true
   },
   "outputs": [],
   "source": []
  },
  {
   "cell_type": "markdown",
   "metadata": {
    "collapsed": true
   },
   "source": [
    "## 'data_bessaker_advanced.csv'"
   ]
  },
  {
   "cell_type": "markdown",
   "metadata": {
    "collapsed": true
   },
   "source": [
    "Lager et mer avansert datasett"
   ]
  },
  {
   "cell_type": "code",
   "execution_count": 12,
   "metadata": {
    "collapsed": true
   },
   "outputs": [],
   "source": [
    "data_advanced = pd.concat([\n",
    "\n",
    "    # Enkeltstående turbiner (produksjon + status)\n",
    "    df_tek['BESS-Bessakerfj.-G1-T4015A3 -0104'],\n",
    "    df_tek['RRS.S2464.Gunit.M1-7 G1.AVL'],\n",
    "    \n",
    "    df_tek['BESS-Bessakerfj.-G2-T4015A3 -0104'],\n",
    "    df_tek['RRS.S2464.Gunit.M1-7 G2.AVL'],\n",
    "    \n",
    "    df_tek['BESS-Bessakerfj.-G3-T4015A3 -0104'],\n",
    "    df_tek['RRS.S2464.Gunit.M1-7 G3.AVL'],\n",
    "    \n",
    "    df_tek['BESS-Bessakerfj.-G4-T4015A3 -0104'],\n",
    "    df_tek['RRS.S2464.Gunit.M1-7 G4.AVL'],\n",
    "    \n",
    "    df_tek['BESS-Bessakerfj.-G5-T4015A3 -0104'],\n",
    "    df_tek['RRS.S2464.Gunit.M1-7 G5.AVL'],\n",
    "    \n",
    "    df_tek['BESS-Bessakerfj.-G6-T4015A3 -0104'],\n",
    "    df_tek['RRS.S2464.Gunit.M1-7 G6.AVL'],\n",
    "    \n",
    "    df_tek['BESS-Bessakerfj.-G7-T4015A3 -0104'],\n",
    "    df_tek['RRS.S2464.Gunit.M1-7 G7.AVL'],\n",
    "    \n",
    "    df_tek['BESS-Bessakerfj.-G8-T4015A3 -0104'],\n",
    "    df_tek['RRS.S2464.Gunit.M1-7 G1.AVL'],\n",
    "    \n",
    "    df_tek['BESS-Bessakerfj.-G9-T4015A3 -0104'],\n",
    "    df_tek['RRS.S2464.Gunit.M1-7 G1.AVL'],\n",
    "    \n",
    "    df_tek['BESS-Bessakerfj.-G10T4015A3 -0104'],\n",
    "    df_tek['RRS.S2464.Gunit.M1-7 G1.AVL'],\n",
    "    \n",
    "    df_tek['BESS-Bessakerfj.-G11T4015A3 -0104'],\n",
    "    df_tek['RRS.S2464.Gunit.M1-7 G1.AVL'],\n",
    "    \n",
    "    df_tek['BESS-Bessakerfj.-G12T4015A3 -0104'],\n",
    "    df_tek['RRS.S2464.Gunit.M1-7 G1.AVL'],\n",
    "    \n",
    "    df_tek['BESS-Bessakerfj.-G13T4015A3 -0104'],\n",
    "    df_tek['RRS.S2464.Gunit.M1-7 G1.AVL'],\n",
    "    \n",
    "    df_tek['BESS-Bessakerfj.-G14T4015A3 -0104'],\n",
    "    df_tek['RRS.S2464.Gunit.M1-7 G1.AVL'],\n",
    "    \n",
    "    df_tek['BESS-Bessakerfj.-G15T4015A3 -0104'],\n",
    "    df_tek['RRS.S2464.Gunit.M1-7 G1.AVL'],\n",
    "    \n",
    "    df_tek['BESS-Bessakerfj.-G16T4015A3 -0104'],\n",
    "    df_tek['RRS.S2464.Gunit.M1-7 G1.AVL'],\n",
    "    \n",
    "    df_tek['BESS-Bessakerfj.-G17T4015A3 -0104'],\n",
    "    df_tek['RRS.S2464.Gunit.M1-7 G1.AVL'],\n",
    "    \n",
    "    df_tek['BESS-Bessakerfj.-G18T4015A3 -0104'],\n",
    "    df_tek['RRS.S2464.Gunit.M1-7 G1.AVL'],\n",
    "    \n",
    "    df_tek['BESS-Bessakerfj.-G19T4015A3 -0104'],\n",
    "    df_tek['RRS.S2464.Gunit.M1-7 G1.AVL'],\n",
    "    \n",
    "    df_tek['BESS-Bessakerfj.-G20T4015A3 -0104'],\n",
    "    df_tek['RRS.S2464.Gunit.M1-7 G2.AVL'],\n",
    "    \n",
    "    df_tek['BESS-Bessakerfj.-G21T4015A3 -0104'],\n",
    "    df_tek['RRS.S2464.Gunit.M1-7 G2.AVL'],\n",
    "    \n",
    "    df_tek['BESS-Bessakerfj.-G22T4015A3 -0104'],\n",
    "    df_tek['RRS.S2464.Gunit.M1-7 G2.AVL'],\n",
    "    \n",
    "    df_tek['BESS-Bessakerfj.-G23T4015A3 -0104'],\n",
    "    df_tek['RRS.S2464.Gunit.M1-7 G2.AVL'],\n",
    "    \n",
    "    df_tek['BESS-Bessakerfj.-G24T4015A3 -0104'],\n",
    "    df_tek['RRS.S2464.Gunit.M1-7 G2.AVL'],\n",
    "    \n",
    "    df_tek['BESS-Bessakerfj.-G25T4015A3 -0104'],\n",
    "    df_tek['RRS.S2464.Gunit.M1-7 G2.AVL'],\n",
    "    \n",
    "    \n",
    "    # Sum\n",
    "    df_tek['BESS-Bessakerfj.-GS-T4015A3 -0104'],\n",
    "\n",
    "    \n",
    "\n",
    "    # Værstasjoner og tilhørende aromepunkter\n",
    "    \n",
    "    # VÆRNES (Koordinater: 63.460, 10.931)\n",
    "    df_tek['DNMI_69100...........T0015A3-0120'],\n",
    "    df_arome['/arome_windvel_6347_1092'],\n",
    "\n",
    "    # ØRLAND III (Koordinater: 63.705, 9.611)\n",
    "    df_tek['DNMI_71550...........T0015A3-0120'],\n",
    "    df_arome['/arome_windvel_6372_0961'],\n",
    "    \n",
    "        \n",
    "    # HALTEN FYR ( Kordinater: 64.173, 9.405 )\n",
    "    df_tek['DNMI_71850...........T0015A3-0120'],\n",
    "    df_arome['/arome_windvel_6413_0933'],\n",
    "    \n",
    "    # BUHOLMRÅSA FYR (kordinater: 64.401, 10.455)\n",
    "    df_tek['DNMI_71990...........T0015A3-0120'],\n",
    "    df_arome['/arome_windvel_6440_1047'],\n",
    "        \n",
    "    \n",
    "    # NAMSOS LUFTHAVN (Koordinater: 64.471, 11.571)\n",
    "    df_tek['DNMI_72580...........T0015A3-0120'],\n",
    "    df_arome['/arome_windvel_6447_1156'],\n",
    "\n",
    "\n",
    "\n",
    "    #Storm værmelding i sentrum av park\n",
    "    tek_2_hour_future_pred['STORM-Bess-Vindretn-25km'],\n",
    "    tek_2_hour_future_pred['STORM-Bess-Vindhast-25km'],\n",
    "    \n",
    "    # Arome værmelding nær sentrum av parken\n",
    "    \n",
    "    # Punkt 1\n",
    "    arome_2_hour_future_pred['/arome_windvel_6422_1040'],\n",
    "    arome_2_hour_future_pred['/arome_airtemp_6422_1040'],\n",
    "    \n",
    "    # Punkt 2\n",
    "    arome_2_hour_future_pred['/arome_windvel_6422_1040'],\n",
    "    arome_2_hour_future_pred['/arome_airtemp_6422_1040'],\n",
    "    \n",
    "    \n",
    "    # Sum\n",
    "    df_tek['BESS-Bessakerfj.-GS-T4015A3 -0104'],            \n",
    "    \n",
    "    # Target value\n",
    "    tek_2_hour_future_pred['Target']\n",
    "    \n",
    "    ], \n",
    "    axis = 1)"
   ]
  },
  {
   "cell_type": "code",
   "execution_count": 13,
   "metadata": {},
   "outputs": [
    {
     "name": "stdout",
     "output_type": "stream",
     "text": [
      "<class 'pandas.core.frame.DataFrame'>\n",
      "Int64Index: 5237 entries, 0 to 5236\n",
      "Data columns (total 69 columns):\n",
      "BESS-Bessakerfj.-G1-T4015A3 -0104    5237 non-null float64\n",
      "RRS.S2464.Gunit.M1-7 G1.AVL          5237 non-null int64\n",
      "BESS-Bessakerfj.-G2-T4015A3 -0104    5237 non-null float64\n",
      "RRS.S2464.Gunit.M1-7 G2.AVL          5237 non-null int64\n",
      "BESS-Bessakerfj.-G3-T4015A3 -0104    5237 non-null float64\n",
      "RRS.S2464.Gunit.M1-7 G3.AVL          5237 non-null int64\n",
      "BESS-Bessakerfj.-G4-T4015A3 -0104    5237 non-null float64\n",
      "RRS.S2464.Gunit.M1-7 G4.AVL          5237 non-null int64\n",
      "BESS-Bessakerfj.-G5-T4015A3 -0104    5237 non-null float64\n",
      "RRS.S2464.Gunit.M1-7 G5.AVL          5237 non-null int64\n",
      "BESS-Bessakerfj.-G6-T4015A3 -0104    5237 non-null float64\n",
      "RRS.S2464.Gunit.M1-7 G6.AVL          5237 non-null int64\n",
      "BESS-Bessakerfj.-G7-T4015A3 -0104    5237 non-null float64\n",
      "RRS.S2464.Gunit.M1-7 G7.AVL          5237 non-null int64\n",
      "BESS-Bessakerfj.-G8-T4015A3 -0104    5237 non-null float64\n",
      "RRS.S2464.Gunit.M1-7 G1.AVL          5237 non-null int64\n",
      "BESS-Bessakerfj.-G9-T4015A3 -0104    5237 non-null float64\n",
      "RRS.S2464.Gunit.M1-7 G1.AVL          5237 non-null int64\n",
      "BESS-Bessakerfj.-G10T4015A3 -0104    5237 non-null float64\n",
      "RRS.S2464.Gunit.M1-7 G1.AVL          5237 non-null int64\n",
      "BESS-Bessakerfj.-G11T4015A3 -0104    5237 non-null float64\n",
      "RRS.S2464.Gunit.M1-7 G1.AVL          5237 non-null int64\n",
      "BESS-Bessakerfj.-G12T4015A3 -0104    5237 non-null float64\n",
      "RRS.S2464.Gunit.M1-7 G1.AVL          5237 non-null int64\n",
      "BESS-Bessakerfj.-G13T4015A3 -0104    5237 non-null float64\n",
      "RRS.S2464.Gunit.M1-7 G1.AVL          5237 non-null int64\n",
      "BESS-Bessakerfj.-G14T4015A3 -0104    5237 non-null float64\n",
      "RRS.S2464.Gunit.M1-7 G1.AVL          5237 non-null int64\n",
      "BESS-Bessakerfj.-G15T4015A3 -0104    5237 non-null float64\n",
      "RRS.S2464.Gunit.M1-7 G1.AVL          5237 non-null int64\n",
      "BESS-Bessakerfj.-G16T4015A3 -0104    5237 non-null float64\n",
      "RRS.S2464.Gunit.M1-7 G1.AVL          5237 non-null int64\n",
      "BESS-Bessakerfj.-G17T4015A3 -0104    5237 non-null float64\n",
      "RRS.S2464.Gunit.M1-7 G1.AVL          5237 non-null int64\n",
      "BESS-Bessakerfj.-G18T4015A3 -0104    5237 non-null float64\n",
      "RRS.S2464.Gunit.M1-7 G1.AVL          5237 non-null int64\n",
      "BESS-Bessakerfj.-G19T4015A3 -0104    5236 non-null float64\n",
      "RRS.S2464.Gunit.M1-7 G1.AVL          5237 non-null int64\n",
      "BESS-Bessakerfj.-G20T4015A3 -0104    5236 non-null float64\n",
      "RRS.S2464.Gunit.M1-7 G2.AVL          5237 non-null int64\n",
      "BESS-Bessakerfj.-G21T4015A3 -0104    5237 non-null float64\n",
      "RRS.S2464.Gunit.M1-7 G2.AVL          5237 non-null int64\n",
      "BESS-Bessakerfj.-G22T4015A3 -0104    5237 non-null float64\n",
      "RRS.S2464.Gunit.M1-7 G2.AVL          5237 non-null int64\n",
      "BESS-Bessakerfj.-G23T4015A3 -0104    5237 non-null float64\n",
      "RRS.S2464.Gunit.M1-7 G2.AVL          5237 non-null int64\n",
      "BESS-Bessakerfj.-G24T4015A3 -0104    5237 non-null float64\n",
      "RRS.S2464.Gunit.M1-7 G2.AVL          5237 non-null int64\n",
      "BESS-Bessakerfj.-G25T4015A3 -0104    5237 non-null float64\n",
      "RRS.S2464.Gunit.M1-7 G2.AVL          5237 non-null int64\n",
      "BESS-Bessakerfj.-GS-T4015A3 -0104    5237 non-null float64\n",
      "DNMI_69100...........T0015A3-0120    5237 non-null float64\n",
      "/arome_windvel_6347_1092             5190 non-null float64\n",
      "DNMI_71550...........T0015A3-0120    5237 non-null float64\n",
      "/arome_windvel_6372_0961             5190 non-null float64\n",
      "DNMI_71850...........T0015A3-0120    5237 non-null float64\n",
      "/arome_windvel_6413_0933             5190 non-null float64\n",
      "DNMI_71990...........T0015A3-0120    5237 non-null float64\n",
      "/arome_windvel_6440_1047             5190 non-null float64\n",
      "DNMI_72580...........T0015A3-0120    5237 non-null float64\n",
      "/arome_windvel_6447_1156             5190 non-null float64\n",
      "STORM-Bess-Vindretn-25km             5237 non-null int64\n",
      "STORM-Bess-Vindhast-25km             5237 non-null float64\n",
      "/arome_windvel_6422_1040             5190 non-null float64\n",
      "/arome_airtemp_6422_1040             5190 non-null float64\n",
      "/arome_windvel_6422_1040             5190 non-null float64\n",
      "/arome_airtemp_6422_1040             5190 non-null float64\n",
      "BESS-Bessakerfj.-GS-T4015A3 -0104    5237 non-null float64\n",
      "Target                               5237 non-null float64\n",
      "dtypes: float64(43), int64(26)\n",
      "memory usage: 2.8 MB\n"
     ]
    }
   ],
   "source": [
    "data_advanced.info()"
   ]
  },
  {
   "cell_type": "code",
   "execution_count": 14,
   "metadata": {},
   "outputs": [
    {
     "data": {
      "text/html": [
       "<div>\n",
       "<style>\n",
       "    .dataframe thead tr:only-child th {\n",
       "        text-align: right;\n",
       "    }\n",
       "\n",
       "    .dataframe thead th {\n",
       "        text-align: left;\n",
       "    }\n",
       "\n",
       "    .dataframe tbody tr th {\n",
       "        vertical-align: top;\n",
       "    }\n",
       "</style>\n",
       "<table border=\"1\" class=\"dataframe\">\n",
       "  <thead>\n",
       "    <tr style=\"text-align: right;\">\n",
       "      <th></th>\n",
       "      <th>BESS-Bessakerfj.-G1-T4015A3 -0104</th>\n",
       "      <th>RRS.S2464.Gunit.M1-7 G1.AVL</th>\n",
       "      <th>BESS-Bessakerfj.-G2-T4015A3 -0104</th>\n",
       "      <th>RRS.S2464.Gunit.M1-7 G2.AVL</th>\n",
       "      <th>BESS-Bessakerfj.-G3-T4015A3 -0104</th>\n",
       "      <th>RRS.S2464.Gunit.M1-7 G3.AVL</th>\n",
       "      <th>BESS-Bessakerfj.-G4-T4015A3 -0104</th>\n",
       "      <th>RRS.S2464.Gunit.M1-7 G4.AVL</th>\n",
       "      <th>BESS-Bessakerfj.-G5-T4015A3 -0104</th>\n",
       "      <th>RRS.S2464.Gunit.M1-7 G5.AVL</th>\n",
       "      <th>...</th>\n",
       "      <th>DNMI_72580...........T0015A3-0120</th>\n",
       "      <th>/arome_windvel_6447_1156</th>\n",
       "      <th>STORM-Bess-Vindretn-25km</th>\n",
       "      <th>STORM-Bess-Vindhast-25km</th>\n",
       "      <th>/arome_windvel_6422_1040</th>\n",
       "      <th>/arome_airtemp_6422_1040</th>\n",
       "      <th>/arome_windvel_6422_1040</th>\n",
       "      <th>/arome_airtemp_6422_1040</th>\n",
       "      <th>BESS-Bessakerfj.-GS-T4015A3 -0104</th>\n",
       "      <th>Target</th>\n",
       "    </tr>\n",
       "  </thead>\n",
       "  <tbody>\n",
       "    <tr>\n",
       "      <th>0</th>\n",
       "      <td>1.429567</td>\n",
       "      <td>1</td>\n",
       "      <td>1.530417</td>\n",
       "      <td>1</td>\n",
       "      <td>0.587017</td>\n",
       "      <td>1</td>\n",
       "      <td>1.393733</td>\n",
       "      <td>1</td>\n",
       "      <td>0.593583</td>\n",
       "      <td>1</td>\n",
       "      <td>...</td>\n",
       "      <td>4.0</td>\n",
       "      <td>4.454652</td>\n",
       "      <td>322</td>\n",
       "      <td>8.7</td>\n",
       "      <td>5.189602</td>\n",
       "      <td>8.61660</td>\n",
       "      <td>5.189602</td>\n",
       "      <td>8.61660</td>\n",
       "      <td>22.764865</td>\n",
       "      <td>24.097782</td>\n",
       "    </tr>\n",
       "    <tr>\n",
       "      <th>1</th>\n",
       "      <td>1.428450</td>\n",
       "      <td>1</td>\n",
       "      <td>1.675450</td>\n",
       "      <td>1</td>\n",
       "      <td>0.596433</td>\n",
       "      <td>1</td>\n",
       "      <td>1.440050</td>\n",
       "      <td>1</td>\n",
       "      <td>0.600450</td>\n",
       "      <td>1</td>\n",
       "      <td>...</td>\n",
       "      <td>4.3</td>\n",
       "      <td>4.320184</td>\n",
       "      <td>322</td>\n",
       "      <td>8.8</td>\n",
       "      <td>5.052448</td>\n",
       "      <td>8.73037</td>\n",
       "      <td>5.052448</td>\n",
       "      <td>8.73037</td>\n",
       "      <td>24.441216</td>\n",
       "      <td>29.852799</td>\n",
       "    </tr>\n",
       "    <tr>\n",
       "      <th>2</th>\n",
       "      <td>1.601617</td>\n",
       "      <td>1</td>\n",
       "      <td>1.681950</td>\n",
       "      <td>1</td>\n",
       "      <td>0.598683</td>\n",
       "      <td>1</td>\n",
       "      <td>1.802783</td>\n",
       "      <td>1</td>\n",
       "      <td>0.595733</td>\n",
       "      <td>1</td>\n",
       "      <td>...</td>\n",
       "      <td>3.6</td>\n",
       "      <td>4.497287</td>\n",
       "      <td>323</td>\n",
       "      <td>8.9</td>\n",
       "      <td>5.894857</td>\n",
       "      <td>8.42202</td>\n",
       "      <td>5.894857</td>\n",
       "      <td>8.42202</td>\n",
       "      <td>24.097782</td>\n",
       "      <td>29.481782</td>\n",
       "    </tr>\n",
       "    <tr>\n",
       "      <th>3</th>\n",
       "      <td>1.761867</td>\n",
       "      <td>1</td>\n",
       "      <td>1.763900</td>\n",
       "      <td>1</td>\n",
       "      <td>0.593400</td>\n",
       "      <td>1</td>\n",
       "      <td>1.757700</td>\n",
       "      <td>1</td>\n",
       "      <td>0.597167</td>\n",
       "      <td>1</td>\n",
       "      <td>...</td>\n",
       "      <td>2.9</td>\n",
       "      <td>4.947569</td>\n",
       "      <td>325</td>\n",
       "      <td>9.1</td>\n",
       "      <td>5.470578</td>\n",
       "      <td>8.56190</td>\n",
       "      <td>5.470578</td>\n",
       "      <td>8.56190</td>\n",
       "      <td>29.852799</td>\n",
       "      <td>30.434999</td>\n",
       "    </tr>\n",
       "    <tr>\n",
       "      <th>4</th>\n",
       "      <td>1.767500</td>\n",
       "      <td>1</td>\n",
       "      <td>1.919383</td>\n",
       "      <td>1</td>\n",
       "      <td>0.598250</td>\n",
       "      <td>1</td>\n",
       "      <td>1.764233</td>\n",
       "      <td>1</td>\n",
       "      <td>0.596600</td>\n",
       "      <td>1</td>\n",
       "      <td>...</td>\n",
       "      <td>3.0</td>\n",
       "      <td>4.259005</td>\n",
       "      <td>327</td>\n",
       "      <td>9.4</td>\n",
       "      <td>5.622112</td>\n",
       "      <td>8.48257</td>\n",
       "      <td>5.622112</td>\n",
       "      <td>8.48257</td>\n",
       "      <td>29.481782</td>\n",
       "      <td>27.689482</td>\n",
       "    </tr>\n",
       "  </tbody>\n",
       "</table>\n",
       "<p>5 rows × 69 columns</p>\n",
       "</div>"
      ],
      "text/plain": [
       "   BESS-Bessakerfj.-G1-T4015A3 -0104  RRS.S2464.Gunit.M1-7 G1.AVL  \\\n",
       "0                           1.429567                            1   \n",
       "1                           1.428450                            1   \n",
       "2                           1.601617                            1   \n",
       "3                           1.761867                            1   \n",
       "4                           1.767500                            1   \n",
       "\n",
       "   BESS-Bessakerfj.-G2-T4015A3 -0104  RRS.S2464.Gunit.M1-7 G2.AVL  \\\n",
       "0                           1.530417                            1   \n",
       "1                           1.675450                            1   \n",
       "2                           1.681950                            1   \n",
       "3                           1.763900                            1   \n",
       "4                           1.919383                            1   \n",
       "\n",
       "   BESS-Bessakerfj.-G3-T4015A3 -0104  RRS.S2464.Gunit.M1-7 G3.AVL  \\\n",
       "0                           0.587017                            1   \n",
       "1                           0.596433                            1   \n",
       "2                           0.598683                            1   \n",
       "3                           0.593400                            1   \n",
       "4                           0.598250                            1   \n",
       "\n",
       "   BESS-Bessakerfj.-G4-T4015A3 -0104  RRS.S2464.Gunit.M1-7 G4.AVL  \\\n",
       "0                           1.393733                            1   \n",
       "1                           1.440050                            1   \n",
       "2                           1.802783                            1   \n",
       "3                           1.757700                            1   \n",
       "4                           1.764233                            1   \n",
       "\n",
       "   BESS-Bessakerfj.-G5-T4015A3 -0104  RRS.S2464.Gunit.M1-7 G5.AVL    ...      \\\n",
       "0                           0.593583                            1    ...       \n",
       "1                           0.600450                            1    ...       \n",
       "2                           0.595733                            1    ...       \n",
       "3                           0.597167                            1    ...       \n",
       "4                           0.596600                            1    ...       \n",
       "\n",
       "   DNMI_72580...........T0015A3-0120  /arome_windvel_6447_1156  \\\n",
       "0                                4.0                  4.454652   \n",
       "1                                4.3                  4.320184   \n",
       "2                                3.6                  4.497287   \n",
       "3                                2.9                  4.947569   \n",
       "4                                3.0                  4.259005   \n",
       "\n",
       "   STORM-Bess-Vindretn-25km  STORM-Bess-Vindhast-25km  \\\n",
       "0                       322                       8.7   \n",
       "1                       322                       8.8   \n",
       "2                       323                       8.9   \n",
       "3                       325                       9.1   \n",
       "4                       327                       9.4   \n",
       "\n",
       "   /arome_windvel_6422_1040  /arome_airtemp_6422_1040  \\\n",
       "0                  5.189602                   8.61660   \n",
       "1                  5.052448                   8.73037   \n",
       "2                  5.894857                   8.42202   \n",
       "3                  5.470578                   8.56190   \n",
       "4                  5.622112                   8.48257   \n",
       "\n",
       "   /arome_windvel_6422_1040  /arome_airtemp_6422_1040  \\\n",
       "0                  5.189602                   8.61660   \n",
       "1                  5.052448                   8.73037   \n",
       "2                  5.894857                   8.42202   \n",
       "3                  5.470578                   8.56190   \n",
       "4                  5.622112                   8.48257   \n",
       "\n",
       "   BESS-Bessakerfj.-GS-T4015A3 -0104     Target  \n",
       "0                          22.764865  24.097782  \n",
       "1                          24.441216  29.852799  \n",
       "2                          24.097782  29.481782  \n",
       "3                          29.852799  30.434999  \n",
       "4                          29.481782  27.689482  \n",
       "\n",
       "[5 rows x 69 columns]"
      ]
     },
     "execution_count": 14,
     "metadata": {},
     "output_type": "execute_result"
    }
   ],
   "source": [
    "data_advanced.head()"
   ]
  },
  {
   "cell_type": "code",
   "execution_count": 15,
   "metadata": {
    "collapsed": true
   },
   "outputs": [],
   "source": [
    "data_advanced.to_csv('data_bessaker_advanced.csv', sep=';', index = False)"
   ]
  },
  {
   "cell_type": "code",
   "execution_count": null,
   "metadata": {
    "collapsed": true
   },
   "outputs": [],
   "source": []
  },
  {
   "cell_type": "code",
   "execution_count": null,
   "metadata": {
    "collapsed": true
   },
   "outputs": [],
   "source": []
  },
  {
   "cell_type": "code",
   "execution_count": null,
   "metadata": {
    "collapsed": true
   },
   "outputs": [],
   "source": []
  },
  {
   "cell_type": "code",
   "execution_count": null,
   "metadata": {
    "collapsed": true
   },
   "outputs": [],
   "source": []
  },
  {
   "cell_type": "code",
   "execution_count": null,
   "metadata": {
    "collapsed": true
   },
   "outputs": [],
   "source": []
  },
  {
   "cell_type": "code",
   "execution_count": null,
   "metadata": {
    "collapsed": true
   },
   "outputs": [],
   "source": []
  },
  {
   "cell_type": "code",
   "execution_count": null,
   "metadata": {
    "collapsed": true
   },
   "outputs": [],
   "source": []
  },
  {
   "cell_type": "code",
   "execution_count": null,
   "metadata": {
    "collapsed": true
   },
   "outputs": [],
   "source": []
  },
  {
   "cell_type": "code",
   "execution_count": null,
   "metadata": {
    "collapsed": true
   },
   "outputs": [],
   "source": []
  },
  {
   "cell_type": "code",
   "execution_count": null,
   "metadata": {
    "collapsed": true
   },
   "outputs": [],
   "source": []
  },
  {
   "cell_type": "code",
   "execution_count": null,
   "metadata": {
    "collapsed": true
   },
   "outputs": [],
   "source": []
  },
  {
   "cell_type": "code",
   "execution_count": null,
   "metadata": {
    "collapsed": true
   },
   "outputs": [],
   "source": []
  },
  {
   "cell_type": "code",
   "execution_count": null,
   "metadata": {
    "collapsed": true
   },
   "outputs": [],
   "source": []
  },
  {
   "cell_type": "code",
   "execution_count": null,
   "metadata": {
    "collapsed": true
   },
   "outputs": [],
   "source": []
  },
  {
   "cell_type": "code",
   "execution_count": null,
   "metadata": {
    "collapsed": true
   },
   "outputs": [],
   "source": []
  },
  {
   "cell_type": "code",
   "execution_count": null,
   "metadata": {
    "collapsed": true
   },
   "outputs": [],
   "source": []
  },
  {
   "cell_type": "code",
   "execution_count": null,
   "metadata": {
    "collapsed": true
   },
   "outputs": [],
   "source": []
  },
  {
   "cell_type": "code",
   "execution_count": null,
   "metadata": {
    "collapsed": true
   },
   "outputs": [],
   "source": []
  },
  {
   "cell_type": "code",
   "execution_count": null,
   "metadata": {
    "collapsed": true
   },
   "outputs": [],
   "source": []
  },
  {
   "cell_type": "code",
   "execution_count": null,
   "metadata": {
    "collapsed": true
   },
   "outputs": [],
   "source": []
  },
  {
   "cell_type": "code",
   "execution_count": null,
   "metadata": {
    "collapsed": true
   },
   "outputs": [],
   "source": []
  },
  {
   "cell_type": "code",
   "execution_count": null,
   "metadata": {
    "collapsed": true
   },
   "outputs": [],
   "source": []
  },
  {
   "cell_type": "code",
   "execution_count": null,
   "metadata": {
    "collapsed": true
   },
   "outputs": [],
   "source": []
  },
  {
   "cell_type": "code",
   "execution_count": null,
   "metadata": {
    "collapsed": true
   },
   "outputs": [],
   "source": []
  },
  {
   "cell_type": "code",
   "execution_count": null,
   "metadata": {
    "collapsed": true
   },
   "outputs": [],
   "source": []
  },
  {
   "cell_type": "code",
   "execution_count": null,
   "metadata": {
    "collapsed": true
   },
   "outputs": [],
   "source": []
  },
  {
   "cell_type": "code",
   "execution_count": null,
   "metadata": {
    "collapsed": true
   },
   "outputs": [],
   "source": []
  },
  {
   "cell_type": "code",
   "execution_count": null,
   "metadata": {
    "collapsed": true
   },
   "outputs": [],
   "source": []
  },
  {
   "cell_type": "code",
   "execution_count": null,
   "metadata": {
    "collapsed": true
   },
   "outputs": [],
   "source": []
  },
  {
   "cell_type": "code",
   "execution_count": null,
   "metadata": {
    "collapsed": true
   },
   "outputs": [],
   "source": []
  }
 ],
 "metadata": {
  "kernelspec": {
   "display_name": "Python 3",
   "language": "python",
   "name": "python3"
  },
  "language_info": {
   "codemirror_mode": {
    "name": "ipython",
    "version": 3
   },
   "file_extension": ".py",
   "mimetype": "text/x-python",
   "name": "python",
   "nbconvert_exporter": "python",
   "pygments_lexer": "ipython3",
   "version": "3.5.4"
  }
 },
 "nbformat": 4,
 "nbformat_minor": 2
}
