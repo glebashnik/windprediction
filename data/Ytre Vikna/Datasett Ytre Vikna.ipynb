{
 "cells": [
  {
   "cell_type": "markdown",
   "metadata": {},
   "source": [
    "# Datasett Ytre Vikna"
   ]
  },
  {
   "cell_type": "markdown",
   "metadata": {},
   "source": [
    "Tar inn de nye datasettene for å finne ut hva som er forskjellig/likt"
   ]
  },
  {
   "cell_type": "markdown",
   "metadata": {},
   "source": [
    "#### Importerer biblioteker"
   ]
  },
  {
   "cell_type": "code",
   "execution_count": 1,
   "metadata": {
    "collapsed": true
   },
   "outputs": [],
   "source": [
    "import pandas as pd\n",
    "import numpy as np\n",
    "\n",
    "# Visualization\n",
    "import seaborn as sns\n",
    "import matplotlib.pyplot as plt\n",
    "\n",
    "%matplotlib inline\n",
    "\n",
    "# Making plots look better\n",
    "import matplotlib as mpl\n",
    "mpl.rcParams['patch.force_edgecolor'] = True\n",
    "\n",
    "%config InlineBackend.figure_format = 'retina'"
   ]
  },
  {
   "cell_type": "markdown",
   "metadata": {},
   "source": [
    "#### Henter ut ulike datasett"
   ]
  },
  {
   "cell_type": "code",
   "execution_count": 2,
   "metadata": {
    "collapsed": true
   },
   "outputs": [],
   "source": [
    "# TEK (13. Juli 2017 til 16. Desember 2018)\n",
    "df_tek = pd.read_csv('vindkraft 130717-160218 TEK met.csv',sep =';', low_memory = False)\n",
    "\n",
    "# Arome (1. Spetember til 16. Desember)\n",
    "df_arome = pd.read_csv('vindkraft 130717-160218 arome korr winddir.csv',sep =';', low_memory = False)"
   ]
  },
  {
   "cell_type": "code",
   "execution_count": 3,
   "metadata": {},
   "outputs": [
    {
     "name": "stdout",
     "output_type": "stream",
     "text": [
      "<class 'pandas.core.frame.DataFrame'>\n",
      "RangeIndex: 5239 entries, 0 to 5238\n",
      "Columns: 309 entries, Unnamed: 0 to AnmeldingskorreksjonYtreVikna_ML_train\n",
      "dtypes: float64(224), int64(85)\n",
      "memory usage: 12.4 MB\n"
     ]
    }
   ],
   "source": [
    "df_tek.info()"
   ]
  },
  {
   "cell_type": "code",
   "execution_count": 4,
   "metadata": {},
   "outputs": [
    {
     "name": "stdout",
     "output_type": "stream",
     "text": [
      "<class 'pandas.core.frame.DataFrame'>\n",
      "RangeIndex: 5239 entries, 0 to 5238\n",
      "Columns: 489 entries, Unnamed: 0 to /arome_windvel_6573_1232\n",
      "dtypes: float64(488), object(1)\n",
      "memory usage: 19.5+ MB\n"
     ]
    }
   ],
   "source": [
    "df_arome.info()"
   ]
  },
  {
   "cell_type": "markdown",
   "metadata": {},
   "source": [
    "## Fikser 2 timer frem med værdata"
   ]
  },
  {
   "cell_type": "markdown",
   "metadata": {},
   "source": [
    "#### Arome"
   ]
  },
  {
   "cell_type": "code",
   "execution_count": 5,
   "metadata": {},
   "outputs": [
    {
     "name": "stdout",
     "output_type": "stream",
     "text": [
      "<class 'pandas.core.frame.DataFrame'>\n",
      "RangeIndex: 5237 entries, 0 to 5236\n",
      "Columns: 490 entries, index to /arome_windvel_6573_1232\n",
      "dtypes: float64(488), int64(1), object(1)\n",
      "memory usage: 19.6+ MB\n"
     ]
    }
   ],
   "source": [
    "# Lager en ny dataframe\n",
    "arome_2_hour_future_pred = df_arome.copy(deep=True)\n",
    "\n",
    "# Forskyver to rader ved å fjerne de to første radene\n",
    "arome_2_hour_future_pred.drop([0,1], inplace=True)\n",
    "\n",
    "# Nullindekserer radene\n",
    "arome_2_hour_future_pred.reset_index(inplace=True)\n",
    "\n",
    "arome_2_hour_future_pred.info()"
   ]
  },
  {
   "cell_type": "markdown",
   "metadata": {},
   "source": [
    "#### Tek (2 timer frem)"
   ]
  },
  {
   "cell_type": "code",
   "execution_count": 6,
   "metadata": {},
   "outputs": [
    {
     "name": "stdout",
     "output_type": "stream",
     "text": [
      "<class 'pandas.core.frame.DataFrame'>\n",
      "RangeIndex: 5237 entries, 0 to 5236\n",
      "Columns: 310 entries, index to AnmeldingskorreksjonYtreVikna_ML_train\n",
      "dtypes: float64(224), int64(86)\n",
      "memory usage: 12.4 MB\n"
     ]
    }
   ],
   "source": [
    "# Lager en ny dataframe\n",
    "tek_2_hour_future_pred = df_tek.copy(deep=True)\n",
    "\n",
    "# Forskyver to rader ved å fjerne de to første radene\n",
    "tek_2_hour_future_pred.drop([0,1], inplace=True)\n",
    "\n",
    "# Nullindekserer radene\n",
    "tek_2_hour_future_pred.reset_index(inplace=True)\n",
    "\n",
    "tek_2_hour_future_pred.info()"
   ]
  },
  {
   "cell_type": "markdown",
   "metadata": {},
   "source": [
    "#### Tilpasser eksisterende datasett"
   ]
  },
  {
   "cell_type": "code",
   "execution_count": 7,
   "metadata": {
    "collapsed": true
   },
   "outputs": [],
   "source": [
    "df_tek.drop([5237,5238], inplace= True)"
   ]
  },
  {
   "cell_type": "code",
   "execution_count": 8,
   "metadata": {
    "collapsed": true
   },
   "outputs": [],
   "source": [
    "df_arome.drop([5237,5238], inplace= True)"
   ]
  },
  {
   "cell_type": "code",
   "execution_count": 9,
   "metadata": {
    "collapsed": true
   },
   "outputs": [],
   "source": [
    "tek_2_hour_future_pred['Target'] = tek_2_hour_future_pred['YVIK-YtreVikna1-Sum-produksjon']"
   ]
  },
  {
   "cell_type": "markdown",
   "metadata": {},
   "source": [
    "# ' data_YtreVikna_simple.csv'"
   ]
  },
  {
   "cell_type": "code",
   "execution_count": 10,
   "metadata": {
    "collapsed": true
   },
   "outputs": [],
   "source": [
    "data_simple = pd.concat([\n",
    "\n",
    "    # Sum produksjon\n",
    "    df_tek['YVIK-YtreVikna1-Sum-produksjon'], \n",
    "    \n",
    "    \n",
    "    \n",
    "    # Værstasjoner (I sammenkomst med værmelding (arome) samme punkt )\n",
    "                \n",
    "    # Nord Øya Fyr\n",
    "    df_tek['DNMI_75410...........T0015A3-0120'],\n",
    "    df_arome['/arome_windvel_6481_1056'],\n",
    "    \n",
    "    # Rørvik Lufthavn \n",
    "    df_tek['DNMI_75220...........T0015A3-0120'],\n",
    "    df_arome['/arome_windvel_6482_1114'],\n",
    "    \n",
    "    # Øy i nord\n",
    "    df_tek['DNMI_75550...........T0015A3-0120'],\n",
    "    df_arome['/arome_windvel_6520_1098'],       \n",
    "            \n",
    "    \n",
    "                \n",
    "    # Nærmeste stormpunkt\n",
    "    tek_2_hour_future_pred['STORM-YVik1-Vindhast-25km'],\n",
    "    tek_2_hour_future_pred['STORM-YVik1-Vindretn-25km'],\n",
    "                \n",
    "                \n",
    "    # Nærmeste aromepunkter\n",
    "    arome_2_hour_future_pred['/arome_windvel_6495_1081'],\n",
    "                \n",
    "    arome_2_hour_future_pred['/arome_windvel_6495_1096'],\n",
    "            \n",
    "    arome_2_hour_future_pred['/arome_airtemp_6491_1087'],              \n",
    "    arome_2_hour_future_pred['/arome_windvel_6491_1087'],\n",
    "                              \n",
    "    arome_2_hour_future_pred['/arome_windvel_6486_1082'],\n",
    "                           \n",
    "    arome_2_hour_future_pred['/arome_windvel_6486_1093'],   \n",
    "    \n",
    "    \n",
    "    \n",
    "    # Target value\n",
    "    tek_2_hour_future_pred['Target']\n",
    "    \n",
    "    \n",
    "    ], \n",
    "    axis = 1)"
   ]
  },
  {
   "cell_type": "code",
   "execution_count": 11,
   "metadata": {
    "collapsed": true
   },
   "outputs": [],
   "source": [
    "data_simple.to_csv('data_ytrevikna_simple.csv', sep=';', index = False)"
   ]
  },
  {
   "cell_type": "markdown",
   "metadata": {},
   "source": [
    "# 'data_ytrevikna_advanced.csv'"
   ]
  },
  {
   "cell_type": "code",
   "execution_count": 12,
   "metadata": {
    "collapsed": true
   },
   "outputs": [],
   "source": [
    "data_advanced = pd.concat([\n",
    "                \n",
    "    # De 17 ulike turbinenen (produksjon + status)\n",
    "    df_tek['YVIK-YtreVikna1.-G1-T4015A3 -0104'], \n",
    "    df_tek['RRS.S2502.Gunit.M1 G1.AVL'],   \n",
    "    df_tek['YVIK-YtreVikna1.-G2-T4015A3 -0104'], \n",
    "    df_tek['RRS.S2502.Gunit.M2 G1.AVL'],    \n",
    "    df_tek['YVIK-YtreVikna1.-G3-T4015A3 -0104'], \n",
    "    df_tek['RRS.S2502.Gunit.M3 G1.AVL'],    \n",
    "    df_tek['YVIK-YtreVikna1.-G4-T4015A3 -0104'], \n",
    "    df_tek['RRS.S2502.Gunit.M4 G1.AVL'],\n",
    "    df_tek['YVIK-YtreVikna1.-G5-T4015A3 -0104'], \n",
    "    df_tek['RRS.S2502.Gunit.M5 G1.AVL'],\n",
    "    df_tek['YVIK-YtreVikna1.-G6-T4015A3 -0104'], \n",
    "    df_tek['RRS.S2502.Gunit.M6 G1.AVL'],\n",
    "    df_tek['YVIK-YtreVikna1.-G7-T4015A3 -0104'], \n",
    "    df_tek['RRS.S2502.Gunit.M7 G1.AVL'],\n",
    "    df_tek['YVIK-YtreVikna1.-G8-T4015A3 -0104'], \n",
    "    df_tek['RRS.S2502.Gunit.M8 G1.AVL'],\n",
    "    df_tek['YVIK-YtreVikna1.-G9-T4015A3 -0104'], \n",
    "    df_tek['RRS.S2502.Gunit.M9 G1.AVL'],\n",
    "    df_tek['YVIK-YtreVikna1-G10-T4015A3 -0104'], \n",
    "    df_tek['RRS.S2502.Gunit.M10 G1.AVL'],\n",
    "    df_tek['YVIK-YtreVikna1-G11-T4015A3 -0104'], \n",
    "    df_tek['RRS.S2502.Gunit.M11 G1.AVL'],\n",
    "    df_tek['YVIK-YtreVikna1-G12-T4015A3 -0104'], \n",
    "    df_tek['RRS.S2502.Gunit.M12 G1.AVL'],\n",
    "    df_tek['YVIK-YtreVikna1-G13-T4015A3 -0104'], \n",
    "    df_tek['RRS.S2502.Gunit.M13 G1.AVL'],\n",
    "    df_tek['YVIK-YtreVikna1-G14-T4015A3 -0104'], \n",
    "    df_tek['RRS.S2502.Gunit.M14 G1.AVL'],\n",
    "    df_tek['YVIK-YtreVikna1-G15-T4015A3 -0104'], \n",
    "    df_tek['RRS.S2502.Gunit.M15 G1.AVL'],\n",
    "    df_tek['YVIK-YtreVikna1-G16-T4015A3 -0104'], \n",
    "    df_tek['RRS.S2502.Gunit.M16 G1.AVL'],\n",
    "    df_tek['YVIK-YtreVikna1-G17-T4015A3 -0104'], \n",
    "    df_tek['RRS.S2502.Gunit.M17 G1.AVL'],\n",
    "               \n",
    "\n",
    "    # Sum produksjon\n",
    "    df_tek['YVIK-YtreVikna1-Sum-produksjon'],  \n",
    "\n",
    "    \n",
    "    # Værstasjoner (korigert sammen med aromedata)\n",
    "                \n",
    "    # Nord Øya Fyr\n",
    "    df_tek['DNMI_75410...........T0015A3-0120'],\n",
    "    df_arome['/arome_windvel_6481_1056'],\n",
    "    \n",
    "    # Rørvik Lufthavn \n",
    "    df_tek['DNMI_75220...........T0015A3-0120'],\n",
    "    df_arome['/arome_windvel_6482_1114'],\n",
    "    \n",
    "    # Øy i nord\n",
    "    df_tek['DNMI_75550...........T0015A3-0120'],\n",
    "    df_arome['/arome_windvel_6520_1098'],\n",
    "\n",
    "    \n",
    "    # Nærmeste stormpunkt\n",
    "    tek_2_hour_future_pred['STORM-YVik1-Vindhast-25km'],\n",
    "    tek_2_hour_future_pred['STORM-YVik1-Vindretn-25km'],\n",
    "    \n",
    "    # Nærmeste aromepunkt\n",
    "    arome_2_hour_future_pred['/arome_windvel_6491_1087'],\n",
    "    arome_2_hour_future_pred['/arome_airtemp_6491_1087'],\n",
    "    arome_2_hour_future_pred['/arome_airtemp_6495_1081'],\n",
    "    arome_2_hour_future_pred['/arome_airpress_6495_1081'], \n",
    "    arome_2_hour_future_pred['/arome_winddir_6495_1081'],\n",
    "    arome_2_hour_future_pred['/arome_windvel_6495_1081'],\n",
    "    \n",
    "    arome_2_hour_future_pred['/arome_airtemp_6495_1096'],\n",
    "    arome_2_hour_future_pred['/arome_airpress_6495_1096'], \n",
    "    arome_2_hour_future_pred['/arome_winddir_6495_1096'],\n",
    "    arome_2_hour_future_pred['/arome_windvel_6495_1096'],\n",
    "\n",
    "    arome_2_hour_future_pred['/arome_airtemp_6491_1087'],\n",
    "    arome_2_hour_future_pred['/arome_airpress_6491_1087'], \n",
    "    arome_2_hour_future_pred['/arome_winddir_6491_1087'],\n",
    "    arome_2_hour_future_pred['/arome_windvel_6491_1087'],\n",
    "    \n",
    "    arome_2_hour_future_pred['/arome_airtemp_6486_1082'],\n",
    "    arome_2_hour_future_pred['/arome_airpress_6486_1082'], \n",
    "    arome_2_hour_future_pred['/arome_winddir_6486_1082'],\n",
    "    arome_2_hour_future_pred['/arome_windvel_6486_1082'],\n",
    "    \n",
    "    arome_2_hour_future_pred['/arome_airtemp_6486_1093'],\n",
    "    arome_2_hour_future_pred['/arome_airpress_6486_1093'], \n",
    "    arome_2_hour_future_pred['/arome_winddir_6486_1093'],\n",
    "    arome_2_hour_future_pred['/arome_windvel_6486_1093'],   \n",
    "    \n",
    "    # Target value\n",
    "    tek_2_hour_future_pred['Target']\n",
    "    \n",
    "   ], \n",
    "   axis = 1)"
   ]
  },
  {
   "cell_type": "code",
   "execution_count": 13,
   "metadata": {
    "collapsed": true
   },
   "outputs": [],
   "source": [
    "#data_advanced.info()"
   ]
  },
  {
   "cell_type": "code",
   "execution_count": 14,
   "metadata": {
    "collapsed": true
   },
   "outputs": [],
   "source": [
    "#data_advanced.head()"
   ]
  },
  {
   "cell_type": "code",
   "execution_count": 15,
   "metadata": {
    "collapsed": true
   },
   "outputs": [],
   "source": [
    "data_advanced.to_csv('data_ytrevikna_advanced.csv', sep=';', index = False)"
   ]
  },
  {
   "cell_type": "markdown",
   "metadata": {},
   "source": [
    "## Hva er benchmark for datasettet"
   ]
  },
  {
   "cell_type": "code",
   "execution_count": 16,
   "metadata": {
    "collapsed": true
   },
   "outputs": [],
   "source": [
    "model_value = 'YVIK-YtreVikna1-Sum-produksjon'\n",
    "target_value = 'Target'"
   ]
  },
  {
   "cell_type": "code",
   "execution_count": 17,
   "metadata": {
    "collapsed": true
   },
   "outputs": [],
   "source": [
    "sammenligning = pd.concat([df_tek[model_value],tek_2_hour_future_pred[target_value]], axis=1)\n",
    "sammenligning.dropna(inplace= True)"
   ]
  },
  {
   "cell_type": "code",
   "execution_count": 18,
   "metadata": {},
   "outputs": [
    {
     "name": "stdout",
     "output_type": "stream",
     "text": [
      "Mean Absolute Error: \t\t\t 3.1228303281\n",
      "Mean Squared Error: \t\t\t 23.0012865965\n",
      "Root Mean Squared Error: \t\t 4.7959656584\n"
     ]
    }
   ],
   "source": [
    "from sklearn import metrics\n",
    "\n",
    "print('Mean Absolute Error: \\t\\t\\t', metrics.mean_absolute_error(sammenligning[target_value], sammenligning[model_value]))\n",
    "print('Mean Squared Error: \\t\\t\\t', metrics.mean_squared_error(sammenligning[target_value], sammenligning[model_value]))\n",
    "print('Root Mean Squared Error: \\t\\t', np.sqrt(metrics.mean_squared_error(sammenligning[target_value], sammenligning[model_value])))"
   ]
  },
  {
   "cell_type": "code",
   "execution_count": null,
   "metadata": {
    "collapsed": true
   },
   "outputs": [],
   "source": []
  },
  {
   "cell_type": "markdown",
   "metadata": {},
   "source": [
    "### Single"
   ]
  },
  {
   "cell_type": "code",
   "execution_count": 19,
   "metadata": {
    "collapsed": true
   },
   "outputs": [],
   "source": [
    "tek_2_hour_future_pred['Target'] = tek_2_hour_future_pred['YVIK-YtreVikna1-G17-T4015A3 -0104']"
   ]
  },
  {
   "cell_type": "code",
   "execution_count": 20,
   "metadata": {
    "collapsed": true
   },
   "outputs": [],
   "source": [
    "data_single = pd.concat([\n",
    "                \n",
    "    # De 17 ulike turbinenen (produksjon + status)\n",
    "    df_tek['YVIK-YtreVikna1-G17-T4015A3 -0104'], \n",
    "    df_tek['RRS.S2502.Gunit.M17 G1.AVL'],\n",
    "               \n",
    "\n",
    "\n",
    "    \n",
    "    # Værstasjoner (korigert sammen med aromedata)\n",
    "                \n",
    "    # Nord Øya Fyr\n",
    "    df_tek['DNMI_75410...........T0015A3-0120'],\n",
    "    df_arome['/arome_windvel_6481_1056'],\n",
    "    \n",
    "    # Rørvik Lufthavn \n",
    "    df_tek['DNMI_75220...........T0015A3-0120'],\n",
    "    df_arome['/arome_windvel_6482_1114'],\n",
    "    \n",
    "    # Øy i nord\n",
    "    df_tek['DNMI_75550...........T0015A3-0120'],\n",
    "    df_arome['/arome_windvel_6520_1098'],\n",
    "\n",
    "    \n",
    "    # Nærmeste stormpunkt\n",
    "    tek_2_hour_future_pred['STORM-YVik1-Vindhast-25km'],\n",
    "    tek_2_hour_future_pred['STORM-YVik1-Vindretn-25km'],\n",
    "    \n",
    "    # Nærmeste aromepunkt\n",
    "    arome_2_hour_future_pred['/arome_windvel_6491_1087'],\n",
    "    arome_2_hour_future_pred['/arome_airtemp_6491_1087'],\n",
    "    arome_2_hour_future_pred['/arome_airtemp_6495_1081'],\n",
    "    arome_2_hour_future_pred['/arome_airpress_6495_1081'], \n",
    "    arome_2_hour_future_pred['/arome_winddir_6495_1081'],\n",
    "    arome_2_hour_future_pred['/arome_windvel_6495_1081'],\n",
    "    \n",
    "    arome_2_hour_future_pred['/arome_airtemp_6495_1096'],\n",
    "    arome_2_hour_future_pred['/arome_airpress_6495_1096'], \n",
    "    arome_2_hour_future_pred['/arome_winddir_6495_1096'],\n",
    "    arome_2_hour_future_pred['/arome_windvel_6495_1096'],\n",
    "\n",
    "    arome_2_hour_future_pred['/arome_airtemp_6491_1087'],\n",
    "    arome_2_hour_future_pred['/arome_airpress_6491_1087'], \n",
    "    arome_2_hour_future_pred['/arome_winddir_6491_1087'],\n",
    "    arome_2_hour_future_pred['/arome_windvel_6491_1087'],\n",
    "    \n",
    "    arome_2_hour_future_pred['/arome_airtemp_6486_1082'],\n",
    "    arome_2_hour_future_pred['/arome_airpress_6486_1082'], \n",
    "    arome_2_hour_future_pred['/arome_winddir_6486_1082'],\n",
    "    arome_2_hour_future_pred['/arome_windvel_6486_1082'],\n",
    "    \n",
    "    arome_2_hour_future_pred['/arome_airtemp_6486_1093'],\n",
    "    arome_2_hour_future_pred['/arome_airpress_6486_1093'], \n",
    "    arome_2_hour_future_pred['/arome_winddir_6486_1093'],\n",
    "    arome_2_hour_future_pred['/arome_windvel_6486_1093'],   \n",
    "    \n",
    "    # Target value\n",
    "    tek_2_hour_future_pred['Target']\n",
    "    \n",
    "   ], \n",
    "   axis = 1)"
   ]
  },
  {
   "cell_type": "code",
   "execution_count": 21,
   "metadata": {
    "collapsed": true
   },
   "outputs": [],
   "source": [
    "data_single.to_csv('data_ytrevikna_single.csv', sep=';', index = False)"
   ]
  },
  {
   "cell_type": "markdown",
   "metadata": {},
   "source": [
    "### Benchmarke single"
   ]
  },
  {
   "cell_type": "code",
   "execution_count": 22,
   "metadata": {},
   "outputs": [
    {
     "name": "stdout",
     "output_type": "stream",
     "text": [
      "Mean Absolute Error: \t\t\t 0.217451918096\n",
      "Mean Squared Error: \t\t\t 0.109038791572\n",
      "Root Mean Squared Error: \t\t 0.3302102233\n"
     ]
    }
   ],
   "source": [
    "model_value = 'YVIK-YtreVikna1-G17-T4015A3 -0104'\n",
    "target_value = 'Target'\n",
    "\n",
    "sammenligning = pd.concat([df_tek[model_value],tek_2_hour_future_pred[target_value]], axis=1)\n",
    "sammenligning.dropna(inplace= True)\n",
    "\n",
    "from sklearn import metrics\n",
    "\n",
    "print('Mean Absolute Error: \\t\\t\\t', metrics.mean_absolute_error(sammenligning[target_value], sammenligning[model_value]))\n",
    "print('Mean Squared Error: \\t\\t\\t', metrics.mean_squared_error(sammenligning[target_value], sammenligning[model_value]))\n",
    "print('Root Mean Squared Error: \\t\\t', np.sqrt(metrics.mean_squared_error(sammenligning[target_value], sammenligning[model_value])))"
   ]
  },
  {
   "cell_type": "markdown",
   "metadata": {
    "collapsed": true
   },
   "source": [
    "# Mer manuell feature engineering"
   ]
  },
  {
   "cell_type": "markdown",
   "metadata": {},
   "source": [
    "#### Lage datasett for en time frem"
   ]
  },
  {
   "cell_type": "code",
   "execution_count": null,
   "metadata": {
    "collapsed": true
   },
   "outputs": [],
   "source": []
  },
  {
   "cell_type": "code",
   "execution_count": null,
   "metadata": {
    "collapsed": true
   },
   "outputs": [],
   "source": []
  },
  {
   "cell_type": "code",
   "execution_count": null,
   "metadata": {
    "collapsed": true
   },
   "outputs": [],
   "source": []
  },
  {
   "cell_type": "code",
   "execution_count": null,
   "metadata": {
    "collapsed": true
   },
   "outputs": [],
   "source": []
  },
  {
   "cell_type": "code",
   "execution_count": null,
   "metadata": {
    "collapsed": true
   },
   "outputs": [],
   "source": [
    "data_simple = pd.concat([\n",
    "\n",
    "    # Sum produksjon\n",
    "    df_tek['YVIK-YtreVikna1-Sum-produksjon'], \n",
    "    \n",
    "    \n",
    "    \n",
    "    # Værstasjoner (I sammenkomst med værmelding (arome) samme punkt )\n",
    "                \n",
    "    # Nord Øya Fyr\n",
    "    df_tek['DNMI_75410...........T0015A3-0120'],\n",
    "    df_arome['/arome_windvel_6481_1056'],\n",
    "    \n",
    "    # Rørvik Lufthavn \n",
    "    df_tek['DNMI_75220...........T0015A3-0120'],\n",
    "    df_arome['/arome_windvel_6482_1114'],\n",
    "    \n",
    "    # Øy i nord\n",
    "    df_tek['DNMI_75550...........T0015A3-0120'],\n",
    "    df_arome['/arome_windvel_6520_1098'],       \n",
    "            \n",
    "    \n",
    "                \n",
    "    # Nærmeste stormpunkt\n",
    "    tek_2_hour_future_pred['STORM-YVik1-Vindhast-25km'],\n",
    "    tek_2_hour_future_pred['STORM-YVik1-Vindretn-25km'],\n",
    "                \n",
    "                \n",
    "    # Nærmeste aromepunkter\n",
    "    arome_2_hour_future_pred['/arome_windvel_6495_1081'],\n",
    "                \n",
    "    arome_2_hour_future_pred['/arome_windvel_6495_1096'],\n",
    "            \n",
    "    arome_2_hour_future_pred['/arome_airtemp_6491_1087'],              \n",
    "    arome_2_hour_future_pred['/arome_windvel_6491_1087'],\n",
    "                              \n",
    "    arome_2_hour_future_pred['/arome_windvel_6486_1082'],\n",
    "                           \n",
    "    arome_2_hour_future_pred['/arome_windvel_6486_1093'],   \n",
    "    \n",
    "    \n",
    "    \n",
    "    # Target value\n",
    "    tek_2_hour_future_pred['Target']\n",
    "    \n",
    "    \n",
    "    ], \n",
    "    axis = 1)"
   ]
  },
  {
   "cell_type": "code",
   "execution_count": null,
   "metadata": {
    "collapsed": true
   },
   "outputs": [],
   "source": []
  },
  {
   "cell_type": "code",
   "execution_count": null,
   "metadata": {
    "collapsed": true
   },
   "outputs": [],
   "source": []
  },
  {
   "cell_type": "code",
   "execution_count": null,
   "metadata": {
    "collapsed": true
   },
   "outputs": [],
   "source": []
  },
  {
   "cell_type": "code",
   "execution_count": null,
   "metadata": {
    "collapsed": true
   },
   "outputs": [],
   "source": []
  },
  {
   "cell_type": "code",
   "execution_count": null,
   "metadata": {
    "collapsed": true
   },
   "outputs": [],
   "source": []
  },
  {
   "cell_type": "code",
   "execution_count": null,
   "metadata": {
    "collapsed": true
   },
   "outputs": [],
   "source": []
  }
 ],
 "metadata": {
  "kernelspec": {
   "display_name": "Python 3",
   "language": "python",
   "name": "python3"
  },
  "language_info": {
   "codemirror_mode": {
    "name": "ipython",
    "version": 3
   },
   "file_extension": ".py",
   "mimetype": "text/x-python",
   "name": "python",
   "nbconvert_exporter": "python",
   "pygments_lexer": "ipython3",
   "version": "3.5.4"
  }
 },
 "nbformat": 4,
 "nbformat_minor": 2
}
