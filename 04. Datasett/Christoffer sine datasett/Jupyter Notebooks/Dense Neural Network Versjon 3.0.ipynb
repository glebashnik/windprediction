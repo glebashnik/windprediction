{
 "cells": [
  {
   "cell_type": "markdown",
   "metadata": {},
   "source": [
    "# Dense Neural Network Versjon 3.0"
   ]
  },
  {
   "cell_type": "markdown",
   "metadata": {},
   "source": [
    "Denne gangen tar jeg inn 5 punker. Et nærme vindparken, og 4 punkter i en firkant rundt vindparken. Tanken er at informasjonen om være fra de nærliggende punktene i aromemodellen vil være bedre enn kun nærmeste punkt."
   ]
  },
  {
   "cell_type": "markdown",
   "metadata": {},
   "source": [
    "#### Importering av biblioteker"
   ]
  },
  {
   "cell_type": "code",
   "execution_count": 1,
   "metadata": {
    "collapsed": true
   },
   "outputs": [],
   "source": [
    "import pandas as pd\n",
    "import numpy as np\n",
    "\n",
    "# Visualization\n",
    "#import seaborn as sns\n",
    "import matplotlib.pyplot as plt\n",
    "\n",
    "%matplotlib inline\n",
    "\n",
    "# Making plots look better\n",
    "import matplotlib as mpl\n",
    "mpl.rcParams['patch.force_edgecolor'] = True\n",
    "\n",
    "%config InlineBackend.figure_format = 'retina'"
   ]
  },
  {
   "cell_type": "markdown",
   "metadata": {},
   "source": [
    "#### Innlasting av datasett"
   ]
  },
  {
   "cell_type": "code",
   "execution_count": 2,
   "metadata": {
    "collapsed": true
   },
   "outputs": [],
   "source": [
    "# TEK (1. Spetember til 18. Desember)\n",
    "df_tek = pd.read_csv('vindkraft 181217 TEK met.csv',sep =';', low_memory = False)\n",
    "    #df_tek.info()\n",
    "\n",
    "# TEK (delayed 2 hours)\n",
    "df_tek_delayed = pd.read_csv('vindkraft 181217 TEK met delayed.csv',sep =',', low_memory = False)\n",
    "    #df_tek_delayed.info()\n",
    "\n",
    "# AROME Værdata (1. Spetember til 18. Desember)\n",
    "df_arome = pd.read_csv('vindkraft 181217 arome.csv',sep =';', low_memory = False)\n",
    "    #df_arome.info()"
   ]
  },
  {
   "cell_type": "markdown",
   "metadata": {},
   "source": [
    "#### Samling av datasett"
   ]
  },
  {
   "cell_type": "code",
   "execution_count": 3,
   "metadata": {
    "collapsed": true
   },
   "outputs": [],
   "source": [
    "# Legger inn den forsinkede produksjonen som del av datasettet arome\n",
    "df_arome['production_delayed_2_hours'] = df_tek_delayed['YVIK-YtreVikna1-Sum-produksjon']"
   ]
  },
  {
   "cell_type": "code",
   "execution_count": 5,
   "metadata": {},
   "outputs": [],
   "source": [
    "df = pd.concat([\n",
    "                \n",
    "                df_arome['/arome_airtemp_6495_1081'],\n",
    "                df_arome['/arome_airpress_6495_1081'], \n",
    "                df_arome['/arome_winddir_6495_1081'],\n",
    "                df_arome['/arome_windvel_6495_1081'],\n",
    "                \n",
    "                df_arome['/arome_airtemp_6495_1096'],\n",
    "                df_arome['/arome_airpress_6495_1096'], \n",
    "                df_arome['/arome_winddir_6495_1096'],\n",
    "                df_arome['/arome_windvel_6495_1096'],\n",
    "            \n",
    "                df_arome['/arome_airtemp_6491_1087'],\n",
    "                df_arome['/arome_airpress_6491_1087'], \n",
    "                df_arome['/arome_winddir_6491_1087'],\n",
    "                df_arome['/arome_windvel_6491_1087'],\n",
    "                \n",
    "                df_arome['/arome_airtemp_6486_1082'],\n",
    "                df_arome['/arome_airpress_6486_1082'], \n",
    "                df_arome['/arome_winddir_6486_1082'],\n",
    "                df_arome['/arome_windvel_6486_1082'],\n",
    "                \n",
    "                df_arome['/arome_airtemp_6486_1093'],\n",
    "                df_arome['/arome_airpress_6486_1093'], \n",
    "                df_arome['/arome_winddir_6486_1093'],\n",
    "                df_arome['/arome_windvel_6486_1093'],\n",
    "    \n",
    "                df_arome['production_delayed_2_hours'],\n",
    "                               \n",
    "                df_tek['YVIK-YtreVikna1-Sum-produksjon']\n",
    "    \n",
    "               ],\n",
    "    \n",
    "               axis = 1)"
   ]
  },
  {
   "cell_type": "code",
   "execution_count": 6,
   "metadata": {},
   "outputs": [
    {
     "data": {
      "text/html": [
       "<div>\n",
       "<style>\n",
       "    .dataframe thead tr:only-child th {\n",
       "        text-align: right;\n",
       "    }\n",
       "\n",
       "    .dataframe thead th {\n",
       "        text-align: left;\n",
       "    }\n",
       "\n",
       "    .dataframe tbody tr th {\n",
       "        vertical-align: top;\n",
       "    }\n",
       "</style>\n",
       "<table border=\"1\" class=\"dataframe\">\n",
       "  <thead>\n",
       "    <tr style=\"text-align: right;\">\n",
       "      <th></th>\n",
       "      <th>/arome_airtemp_6495_1081</th>\n",
       "      <th>/arome_airpress_6495_1081</th>\n",
       "      <th>/arome_winddir_6495_1081</th>\n",
       "      <th>/arome_windvel_6495_1081</th>\n",
       "      <th>/arome_airtemp_6495_1096</th>\n",
       "      <th>/arome_airpress_6495_1096</th>\n",
       "      <th>/arome_winddir_6495_1096</th>\n",
       "      <th>/arome_windvel_6495_1096</th>\n",
       "      <th>/arome_airtemp_6491_1087</th>\n",
       "      <th>/arome_airpress_6491_1087</th>\n",
       "      <th>...</th>\n",
       "      <th>/arome_airtemp_6486_1082</th>\n",
       "      <th>/arome_airpress_6486_1082</th>\n",
       "      <th>/arome_winddir_6486_1082</th>\n",
       "      <th>/arome_windvel_6486_1082</th>\n",
       "      <th>/arome_airtemp_6486_1093</th>\n",
       "      <th>/arome_airpress_6486_1093</th>\n",
       "      <th>/arome_winddir_6486_1093</th>\n",
       "      <th>/arome_windvel_6486_1093</th>\n",
       "      <th>production_delayed_2_hours</th>\n",
       "      <th>YVIK-YtreVikna1-Sum-produksjon</th>\n",
       "    </tr>\n",
       "  </thead>\n",
       "  <tbody>\n",
       "    <tr>\n",
       "      <th>0</th>\n",
       "      <td>11.60366</td>\n",
       "      <td>1008.76690</td>\n",
       "      <td>61.073106</td>\n",
       "      <td>2.742030</td>\n",
       "      <td>10.26430</td>\n",
       "      <td>1008.38190</td>\n",
       "      <td>29.830907</td>\n",
       "      <td>1.908252</td>\n",
       "      <td>9.33022</td>\n",
       "      <td>1004.84190</td>\n",
       "      <td>...</td>\n",
       "      <td>10.05776</td>\n",
       "      <td>1006.25690</td>\n",
       "      <td>69.174579</td>\n",
       "      <td>2.394239</td>\n",
       "      <td>9.99966</td>\n",
       "      <td>1006.99190</td>\n",
       "      <td>71.704773</td>\n",
       "      <td>1.345890</td>\n",
       "      <td>NaN</td>\n",
       "      <td>1.806583</td>\n",
       "    </tr>\n",
       "    <tr>\n",
       "      <th>1</th>\n",
       "      <td>11.56582</td>\n",
       "      <td>1008.96500</td>\n",
       "      <td>82.675463</td>\n",
       "      <td>2.908815</td>\n",
       "      <td>10.67080</td>\n",
       "      <td>1008.54500</td>\n",
       "      <td>45.540061</td>\n",
       "      <td>1.983691</td>\n",
       "      <td>9.78360</td>\n",
       "      <td>1005.00000</td>\n",
       "      <td>...</td>\n",
       "      <td>10.22256</td>\n",
       "      <td>1006.43500</td>\n",
       "      <td>72.975386</td>\n",
       "      <td>2.165520</td>\n",
       "      <td>10.39297</td>\n",
       "      <td>1007.21000</td>\n",
       "      <td>75.288555</td>\n",
       "      <td>1.771776</td>\n",
       "      <td>NaN</td>\n",
       "      <td>1.804100</td>\n",
       "    </tr>\n",
       "    <tr>\n",
       "      <th>2</th>\n",
       "      <td>11.46353</td>\n",
       "      <td>1009.08375</td>\n",
       "      <td>277.104771</td>\n",
       "      <td>2.725044</td>\n",
       "      <td>10.80630</td>\n",
       "      <td>1008.63375</td>\n",
       "      <td>65.806289</td>\n",
       "      <td>1.712978</td>\n",
       "      <td>9.93423</td>\n",
       "      <td>1005.10375</td>\n",
       "      <td>...</td>\n",
       "      <td>10.24722</td>\n",
       "      <td>1006.51375</td>\n",
       "      <td>78.588473</td>\n",
       "      <td>2.301872</td>\n",
       "      <td>10.43520</td>\n",
       "      <td>1007.24375</td>\n",
       "      <td>77.689848</td>\n",
       "      <td>1.352903</td>\n",
       "      <td>1.806583</td>\n",
       "      <td>1.992983</td>\n",
       "    </tr>\n",
       "    <tr>\n",
       "      <th>3</th>\n",
       "      <td>10.91860</td>\n",
       "      <td>1009.10440</td>\n",
       "      <td>303.729117</td>\n",
       "      <td>2.265309</td>\n",
       "      <td>10.69106</td>\n",
       "      <td>1008.64940</td>\n",
       "      <td>89.144674</td>\n",
       "      <td>2.221644</td>\n",
       "      <td>10.30680</td>\n",
       "      <td>1005.12440</td>\n",
       "      <td>...</td>\n",
       "      <td>10.18618</td>\n",
       "      <td>1006.51940</td>\n",
       "      <td>275.384765</td>\n",
       "      <td>2.295001</td>\n",
       "      <td>10.24917</td>\n",
       "      <td>1007.23440</td>\n",
       "      <td>84.743487</td>\n",
       "      <td>1.497224</td>\n",
       "      <td>1.804100</td>\n",
       "      <td>2.244483</td>\n",
       "    </tr>\n",
       "    <tr>\n",
       "      <th>4</th>\n",
       "      <td>10.76480</td>\n",
       "      <td>1009.44440</td>\n",
       "      <td>308.363350</td>\n",
       "      <td>2.863504</td>\n",
       "      <td>10.99673</td>\n",
       "      <td>1008.95940</td>\n",
       "      <td>308.525511</td>\n",
       "      <td>3.360517</td>\n",
       "      <td>10.62660</td>\n",
       "      <td>1005.48440</td>\n",
       "      <td>...</td>\n",
       "      <td>10.47964</td>\n",
       "      <td>1006.90440</td>\n",
       "      <td>305.229910</td>\n",
       "      <td>2.906496</td>\n",
       "      <td>10.18960</td>\n",
       "      <td>1007.57940</td>\n",
       "      <td>298.417648</td>\n",
       "      <td>1.474148</td>\n",
       "      <td>1.992983</td>\n",
       "      <td>6.783783</td>\n",
       "    </tr>\n",
       "  </tbody>\n",
       "</table>\n",
       "<p>5 rows × 22 columns</p>\n",
       "</div>"
      ],
      "text/plain": [
       "   /arome_airtemp_6495_1081  /arome_airpress_6495_1081  \\\n",
       "0                  11.60366                 1008.76690   \n",
       "1                  11.56582                 1008.96500   \n",
       "2                  11.46353                 1009.08375   \n",
       "3                  10.91860                 1009.10440   \n",
       "4                  10.76480                 1009.44440   \n",
       "\n",
       "   /arome_winddir_6495_1081  /arome_windvel_6495_1081  \\\n",
       "0                 61.073106                  2.742030   \n",
       "1                 82.675463                  2.908815   \n",
       "2                277.104771                  2.725044   \n",
       "3                303.729117                  2.265309   \n",
       "4                308.363350                  2.863504   \n",
       "\n",
       "   /arome_airtemp_6495_1096  /arome_airpress_6495_1096  \\\n",
       "0                  10.26430                 1008.38190   \n",
       "1                  10.67080                 1008.54500   \n",
       "2                  10.80630                 1008.63375   \n",
       "3                  10.69106                 1008.64940   \n",
       "4                  10.99673                 1008.95940   \n",
       "\n",
       "   /arome_winddir_6495_1096  /arome_windvel_6495_1096  \\\n",
       "0                 29.830907                  1.908252   \n",
       "1                 45.540061                  1.983691   \n",
       "2                 65.806289                  1.712978   \n",
       "3                 89.144674                  2.221644   \n",
       "4                308.525511                  3.360517   \n",
       "\n",
       "   /arome_airtemp_6491_1087  /arome_airpress_6491_1087  \\\n",
       "0                   9.33022                 1004.84190   \n",
       "1                   9.78360                 1005.00000   \n",
       "2                   9.93423                 1005.10375   \n",
       "3                  10.30680                 1005.12440   \n",
       "4                  10.62660                 1005.48440   \n",
       "\n",
       "                ...                /arome_airtemp_6486_1082  \\\n",
       "0               ...                                10.05776   \n",
       "1               ...                                10.22256   \n",
       "2               ...                                10.24722   \n",
       "3               ...                                10.18618   \n",
       "4               ...                                10.47964   \n",
       "\n",
       "   /arome_airpress_6486_1082  /arome_winddir_6486_1082  \\\n",
       "0                 1006.25690                 69.174579   \n",
       "1                 1006.43500                 72.975386   \n",
       "2                 1006.51375                 78.588473   \n",
       "3                 1006.51940                275.384765   \n",
       "4                 1006.90440                305.229910   \n",
       "\n",
       "   /arome_windvel_6486_1082  /arome_airtemp_6486_1093  \\\n",
       "0                  2.394239                   9.99966   \n",
       "1                  2.165520                  10.39297   \n",
       "2                  2.301872                  10.43520   \n",
       "3                  2.295001                  10.24917   \n",
       "4                  2.906496                  10.18960   \n",
       "\n",
       "   /arome_airpress_6486_1093  /arome_winddir_6486_1093  \\\n",
       "0                 1006.99190                 71.704773   \n",
       "1                 1007.21000                 75.288555   \n",
       "2                 1007.24375                 77.689848   \n",
       "3                 1007.23440                 84.743487   \n",
       "4                 1007.57940                298.417648   \n",
       "\n",
       "   /arome_windvel_6486_1093  production_delayed_2_hours  \\\n",
       "0                  1.345890                         NaN   \n",
       "1                  1.771776                         NaN   \n",
       "2                  1.352903                    1.806583   \n",
       "3                  1.497224                    1.804100   \n",
       "4                  1.474148                    1.992983   \n",
       "\n",
       "   YVIK-YtreVikna1-Sum-produksjon  \n",
       "0                        1.806583  \n",
       "1                        1.804100  \n",
       "2                        1.992983  \n",
       "3                        2.244483  \n",
       "4                        6.783783  \n",
       "\n",
       "[5 rows x 22 columns]"
      ]
     },
     "execution_count": 6,
     "metadata": {},
     "output_type": "execute_result"
    }
   ],
   "source": [
    "df.head()"
   ]
  },
  {
   "cell_type": "markdown",
   "metadata": {},
   "source": [
    "#### Vaske sammenstilte data"
   ]
  },
  {
   "cell_type": "code",
   "execution_count": 10,
   "metadata": {
    "collapsed": true
   },
   "outputs": [],
   "source": [
    "cleaned_dataframe = df.dropna()"
   ]
  },
  {
   "cell_type": "code",
   "execution_count": 11,
   "metadata": {},
   "outputs": [
    {
     "data": {
      "text/plain": [
       "Index(['/arome_airtemp_6495_1081', '/arome_airpress_6495_1081',\n",
       "       '/arome_winddir_6495_1081', '/arome_windvel_6495_1081',\n",
       "       '/arome_airtemp_6495_1096', '/arome_airpress_6495_1096',\n",
       "       '/arome_winddir_6495_1096', '/arome_windvel_6495_1096',\n",
       "       '/arome_airtemp_6491_1087', '/arome_airpress_6491_1087',\n",
       "       '/arome_winddir_6491_1087', '/arome_windvel_6491_1087',\n",
       "       '/arome_airtemp_6486_1082', '/arome_airpress_6486_1082',\n",
       "       '/arome_winddir_6486_1082', '/arome_windvel_6486_1082',\n",
       "       '/arome_airtemp_6486_1093', '/arome_airpress_6486_1093',\n",
       "       '/arome_winddir_6486_1093', '/arome_windvel_6486_1093',\n",
       "       'production_delayed_2_hours', 'YVIK-YtreVikna1-Sum-produksjon'],\n",
       "      dtype='object')"
      ]
     },
     "execution_count": 11,
     "metadata": {},
     "output_type": "execute_result"
    }
   ],
   "source": [
    "cleaned_dataframe.columns"
   ]
  },
  {
   "cell_type": "code",
   "execution_count": 9,
   "metadata": {},
   "outputs": [],
   "source": [
    "#cleaned_dataframe.count()"
   ]
  },
  {
   "cell_type": "markdown",
   "metadata": {},
   "source": [
    "#### Dele datasett i et X- og Y-datasett"
   ]
  },
  {
   "cell_type": "code",
   "execution_count": 12,
   "metadata": {
    "collapsed": true
   },
   "outputs": [],
   "source": [
    "x = cleaned_dataframe[['/arome_airtemp_6495_1081', '/arome_airpress_6495_1081',\n",
    "       '/arome_winddir_6495_1081', '/arome_windvel_6495_1081',\n",
    "       '/arome_airtemp_6495_1096', '/arome_airpress_6495_1096',\n",
    "       '/arome_winddir_6495_1096', '/arome_windvel_6495_1096',\n",
    "       '/arome_airtemp_6491_1087', '/arome_airpress_6491_1087',\n",
    "       '/arome_winddir_6491_1087', '/arome_windvel_6491_1087',\n",
    "       '/arome_airtemp_6486_1082', '/arome_airpress_6486_1082',\n",
    "       '/arome_winddir_6486_1082', '/arome_windvel_6486_1082',\n",
    "       '/arome_airtemp_6486_1093', '/arome_airpress_6486_1093',\n",
    "       '/arome_winddir_6486_1093', '/arome_windvel_6486_1093',\n",
    "       'production_delayed_2_hours']]\n",
    "y = cleaned_dataframe['YVIK-YtreVikna1-Sum-produksjon']"
   ]
  },
  {
   "cell_type": "markdown",
   "metadata": {},
   "source": [
    "#### Train/Test Split"
   ]
  },
  {
   "cell_type": "code",
   "execution_count": 13,
   "metadata": {
    "collapsed": true
   },
   "outputs": [],
   "source": [
    "from sklearn.model_selection import train_test_split"
   ]
  },
  {
   "cell_type": "code",
   "execution_count": 80,
   "metadata": {
    "collapsed": true
   },
   "outputs": [],
   "source": [
    "X_train, X_test, y_train, y_test = train_test_split(x, y, test_size=0.3, random_state = 67)"
   ]
  },
  {
   "cell_type": "markdown",
   "metadata": {},
   "source": [
    "#### Skalere data"
   ]
  },
  {
   "cell_type": "code",
   "execution_count": 15,
   "metadata": {
    "collapsed": true
   },
   "outputs": [],
   "source": [
    "from sklearn.preprocessing import MinMaxScaler"
   ]
  },
  {
   "cell_type": "code",
   "execution_count": 16,
   "metadata": {
    "collapsed": true
   },
   "outputs": [],
   "source": [
    "scaler = MinMaxScaler()"
   ]
  },
  {
   "cell_type": "code",
   "execution_count": 81,
   "metadata": {},
   "outputs": [
    {
     "data": {
      "text/plain": [
       "MinMaxScaler(copy=True, feature_range=(0, 1))"
      ]
     },
     "execution_count": 81,
     "metadata": {},
     "output_type": "execute_result"
    }
   ],
   "source": [
    "scaler.fit(X_train)"
   ]
  },
  {
   "cell_type": "code",
   "execution_count": 82,
   "metadata": {
    "collapsed": true
   },
   "outputs": [],
   "source": [
    "X_train = pd.DataFrame(data=scaler.transform(X_train),columns = X_train.columns,index=X_train.index)"
   ]
  },
  {
   "cell_type": "code",
   "execution_count": 83,
   "metadata": {
    "collapsed": true
   },
   "outputs": [],
   "source": [
    "X_test = pd.DataFrame(data=scaler.transform(X_test),columns = X_test.columns,index=X_test.index)"
   ]
  },
  {
   "cell_type": "markdown",
   "metadata": {},
   "source": [
    "## Lage modellen og trene modellen ( TensorFlow )"
   ]
  },
  {
   "cell_type": "code",
   "execution_count": 20,
   "metadata": {
    "collapsed": true
   },
   "outputs": [],
   "source": [
    "import tensorflow as tf"
   ]
  },
  {
   "cell_type": "markdown",
   "metadata": {},
   "source": [
    "#### Lage feature columns"
   ]
  },
  {
   "cell_type": "code",
   "execution_count": 21,
   "metadata": {},
   "outputs": [
    {
     "data": {
      "text/plain": [
       "Index(['/arome_airtemp_6495_1081', '/arome_airpress_6495_1081',\n",
       "       '/arome_winddir_6495_1081', '/arome_windvel_6495_1081',\n",
       "       '/arome_airtemp_6495_1096', '/arome_airpress_6495_1096',\n",
       "       '/arome_winddir_6495_1096', '/arome_windvel_6495_1096',\n",
       "       '/arome_airtemp_6491_1087', '/arome_airpress_6491_1087',\n",
       "       '/arome_winddir_6491_1087', '/arome_windvel_6491_1087',\n",
       "       '/arome_airtemp_6486_1082', '/arome_airpress_6486_1082',\n",
       "       '/arome_winddir_6486_1082', '/arome_windvel_6486_1082',\n",
       "       '/arome_airtemp_6486_1093', '/arome_airpress_6486_1093',\n",
       "       '/arome_winddir_6486_1093', '/arome_windvel_6486_1093',\n",
       "       'production_delayed_2_hours', 'YVIK-YtreVikna1-Sum-produksjon'],\n",
       "      dtype='object')"
      ]
     },
     "execution_count": 21,
     "metadata": {},
     "output_type": "execute_result"
    }
   ],
   "source": [
    "cleaned_dataframe.columns"
   ]
  },
  {
   "cell_type": "code",
   "execution_count": 84,
   "metadata": {
    "collapsed": true
   },
   "outputs": [],
   "source": [
    "airtemp_1 = tf.feature_column.numeric_column('/arome_airtemp_6495_1081')\n",
    "airpress_1 = tf.feature_column.numeric_column('/arome_airpress_6495_1081')\n",
    "winddir_1 = tf.feature_column.numeric_column('/arome_winddir_6495_1081')\n",
    "windvel_1 = tf.feature_column.numeric_column('/arome_windvel_6495_1081')\n",
    "\n",
    "airtemp_2 = tf.feature_column.numeric_column('/arome_airtemp_6495_1096')\n",
    "airpress_2 = tf.feature_column.numeric_column('/arome_airpress_6495_1096')\n",
    "winddir_2 = tf.feature_column.numeric_column('/arome_winddir_6495_1096')\n",
    "windvel_2 = tf.feature_column.numeric_column('/arome_windvel_6495_1096')\n",
    "\n",
    "airtemp_3 = tf.feature_column.numeric_column('/arome_airtemp_6491_1087')\n",
    "airpress_3 = tf.feature_column.numeric_column('/arome_airpress_6491_1087')\n",
    "winddir_3 = tf.feature_column.numeric_column('/arome_winddir_6491_1087')\n",
    "windvel_3 = tf.feature_column.numeric_column('/arome_windvel_6491_1087')\n",
    "\n",
    "airtemp_4 = tf.feature_column.numeric_column('/arome_airtemp_6486_1082')\n",
    "airpress_4 = tf.feature_column.numeric_column('/arome_airpress_6486_1082')\n",
    "winddir_4 = tf.feature_column.numeric_column('/arome_winddir_6486_1082')\n",
    "windvel_4 = tf.feature_column.numeric_column('/arome_windvel_6486_1082')\n",
    "\n",
    "airtemp_5 = tf.feature_column.numeric_column('/arome_airtemp_6486_1093')\n",
    "airpress_5 = tf.feature_column.numeric_column('/arome_airpress_6486_1093')\n",
    "winddir_5 = tf.feature_column.numeric_column('/arome_winddir_6486_1093')\n",
    "windvel_5 = tf.feature_column.numeric_column('/arome_windvel_6486_1093')\n",
    "\n",
    "prev_prod = tf.feature_column.numeric_column('production_delayed_2_hours')"
   ]
  },
  {
   "cell_type": "code",
   "execution_count": 85,
   "metadata": {
    "collapsed": true
   },
   "outputs": [],
   "source": [
    "feat_cols = [airtemp_1,airpress_1,winddir_1,windvel_1,\n",
    "             airtemp_2,airpress_2,winddir_2,windvel_2,\n",
    "             airtemp_3,airpress_3,winddir_3,windvel_3,\n",
    "             airtemp_4,airpress_4,winddir_4,windvel_4,\n",
    "             airtemp_5,airpress_5,winddir_5,windvel_5,\n",
    "             prev_prod]"
   ]
  },
  {
   "cell_type": "markdown",
   "metadata": {},
   "source": [
    " #### Input function for the estimator object."
   ]
  },
  {
   "cell_type": "code",
   "execution_count": 86,
   "metadata": {
    "collapsed": true
   },
   "outputs": [],
   "source": [
    "input_func = tf.estimator.inputs.pandas_input_fn(x=X_train,y=y_train ,batch_size=10,num_epochs=2000,\n",
    "                                            shuffle=True)"
   ]
  },
  {
   "cell_type": "markdown",
   "metadata": {},
   "source": [
    "#### Lage estimatormodellen. Velger her DNN-Regressor (Dense Neural Network Regressor)"
   ]
  },
  {
   "cell_type": "code",
   "execution_count": 97,
   "metadata": {},
   "outputs": [
    {
     "name": "stdout",
     "output_type": "stream",
     "text": [
      "INFO:tensorflow:Using default config.\n",
      "WARNING:tensorflow:Using temporary folder as model directory: C:\\Users\\chris\\AppData\\Local\\Temp\\tmp4yk_u9ag\n",
      "INFO:tensorflow:Using config: {'_save_checkpoints_steps': None, '_save_summary_steps': 100, '_session_config': None, '_log_step_count_steps': 100, '_model_dir': 'C:\\\\Users\\\\chris\\\\AppData\\\\Local\\\\Temp\\\\tmp4yk_u9ag', '_keep_checkpoint_max': 5, '_save_checkpoints_secs': 600, '_keep_checkpoint_every_n_hours': 10000, '_tf_random_seed': 1}\n"
     ]
    }
   ],
   "source": [
    "model = tf.estimator.DNNRegressor(hidden_units=[7], feature_columns=feat_cols)"
   ]
  },
  {
   "cell_type": "markdown",
   "metadata": {},
   "source": [
    "#### Trene modellen"
   ]
  },
  {
   "cell_type": "code",
   "execution_count": 98,
   "metadata": {},
   "outputs": [
    {
     "name": "stdout",
     "output_type": "stream",
     "text": [
      "INFO:tensorflow:Create CheckpointSaverHook.\n",
      "INFO:tensorflow:Saving checkpoints for 1 into C:\\Users\\chris\\AppData\\Local\\Temp\\tmp4yk_u9ag\\model.ckpt.\n",
      "INFO:tensorflow:loss = 6380.63, step = 1\n",
      "INFO:tensorflow:global_step/sec: 198.862\n",
      "INFO:tensorflow:loss = 1081.36, step = 101 (0.510 sec)\n",
      "INFO:tensorflow:global_step/sec: 222.138\n",
      "INFO:tensorflow:loss = 794.095, step = 201 (0.447 sec)\n",
      "INFO:tensorflow:global_step/sec: 209.666\n",
      "INFO:tensorflow:loss = 598.033, step = 301 (0.478 sec)\n",
      "INFO:tensorflow:global_step/sec: 279.285\n",
      "INFO:tensorflow:loss = 626.426, step = 401 (0.357 sec)\n",
      "INFO:tensorflow:global_step/sec: 208.07\n",
      "INFO:tensorflow:loss = 350.142, step = 501 (0.482 sec)\n",
      "INFO:tensorflow:global_step/sec: 210.447\n",
      "INFO:tensorflow:loss = 353.247, step = 601 (0.475 sec)\n",
      "INFO:tensorflow:global_step/sec: 189.401\n",
      "INFO:tensorflow:loss = 303.085, step = 701 (0.531 sec)\n",
      "INFO:tensorflow:global_step/sec: 262.443\n",
      "INFO:tensorflow:loss = 685.588, step = 801 (0.374 sec)\n",
      "INFO:tensorflow:global_step/sec: 364.195\n",
      "INFO:tensorflow:loss = 562.527, step = 901 (0.274 sec)\n",
      "INFO:tensorflow:global_step/sec: 421.898\n",
      "INFO:tensorflow:loss = 159.048, step = 1001 (0.239 sec)\n",
      "INFO:tensorflow:global_step/sec: 378.347\n",
      "INFO:tensorflow:loss = 350.236, step = 1101 (0.262 sec)\n",
      "INFO:tensorflow:global_step/sec: 276.694\n",
      "INFO:tensorflow:loss = 555.736, step = 1201 (0.368 sec)\n",
      "INFO:tensorflow:global_step/sec: 233.156\n",
      "INFO:tensorflow:loss = 274.937, step = 1301 (0.427 sec)\n",
      "INFO:tensorflow:global_step/sec: 176.608\n",
      "INFO:tensorflow:loss = 139.386, step = 1401 (0.572 sec)\n",
      "INFO:tensorflow:global_step/sec: 165.92\n",
      "INFO:tensorflow:loss = 273.674, step = 1501 (0.594 sec)\n",
      "INFO:tensorflow:global_step/sec: 160.367\n",
      "INFO:tensorflow:loss = 251.767, step = 1601 (0.625 sec)\n",
      "INFO:tensorflow:global_step/sec: 194.134\n",
      "INFO:tensorflow:loss = 379.076, step = 1701 (0.518 sec)\n",
      "INFO:tensorflow:global_step/sec: 175.073\n",
      "INFO:tensorflow:loss = 334.641, step = 1801 (0.572 sec)\n",
      "INFO:tensorflow:global_step/sec: 188.258\n",
      "INFO:tensorflow:loss = 163.439, step = 1901 (0.534 sec)\n",
      "INFO:tensorflow:global_step/sec: 211.578\n",
      "INFO:tensorflow:loss = 251.366, step = 2001 (0.466 sec)\n",
      "INFO:tensorflow:global_step/sec: 291.106\n",
      "INFO:tensorflow:loss = 126.997, step = 2101 (0.344 sec)\n",
      "INFO:tensorflow:global_step/sec: 192.021\n",
      "INFO:tensorflow:loss = 692.031, step = 2201 (0.519 sec)\n",
      "INFO:tensorflow:global_step/sec: 168.341\n",
      "INFO:tensorflow:loss = 505.999, step = 2301 (0.594 sec)\n",
      "INFO:tensorflow:global_step/sec: 169.517\n",
      "INFO:tensorflow:loss = 253.795, step = 2401 (0.594 sec)\n",
      "INFO:tensorflow:global_step/sec: 269.135\n",
      "INFO:tensorflow:loss = 100.006, step = 2501 (0.368 sec)\n",
      "INFO:tensorflow:global_step/sec: 201.415\n",
      "INFO:tensorflow:loss = 125.218, step = 2601 (0.496 sec)\n",
      "INFO:tensorflow:global_step/sec: 207.299\n",
      "INFO:tensorflow:loss = 222.916, step = 2701 (0.484 sec)\n",
      "INFO:tensorflow:global_step/sec: 213.314\n",
      "INFO:tensorflow:loss = 110.669, step = 2801 (0.473 sec)\n",
      "INFO:tensorflow:global_step/sec: 263.573\n",
      "INFO:tensorflow:loss = 142.996, step = 2901 (0.376 sec)\n",
      "INFO:tensorflow:global_step/sec: 237.724\n",
      "INFO:tensorflow:loss = 137.929, step = 3001 (0.420 sec)\n",
      "INFO:tensorflow:global_step/sec: 284.736\n",
      "INFO:tensorflow:loss = 309.885, step = 3101 (0.352 sec)\n",
      "INFO:tensorflow:global_step/sec: 424.633\n",
      "INFO:tensorflow:loss = 177.238, step = 3201 (0.233 sec)\n",
      "INFO:tensorflow:global_step/sec: 225.089\n",
      "INFO:tensorflow:loss = 173.187, step = 3301 (0.447 sec)\n",
      "INFO:tensorflow:global_step/sec: 179.712\n",
      "INFO:tensorflow:loss = 395.37, step = 3401 (0.557 sec)\n",
      "INFO:tensorflow:global_step/sec: 133.699\n",
      "INFO:tensorflow:loss = 130.909, step = 3501 (0.757 sec)\n",
      "INFO:tensorflow:global_step/sec: 149.511\n",
      "INFO:tensorflow:loss = 60.4343, step = 3601 (0.667 sec)\n",
      "INFO:tensorflow:global_step/sec: 278.761\n",
      "INFO:tensorflow:loss = 365.138, step = 3701 (0.354 sec)\n",
      "INFO:tensorflow:global_step/sec: 286.421\n",
      "INFO:tensorflow:loss = 206.169, step = 3801 (0.345 sec)\n",
      "INFO:tensorflow:global_step/sec: 290.241\n",
      "INFO:tensorflow:loss = 416.793, step = 3901 (0.343 sec)\n",
      "INFO:tensorflow:global_step/sec: 342.104\n",
      "INFO:tensorflow:loss = 87.4128, step = 4001 (0.290 sec)\n",
      "INFO:tensorflow:global_step/sec: 306.863\n",
      "INFO:tensorflow:loss = 182.709, step = 4101 (0.326 sec)\n",
      "INFO:tensorflow:global_step/sec: 353.575\n",
      "INFO:tensorflow:loss = 314.929, step = 4201 (0.283 sec)\n",
      "INFO:tensorflow:global_step/sec: 408.772\n",
      "INFO:tensorflow:loss = 141.149, step = 4301 (0.247 sec)\n",
      "INFO:tensorflow:global_step/sec: 343.898\n",
      "INFO:tensorflow:loss = 100.151, step = 4401 (0.290 sec)\n",
      "INFO:tensorflow:global_step/sec: 336.72\n",
      "INFO:tensorflow:loss = 311.877, step = 4501 (0.298 sec)\n",
      "INFO:tensorflow:global_step/sec: 289.111\n",
      "INFO:tensorflow:loss = 333.129, step = 4601 (0.347 sec)\n",
      "INFO:tensorflow:global_step/sec: 289.925\n",
      "INFO:tensorflow:loss = 362.549, step = 4701 (0.344 sec)\n",
      "INFO:tensorflow:global_step/sec: 400.488\n",
      "INFO:tensorflow:loss = 311.939, step = 4801 (0.250 sec)\n",
      "INFO:tensorflow:global_step/sec: 319.66\n",
      "INFO:tensorflow:loss = 48.9252, step = 4901 (0.311 sec)\n",
      "INFO:tensorflow:global_step/sec: 370.071\n",
      "INFO:tensorflow:loss = 129.097, step = 5001 (0.273 sec)\n",
      "INFO:tensorflow:global_step/sec: 380.711\n",
      "INFO:tensorflow:loss = 284.366, step = 5101 (0.259 sec)\n",
      "INFO:tensorflow:global_step/sec: 362.669\n",
      "INFO:tensorflow:loss = 82.1978, step = 5201 (0.276 sec)\n",
      "INFO:tensorflow:global_step/sec: 340.932\n",
      "INFO:tensorflow:loss = 138.933, step = 5301 (0.294 sec)\n",
      "INFO:tensorflow:global_step/sec: 399.729\n",
      "INFO:tensorflow:loss = 139.972, step = 5401 (0.252 sec)\n",
      "INFO:tensorflow:global_step/sec: 343.356\n",
      "INFO:tensorflow:loss = 50.3314, step = 5501 (0.292 sec)\n",
      "INFO:tensorflow:global_step/sec: 199.466\n",
      "INFO:tensorflow:loss = 545.809, step = 5601 (0.505 sec)\n",
      "INFO:tensorflow:global_step/sec: 178.417\n",
      "INFO:tensorflow:loss = 240.895, step = 5701 (0.561 sec)\n",
      "INFO:tensorflow:global_step/sec: 188.344\n",
      "INFO:tensorflow:loss = 202.64, step = 5801 (0.526 sec)\n",
      "INFO:tensorflow:global_step/sec: 211.301\n",
      "INFO:tensorflow:loss = 142.145, step = 5901 (0.477 sec)\n",
      "INFO:tensorflow:global_step/sec: 175.135\n",
      "INFO:tensorflow:loss = 174.959, step = 6001 (0.567 sec)\n",
      "INFO:tensorflow:global_step/sec: 196.709\n",
      "INFO:tensorflow:loss = 117.195, step = 6101 (0.512 sec)\n",
      "INFO:tensorflow:global_step/sec: 188.349\n",
      "INFO:tensorflow:loss = 958.684, step = 6201 (0.530 sec)\n",
      "INFO:tensorflow:global_step/sec: 199.864\n",
      "INFO:tensorflow:loss = 175.421, step = 6301 (0.501 sec)\n",
      "INFO:tensorflow:global_step/sec: 196.081\n",
      "INFO:tensorflow:loss = 169.802, step = 6401 (0.511 sec)\n",
      "INFO:tensorflow:global_step/sec: 193.899\n",
      "INFO:tensorflow:loss = 184.333, step = 6501 (0.515 sec)\n",
      "INFO:tensorflow:global_step/sec: 207.765\n",
      "INFO:tensorflow:loss = 226.211, step = 6601 (0.481 sec)\n",
      "INFO:tensorflow:global_step/sec: 216.776\n",
      "INFO:tensorflow:loss = 239.489, step = 6701 (0.461 sec)\n",
      "INFO:tensorflow:global_step/sec: 195.715\n",
      "INFO:tensorflow:loss = 141.911, step = 6801 (0.507 sec)\n",
      "INFO:tensorflow:global_step/sec: 189.629\n",
      "INFO:tensorflow:loss = 208.005, step = 6901 (0.527 sec)\n",
      "INFO:tensorflow:global_step/sec: 200.873\n",
      "INFO:tensorflow:loss = 113.901, step = 7001 (0.498 sec)\n",
      "INFO:tensorflow:global_step/sec: 181.321\n",
      "INFO:tensorflow:loss = 205.33, step = 7101 (0.551 sec)\n",
      "INFO:tensorflow:global_step/sec: 182.678\n",
      "INFO:tensorflow:loss = 226.492, step = 7201 (0.548 sec)\n",
      "INFO:tensorflow:global_step/sec: 183.503\n",
      "INFO:tensorflow:loss = 104.681, step = 7301 (0.548 sec)\n",
      "INFO:tensorflow:global_step/sec: 180.862\n",
      "INFO:tensorflow:loss = 122.534, step = 7401 (0.549 sec)\n",
      "INFO:tensorflow:global_step/sec: 186.269\n",
      "INFO:tensorflow:loss = 251.797, step = 7501 (0.540 sec)\n",
      "INFO:tensorflow:global_step/sec: 176.99\n",
      "INFO:tensorflow:loss = 489.451, step = 7601 (0.564 sec)\n",
      "INFO:tensorflow:global_step/sec: 200.449\n",
      "INFO:tensorflow:loss = 85.5121, step = 7701 (0.500 sec)\n",
      "INFO:tensorflow:global_step/sec: 195.384\n",
      "INFO:tensorflow:loss = 224.157, step = 7801 (0.510 sec)\n",
      "INFO:tensorflow:global_step/sec: 309.179\n",
      "INFO:tensorflow:loss = 190.795, step = 7901 (0.322 sec)\n",
      "INFO:tensorflow:global_step/sec: 359.453\n",
      "INFO:tensorflow:loss = 172.058, step = 8001 (0.277 sec)\n",
      "INFO:tensorflow:global_step/sec: 444.751\n",
      "INFO:tensorflow:loss = 527.72, step = 8101 (0.225 sec)\n",
      "INFO:tensorflow:global_step/sec: 404.592\n",
      "INFO:tensorflow:loss = 46.2283, step = 8201 (0.247 sec)\n",
      "INFO:tensorflow:global_step/sec: 426.413\n",
      "INFO:tensorflow:loss = 441.957, step = 8301 (0.235 sec)\n"
     ]
    },
    {
     "name": "stdout",
     "output_type": "stream",
     "text": [
      "INFO:tensorflow:global_step/sec: 433.954\n",
      "INFO:tensorflow:loss = 286.326, step = 8401 (0.230 sec)\n",
      "INFO:tensorflow:global_step/sec: 253.517\n",
      "INFO:tensorflow:loss = 141.806, step = 8501 (0.397 sec)\n",
      "INFO:tensorflow:global_step/sec: 199.549\n",
      "INFO:tensorflow:loss = 113.25, step = 8601 (0.498 sec)\n",
      "INFO:tensorflow:global_step/sec: 234.091\n",
      "INFO:tensorflow:loss = 261.876, step = 8701 (0.431 sec)\n",
      "INFO:tensorflow:global_step/sec: 207.706\n",
      "INFO:tensorflow:loss = 60.9395, step = 8801 (0.481 sec)\n",
      "INFO:tensorflow:global_step/sec: 224.902\n",
      "INFO:tensorflow:loss = 592.404, step = 8901 (0.444 sec)\n",
      "INFO:tensorflow:global_step/sec: 162.926\n",
      "INFO:tensorflow:loss = 138.05, step = 9001 (0.615 sec)\n",
      "INFO:tensorflow:global_step/sec: 187.715\n",
      "INFO:tensorflow:loss = 115.35, step = 9101 (0.533 sec)\n",
      "INFO:tensorflow:global_step/sec: 184.691\n",
      "INFO:tensorflow:loss = 215.668, step = 9201 (0.547 sec)\n",
      "INFO:tensorflow:global_step/sec: 176.596\n",
      "INFO:tensorflow:loss = 185.464, step = 9301 (0.563 sec)\n",
      "INFO:tensorflow:global_step/sec: 187.496\n",
      "INFO:tensorflow:loss = 190.932, step = 9401 (0.527 sec)\n",
      "INFO:tensorflow:global_step/sec: 297.927\n",
      "INFO:tensorflow:loss = 178.768, step = 9501 (0.334 sec)\n",
      "INFO:tensorflow:global_step/sec: 301.332\n",
      "INFO:tensorflow:loss = 227.169, step = 9601 (0.330 sec)\n",
      "INFO:tensorflow:global_step/sec: 363.329\n",
      "INFO:tensorflow:loss = 24.3185, step = 9701 (0.277 sec)\n",
      "INFO:tensorflow:global_step/sec: 412.921\n",
      "INFO:tensorflow:loss = 218.551, step = 9801 (0.245 sec)\n",
      "INFO:tensorflow:global_step/sec: 377.829\n",
      "INFO:tensorflow:loss = 175.543, step = 9901 (0.260 sec)\n",
      "INFO:tensorflow:global_step/sec: 404.547\n",
      "INFO:tensorflow:loss = 109.44, step = 10001 (0.249 sec)\n",
      "INFO:tensorflow:global_step/sec: 398.143\n",
      "INFO:tensorflow:loss = 228.846, step = 10101 (0.251 sec)\n",
      "INFO:tensorflow:global_step/sec: 304.049\n",
      "INFO:tensorflow:loss = 135.38, step = 10201 (0.328 sec)\n",
      "INFO:tensorflow:global_step/sec: 185.053\n",
      "INFO:tensorflow:loss = 743.37, step = 10301 (0.545 sec)\n",
      "INFO:tensorflow:global_step/sec: 194.926\n",
      "INFO:tensorflow:loss = 110.669, step = 10401 (0.512 sec)\n",
      "INFO:tensorflow:global_step/sec: 214.07\n",
      "INFO:tensorflow:loss = 121.428, step = 10501 (0.467 sec)\n",
      "INFO:tensorflow:global_step/sec: 199.835\n",
      "INFO:tensorflow:loss = 96.6132, step = 10601 (0.500 sec)\n",
      "INFO:tensorflow:global_step/sec: 205.623\n",
      "INFO:tensorflow:loss = 221.778, step = 10701 (0.483 sec)\n",
      "INFO:tensorflow:global_step/sec: 175.282\n",
      "INFO:tensorflow:loss = 209.472, step = 10801 (0.571 sec)\n",
      "INFO:tensorflow:global_step/sec: 153.328\n",
      "INFO:tensorflow:loss = 158.372, step = 10901 (0.675 sec)\n",
      "INFO:tensorflow:global_step/sec: 132.537\n",
      "INFO:tensorflow:loss = 58.3371, step = 11001 (0.738 sec)\n",
      "INFO:tensorflow:global_step/sec: 150.77\n",
      "INFO:tensorflow:loss = 23.6975, step = 11101 (0.663 sec)\n",
      "INFO:tensorflow:global_step/sec: 168.328\n",
      "INFO:tensorflow:loss = 56.1981, step = 11201 (0.593 sec)\n",
      "INFO:tensorflow:global_step/sec: 162.964\n",
      "INFO:tensorflow:loss = 118.989, step = 11301 (0.614 sec)\n",
      "INFO:tensorflow:global_step/sec: 171.791\n",
      "INFO:tensorflow:loss = 163.186, step = 11401 (0.582 sec)\n",
      "INFO:tensorflow:global_step/sec: 161.378\n",
      "INFO:tensorflow:loss = 200.13, step = 11501 (0.621 sec)\n",
      "INFO:tensorflow:global_step/sec: 182.058\n",
      "INFO:tensorflow:loss = 290.547, step = 11601 (0.543 sec)\n",
      "INFO:tensorflow:global_step/sec: 233.343\n",
      "INFO:tensorflow:loss = 116.906, step = 11701 (0.431 sec)\n",
      "INFO:tensorflow:global_step/sec: 298.701\n",
      "INFO:tensorflow:loss = 183.207, step = 11801 (0.334 sec)\n",
      "INFO:tensorflow:global_step/sec: 284.549\n",
      "INFO:tensorflow:loss = 86.4097, step = 11901 (0.352 sec)\n",
      "INFO:tensorflow:global_step/sec: 324.306\n",
      "INFO:tensorflow:loss = 352.837, step = 12001 (0.305 sec)\n",
      "INFO:tensorflow:global_step/sec: 404.57\n",
      "INFO:tensorflow:loss = 43.0858, step = 12101 (0.249 sec)\n",
      "INFO:tensorflow:global_step/sec: 387.346\n",
      "INFO:tensorflow:loss = 181.821, step = 12201 (0.256 sec)\n",
      "INFO:tensorflow:global_step/sec: 418.17\n",
      "INFO:tensorflow:loss = 405.328, step = 12301 (0.241 sec)\n",
      "INFO:tensorflow:global_step/sec: 199.645\n",
      "INFO:tensorflow:loss = 267.714, step = 12401 (0.500 sec)\n",
      "INFO:tensorflow:global_step/sec: 187.278\n",
      "INFO:tensorflow:loss = 113.49, step = 12501 (0.534 sec)\n",
      "INFO:tensorflow:global_step/sec: 206.507\n",
      "INFO:tensorflow:loss = 137.135, step = 12601 (0.488 sec)\n",
      "INFO:tensorflow:global_step/sec: 226.157\n",
      "INFO:tensorflow:loss = 205.006, step = 12701 (0.439 sec)\n",
      "INFO:tensorflow:global_step/sec: 213.334\n",
      "INFO:tensorflow:loss = 125.23, step = 12801 (0.472 sec)\n",
      "INFO:tensorflow:global_step/sec: 197.869\n",
      "INFO:tensorflow:loss = 197.676, step = 12901 (0.506 sec)\n",
      "INFO:tensorflow:global_step/sec: 220.167\n",
      "INFO:tensorflow:loss = 189.054, step = 13001 (0.455 sec)\n",
      "INFO:tensorflow:global_step/sec: 206.919\n",
      "INFO:tensorflow:loss = 43.9516, step = 13101 (0.482 sec)\n",
      "INFO:tensorflow:global_step/sec: 198.686\n",
      "INFO:tensorflow:loss = 43.6281, step = 13201 (0.503 sec)\n",
      "INFO:tensorflow:global_step/sec: 215.402\n",
      "INFO:tensorflow:loss = 37.0618, step = 13301 (0.464 sec)\n",
      "INFO:tensorflow:global_step/sec: 195.164\n",
      "INFO:tensorflow:loss = 79.2872, step = 13401 (0.514 sec)\n",
      "INFO:tensorflow:global_step/sec: 187.469\n",
      "INFO:tensorflow:loss = 137.289, step = 13501 (0.529 sec)\n",
      "INFO:tensorflow:global_step/sec: 181.676\n",
      "INFO:tensorflow:loss = 165.911, step = 13601 (0.557 sec)\n",
      "INFO:tensorflow:global_step/sec: 312.611\n",
      "INFO:tensorflow:loss = 186.686, step = 13701 (0.312 sec)\n",
      "INFO:tensorflow:global_step/sec: 308.809\n",
      "INFO:tensorflow:loss = 152.734, step = 13801 (0.326 sec)\n",
      "INFO:tensorflow:global_step/sec: 310.183\n",
      "INFO:tensorflow:loss = 296.638, step = 13901 (0.322 sec)\n",
      "INFO:tensorflow:global_step/sec: 161.783\n",
      "INFO:tensorflow:loss = 134.801, step = 14001 (0.619 sec)\n",
      "INFO:tensorflow:global_step/sec: 146.237\n",
      "INFO:tensorflow:loss = 184.839, step = 14101 (0.693 sec)\n",
      "INFO:tensorflow:global_step/sec: 148.855\n",
      "INFO:tensorflow:loss = 71.6196, step = 14201 (0.666 sec)\n",
      "INFO:tensorflow:global_step/sec: 142.157\n",
      "INFO:tensorflow:loss = 244.464, step = 14301 (0.703 sec)\n",
      "INFO:tensorflow:global_step/sec: 141.266\n",
      "INFO:tensorflow:loss = 434.542, step = 14401 (0.703 sec)\n",
      "INFO:tensorflow:global_step/sec: 154.827\n",
      "INFO:tensorflow:loss = 150.2, step = 14501 (0.655 sec)\n",
      "INFO:tensorflow:global_step/sec: 139.716\n",
      "INFO:tensorflow:loss = 167.819, step = 14601 (0.706 sec)\n",
      "INFO:tensorflow:global_step/sec: 146.229\n",
      "INFO:tensorflow:loss = 237.523, step = 14701 (0.688 sec)\n",
      "INFO:tensorflow:global_step/sec: 156.194\n",
      "INFO:tensorflow:loss = 193.316, step = 14801 (0.640 sec)\n",
      "INFO:tensorflow:global_step/sec: 139.396\n",
      "INFO:tensorflow:loss = 167.093, step = 14901 (0.712 sec)\n",
      "INFO:tensorflow:global_step/sec: 135.325\n",
      "INFO:tensorflow:loss = 146.805, step = 15001 (0.748 sec)\n",
      "INFO:tensorflow:global_step/sec: 185.535\n",
      "INFO:tensorflow:loss = 107.309, step = 15101 (0.530 sec)\n",
      "INFO:tensorflow:global_step/sec: 362.051\n",
      "INFO:tensorflow:loss = 361.12, step = 15201 (0.276 sec)\n",
      "INFO:tensorflow:global_step/sec: 228.469\n",
      "INFO:tensorflow:loss = 548.413, step = 15301 (0.438 sec)\n",
      "INFO:tensorflow:global_step/sec: 211.54\n",
      "INFO:tensorflow:loss = 114.396, step = 15401 (0.472 sec)\n",
      "INFO:tensorflow:global_step/sec: 204.584\n",
      "INFO:tensorflow:loss = 105.048, step = 15501 (0.491 sec)\n",
      "INFO:tensorflow:global_step/sec: 330.757\n",
      "INFO:tensorflow:loss = 218.157, step = 15601 (0.302 sec)\n",
      "INFO:tensorflow:global_step/sec: 207.577\n",
      "INFO:tensorflow:loss = 152.418, step = 15701 (0.487 sec)\n",
      "INFO:tensorflow:global_step/sec: 153.792\n",
      "INFO:tensorflow:loss = 288.316, step = 15801 (0.652 sec)\n",
      "INFO:tensorflow:global_step/sec: 242.073\n",
      "INFO:tensorflow:loss = 338.907, step = 15901 (0.406 sec)\n",
      "INFO:tensorflow:global_step/sec: 314.124\n",
      "INFO:tensorflow:loss = 324.208, step = 16001 (0.316 sec)\n",
      "INFO:tensorflow:global_step/sec: 388.826\n",
      "INFO:tensorflow:loss = 80.9257, step = 16101 (0.259 sec)\n",
      "INFO:tensorflow:global_step/sec: 183.131\n",
      "INFO:tensorflow:loss = 74.0939, step = 16201 (0.545 sec)\n",
      "INFO:tensorflow:global_step/sec: 198.689\n",
      "INFO:tensorflow:loss = 258.0, step = 16301 (0.507 sec)\n",
      "INFO:tensorflow:global_step/sec: 188.002\n",
      "INFO:tensorflow:loss = 107.199, step = 16401 (0.528 sec)\n",
      "INFO:tensorflow:global_step/sec: 176.687\n",
      "INFO:tensorflow:loss = 176.889, step = 16501 (0.566 sec)\n",
      "INFO:tensorflow:global_step/sec: 193.471\n",
      "INFO:tensorflow:loss = 177.011, step = 16601 (0.521 sec)\n",
      "INFO:tensorflow:global_step/sec: 188.707\n",
      "INFO:tensorflow:loss = 93.5739, step = 16701 (0.525 sec)\n"
     ]
    },
    {
     "name": "stdout",
     "output_type": "stream",
     "text": [
      "INFO:tensorflow:global_step/sec: 310.17\n",
      "INFO:tensorflow:loss = 165.26, step = 16801 (0.322 sec)\n",
      "INFO:tensorflow:global_step/sec: 246.254\n",
      "INFO:tensorflow:loss = 138.221, step = 16901 (0.413 sec)\n",
      "INFO:tensorflow:global_step/sec: 195.379\n",
      "INFO:tensorflow:loss = 168.548, step = 17001 (0.510 sec)\n",
      "INFO:tensorflow:global_step/sec: 193.456\n",
      "INFO:tensorflow:loss = 329.665, step = 17101 (0.514 sec)\n",
      "INFO:tensorflow:global_step/sec: 197.885\n",
      "INFO:tensorflow:loss = 230.449, step = 17201 (0.516 sec)\n",
      "INFO:tensorflow:global_step/sec: 202.033\n",
      "INFO:tensorflow:loss = 670.01, step = 17301 (0.488 sec)\n",
      "INFO:tensorflow:global_step/sec: 190.384\n",
      "INFO:tensorflow:loss = 56.5108, step = 17401 (0.526 sec)\n",
      "INFO:tensorflow:global_step/sec: 170.912\n",
      "INFO:tensorflow:loss = 227.942, step = 17501 (0.586 sec)\n",
      "INFO:tensorflow:global_step/sec: 184.526\n",
      "INFO:tensorflow:loss = 232.158, step = 17601 (0.537 sec)\n",
      "INFO:tensorflow:global_step/sec: 201.292\n",
      "INFO:tensorflow:loss = 163.097, step = 17701 (0.496 sec)\n",
      "INFO:tensorflow:global_step/sec: 186.928\n",
      "INFO:tensorflow:loss = 137.558, step = 17801 (0.535 sec)\n",
      "INFO:tensorflow:global_step/sec: 194.971\n",
      "INFO:tensorflow:loss = 132.975, step = 17901 (0.516 sec)\n",
      "INFO:tensorflow:global_step/sec: 199.848\n",
      "INFO:tensorflow:loss = 391.385, step = 18001 (0.504 sec)\n",
      "INFO:tensorflow:global_step/sec: 199.868\n",
      "INFO:tensorflow:loss = 82.4957, step = 18101 (0.494 sec)\n",
      "INFO:tensorflow:global_step/sec: 186.575\n",
      "INFO:tensorflow:loss = 129.766, step = 18201 (0.539 sec)\n",
      "INFO:tensorflow:global_step/sec: 177.766\n",
      "INFO:tensorflow:loss = 340.476, step = 18301 (0.564 sec)\n",
      "INFO:tensorflow:global_step/sec: 194.415\n",
      "INFO:tensorflow:loss = 829.367, step = 18401 (0.508 sec)\n",
      "INFO:tensorflow:global_step/sec: 194.406\n",
      "INFO:tensorflow:loss = 43.1746, step = 18501 (0.518 sec)\n",
      "INFO:tensorflow:global_step/sec: 183.856\n",
      "INFO:tensorflow:loss = 326.04, step = 18601 (0.545 sec)\n",
      "INFO:tensorflow:global_step/sec: 205.837\n",
      "INFO:tensorflow:loss = 38.2789, step = 18701 (0.485 sec)\n",
      "INFO:tensorflow:global_step/sec: 181.18\n",
      "INFO:tensorflow:loss = 132.16, step = 18801 (0.551 sec)\n",
      "INFO:tensorflow:global_step/sec: 184.896\n",
      "INFO:tensorflow:loss = 187.595, step = 18901 (0.542 sec)\n",
      "INFO:tensorflow:global_step/sec: 196.714\n",
      "INFO:tensorflow:loss = 369.002, step = 19001 (0.510 sec)\n",
      "INFO:tensorflow:global_step/sec: 191.214\n",
      "INFO:tensorflow:loss = 313.151, step = 19101 (0.522 sec)\n",
      "INFO:tensorflow:global_step/sec: 149.469\n",
      "INFO:tensorflow:loss = 181.056, step = 19201 (0.671 sec)\n",
      "INFO:tensorflow:global_step/sec: 150.15\n",
      "INFO:tensorflow:loss = 201.135, step = 19301 (0.660 sec)\n",
      "INFO:tensorflow:global_step/sec: 156.56\n",
      "INFO:tensorflow:loss = 120.945, step = 19401 (0.650 sec)\n",
      "INFO:tensorflow:global_step/sec: 137.951\n",
      "INFO:tensorflow:loss = 255.007, step = 19501 (0.723 sec)\n",
      "INFO:tensorflow:global_step/sec: 141.26\n",
      "INFO:tensorflow:loss = 255.803, step = 19601 (0.714 sec)\n",
      "INFO:tensorflow:global_step/sec: 150.892\n",
      "INFO:tensorflow:loss = 288.152, step = 19701 (0.662 sec)\n",
      "INFO:tensorflow:global_step/sec: 132.521\n",
      "INFO:tensorflow:loss = 335.545, step = 19801 (0.747 sec)\n",
      "INFO:tensorflow:global_step/sec: 143.496\n",
      "INFO:tensorflow:loss = 111.73, step = 19901 (0.697 sec)\n",
      "INFO:tensorflow:Saving checkpoints for 20000 into C:\\Users\\chris\\AppData\\Local\\Temp\\tmp4yk_u9ag\\model.ckpt.\n",
      "INFO:tensorflow:Loss for final step: 194.774.\n"
     ]
    },
    {
     "data": {
      "text/plain": [
       "<tensorflow.python.estimator.canned.dnn.DNNRegressor at 0x286b8d35a58>"
      ]
     },
     "execution_count": 98,
     "metadata": {},
     "output_type": "execute_result"
    }
   ],
   "source": [
    "model.train(input_fn=input_func,steps=20000)"
   ]
  },
  {
   "cell_type": "markdown",
   "metadata": {},
   "source": [
    "#### Lage en prediksjonsfunksjon og benytte .predict metoden på estimatormodellen for å lage en liste med prediksjoner på testdata."
   ]
  },
  {
   "cell_type": "code",
   "execution_count": 100,
   "metadata": {
    "collapsed": true
   },
   "outputs": [],
   "source": [
    "predict_input_func = tf.estimator.inputs.pandas_input_fn(\n",
    "      x=X_test,\n",
    "      batch_size=10,\n",
    "      num_epochs=1,\n",
    "      shuffle=False)"
   ]
  },
  {
   "cell_type": "code",
   "execution_count": 101,
   "metadata": {
    "collapsed": true
   },
   "outputs": [],
   "source": [
    "pred_gen = model.predict(predict_input_func)"
   ]
  },
  {
   "cell_type": "code",
   "execution_count": 102,
   "metadata": {},
   "outputs": [
    {
     "name": "stdout",
     "output_type": "stream",
     "text": [
      "INFO:tensorflow:Restoring parameters from C:\\Users\\chris\\AppData\\Local\\Temp\\tmp4yk_u9ag\\model.ckpt-20000\n"
     ]
    }
   ],
   "source": [
    "predictions = list(pred_gen)"
   ]
  },
  {
   "cell_type": "code",
   "execution_count": 103,
   "metadata": {
    "collapsed": true
   },
   "outputs": [],
   "source": [
    "final_preds = []\n",
    "for pred in predictions:\n",
    "    final_preds.append(pred['predictions'])"
   ]
  },
  {
   "cell_type": "markdown",
   "metadata": {},
   "source": [
    "## Evaluere modellen"
   ]
  },
  {
   "cell_type": "code",
   "execution_count": 99,
   "metadata": {
    "collapsed": true
   },
   "outputs": [],
   "source": [
    "from sklearn import metrics"
   ]
  },
  {
   "cell_type": "code",
   "execution_count": 104,
   "metadata": {},
   "outputs": [
    {
     "name": "stdout",
     "output_type": "stream",
     "text": [
      "Mean Absolute Error: \t\t\t 3.10211843038\n",
      "Mean Squared Error: \t\t\t 18.5526892285\n",
      "Root Mean Squared Error: \t\t 4.30728327702\n"
     ]
    }
   ],
   "source": [
    "# 20 000 treningsrunder [7]\n",
    "print('Mean Absolute Error: \\t\\t\\t', metrics.mean_absolute_error(y_test, final_preds))\n",
    "print('Mean Squared Error: \\t\\t\\t', metrics.mean_squared_error(y_test, final_preds))\n",
    "print('Root Mean Squared Error: \\t\\t', np.sqrt(metrics.mean_squared_error(y_test, final_preds)))"
   ]
  },
  {
   "cell_type": "code",
   "execution_count": 96,
   "metadata": {},
   "outputs": [
    {
     "name": "stdout",
     "output_type": "stream",
     "text": [
      "Mean Absolute Error: \t\t\t 3.0841157826\n",
      "Mean Squared Error: \t\t\t 18.7248167155\n",
      "Root Mean Squared Error: \t\t 4.32721812664\n"
     ]
    }
   ],
   "source": [
    "# 20 000 treningsrunder [8,8,8,8]\n",
    "print('Mean Absolute Error: \\t\\t\\t', metrics.mean_absolute_error(y_test, final_preds))\n",
    "print('Mean Squared Error: \\t\\t\\t', metrics.mean_squared_error(y_test, final_preds))\n",
    "print('Root Mean Squared Error: \\t\\t', np.sqrt(metrics.mean_squared_error(y_test, final_preds)))"
   ]
  },
  {
   "cell_type": "code",
   "execution_count": 79,
   "metadata": {},
   "outputs": [
    {
     "name": "stdout",
     "output_type": "stream",
     "text": [
      "Mean Absolute Error: \t\t\t 3.21919179646\n",
      "Mean Squared Error: \t\t\t 19.4489742851\n",
      "Root Mean Squared Error: \t\t 4.41009912418\n"
     ]
    }
   ],
   "source": [
    "# 1 000 000 treningsrunder [10]\n",
    "print('Mean Absolute Error: \\t\\t\\t', metrics.mean_absolute_error(y_test, final_preds))\n",
    "print('Mean Squared Error: \\t\\t\\t', metrics.mean_squared_error(y_test, final_preds))\n",
    "print('Root Mean Squared Error: \\t\\t', np.sqrt(metrics.mean_squared_error(y_test, final_preds)))"
   ]
  },
  {
   "cell_type": "code",
   "execution_count": 70,
   "metadata": {},
   "outputs": [
    {
     "name": "stdout",
     "output_type": "stream",
     "text": [
      "Mean Absolute Error: \t\t\t 3.26042382338\n",
      "Mean Squared Error: \t\t\t 19.9741803049\n",
      "Root Mean Squared Error: \t\t 4.46924829305\n"
     ]
    }
   ],
   "source": [
    "# 1 000 000 treningsrunder [10]\n",
    "print('Mean Absolute Error: \\t\\t\\t', metrics.mean_absolute_error(y_test, final_preds))\n",
    "print('Mean Squared Error: \\t\\t\\t', metrics.mean_squared_error(y_test, final_preds))\n",
    "print('Root Mean Squared Error: \\t\\t', np.sqrt(metrics.mean_squared_error(y_test, final_preds)))"
   ]
  },
  {
   "cell_type": "code",
   "execution_count": 61,
   "metadata": {},
   "outputs": [
    {
     "name": "stdout",
     "output_type": "stream",
     "text": [
      "Mean Absolute Error: \t\t\t 3.26398147493\n",
      "Mean Squared Error: \t\t\t 19.7364847472\n",
      "Root Mean Squared Error: \t\t 4.44257636368\n"
     ]
    }
   ],
   "source": [
    "# 1 000 000 treningsrunder [10]\n",
    "print('Mean Absolute Error: \\t\\t\\t', metrics.mean_absolute_error(y_test, final_preds))\n",
    "print('Mean Squared Error: \\t\\t\\t', metrics.mean_squared_error(y_test, final_preds))\n",
    "print('Root Mean Squared Error: \\t\\t', np.sqrt(metrics.mean_squared_error(y_test, final_preds)))"
   ]
  },
  {
   "cell_type": "code",
   "execution_count": 50,
   "metadata": {},
   "outputs": [
    {
     "name": "stdout",
     "output_type": "stream",
     "text": [
      "Mean Absolute Error: \t\t\t 3.62007318095\n",
      "Mean Squared Error: \t\t\t 28.2173635138\n",
      "Root Mean Squared Error: \t\t 5.31200183676\n"
     ]
    }
   ],
   "source": [
    "# 1 000 000 treningsrunder [10]\n",
    "print('Mean Absolute Error: \\t\\t\\t', metrics.mean_absolute_error(y_test, final_preds))\n",
    "print('Mean Squared Error: \\t\\t\\t', metrics.mean_squared_error(y_test, final_preds))\n",
    "print('Root Mean Squared Error: \\t\\t', np.sqrt(metrics.mean_squared_error(y_test, final_preds)))"
   ]
  },
  {
   "cell_type": "code",
   "execution_count": 32,
   "metadata": {},
   "outputs": [
    {
     "name": "stdout",
     "output_type": "stream",
     "text": [
      "Mean Absolute Error: \t\t\t 3.30531776743\n",
      "Mean Squared Error: \t\t\t 19.9553798739\n",
      "Root Mean Squared Error: \t\t 4.46714448769\n"
     ]
    }
   ],
   "source": [
    "# 1000 treningsrunder [21,25,25,25]\n",
    "print('Mean Absolute Error: \\t\\t\\t', metrics.mean_absolute_error(y_test, final_preds))\n",
    "print('Mean Squared Error: \\t\\t\\t', metrics.mean_squared_error(y_test, final_preds))\n",
    "print('Root Mean Squared Error: \\t\\t', np.sqrt(metrics.mean_squared_error(y_test, final_preds)))"
   ]
  },
  {
   "cell_type": "code",
   "execution_count": 41,
   "metadata": {},
   "outputs": [
    {
     "name": "stdout",
     "output_type": "stream",
     "text": [
      "Mean Absolute Error: \t\t\t 3.42716064108\n",
      "Mean Squared Error: \t\t\t 24.7185742243\n",
      "Root Mean Squared Error: \t\t 4.97177777302\n"
     ]
    }
   ],
   "source": [
    "# 100 000 treningsrunder [21,50,50,50,50,30]\n",
    "print('Mean Absolute Error: \\t\\t\\t', metrics.mean_absolute_error(y_test, final_preds))\n",
    "print('Mean Squared Error: \\t\\t\\t', metrics.mean_squared_error(y_test, final_preds))\n",
    "print('Root Mean Squared Error: \\t\\t', np.sqrt(metrics.mean_squared_error(y_test, final_preds)))"
   ]
  },
  {
   "cell_type": "markdown",
   "metadata": {},
   "source": [
    "#### Visualisere funn"
   ]
  },
  {
   "cell_type": "code",
   "execution_count": 51,
   "metadata": {},
   "outputs": [
    {
     "data": {
      "text/plain": [
       "<matplotlib.collections.PathCollection at 0x286bc737ac8>"
      ]
     },
     "execution_count": 51,
     "metadata": {},
     "output_type": "execute_result"
    },
    {
     "data": {
      "image/png": "[encoded data removed]",
      "text/plain": [
       "<matplotlib.figure.Figure at 0x286bc2ad390>"
      ]
     },
     "metadata": {
      "image/png": {
       "height": 250,
       "width": 371
      }
     },
     "output_type": "display_data"
    }
   ],
   "source": [
    "# Burde følge en rett linje\n",
    "\n",
    "plt.scatter(y_test,final_preds)"
   ]
  },
  {
   "cell_type": "code",
   "execution_count": 43,
   "metadata": {},
   "outputs": [
    {
     "data": {
      "text/plain": [
       "<matplotlib.text.Text at 0x286ba3230b8>"
      ]
     },
     "execution_count": 43,
     "metadata": {},
     "output_type": "execute_result"
    },
    {
     "data": {
      "image/png": "[encoded data removed]",
      "text/plain": [
       "<matplotlib.figure.Figure at 0x286b9188a58>"
      ]
     },
     "metadata": {
      "image/png": {
       "height": 739,
       "width": 1165
      }
     },
     "output_type": "display_data"
    }
   ],
   "source": [
    "# Bedre figur:\n",
    "plt.figure(figsize=(20, 12.5))\n",
    "plt.scatter(y_test,final_preds, s = 20)\n",
    "\n",
    "plt.xlabel('Reel produksjon Ytre Vika Vindpark')\n",
    "plt.ylabel('Predikert produksjon')\n",
    "plt.title('Visualisering av nøyaktigheten av lineær regresjons modell')"
   ]
  },
  {
   "cell_type": "code",
   "execution_count": null,
   "metadata": {
    "collapsed": true
   },
   "outputs": [],
   "source": []
  },
  {
   "cell_type": "code",
   "execution_count": 105,
   "metadata": {
    "collapsed": true
   },
   "outputs": [],
   "source": [
    "cleaned_dataframe.to_csv('cleaned_data.csv', sep=',')"
   ]
  },
  {
   "cell_type": "code",
   "execution_count": 106,
   "metadata": {
    "collapsed": true
   },
   "outputs": [],
   "source": [
    "cleaned_dataframe.to_csv('cleaned_data_semicolon_separator.csv', sep=';')"
   ]
  },
  {
   "cell_type": "code",
   "execution_count": null,
   "metadata": {
    "collapsed": true
   },
   "outputs": [],
   "source": []
  },
  {
   "cell_type": "code",
   "execution_count": null,
   "metadata": {
    "collapsed": true
   },
   "outputs": [],
   "source": []
  },
  {
   "cell_type": "code",
   "execution_count": null,
   "metadata": {
    "collapsed": true
   },
   "outputs": [],
   "source": []
  },
  {
   "cell_type": "code",
   "execution_count": null,
   "metadata": {
    "collapsed": true
   },
   "outputs": [],
   "source": []
  },
  {
   "cell_type": "code",
   "execution_count": null,
   "metadata": {
    "collapsed": true
   },
   "outputs": [],
   "source": []
  },
  {
   "cell_type": "code",
   "execution_count": null,
   "metadata": {
    "collapsed": true
   },
   "outputs": [],
   "source": []
  },
  {
   "cell_type": "code",
   "execution_count": null,
   "metadata": {
    "collapsed": true
   },
   "outputs": [],
   "source": []
  },
  {
   "cell_type": "code",
   "execution_count": null,
   "metadata": {
    "collapsed": true
   },
   "outputs": [],
   "source": []
  },
  {
   "cell_type": "code",
   "execution_count": null,
   "metadata": {
    "collapsed": true
   },
   "outputs": [],
   "source": []
  },
  {
   "cell_type": "code",
   "execution_count": null,
   "metadata": {
    "collapsed": true
   },
   "outputs": [],
   "source": []
  },
  {
   "cell_type": "code",
   "execution_count": null,
   "metadata": {
    "collapsed": true
   },
   "outputs": [],
   "source": []
  },
  {
   "cell_type": "code",
   "execution_count": null,
   "metadata": {
    "collapsed": true
   },
   "outputs": [],
   "source": []
  },
  {
   "cell_type": "code",
   "execution_count": null,
   "metadata": {
    "collapsed": true
   },
   "outputs": [],
   "source": []
  },
  {
   "cell_type": "code",
   "execution_count": null,
   "metadata": {
    "collapsed": true
   },
   "outputs": [],
   "source": []
  },
  {
   "cell_type": "code",
   "execution_count": null,
   "metadata": {
    "collapsed": true
   },
   "outputs": [],
   "source": []
  },
  {
   "cell_type": "code",
   "execution_count": null,
   "metadata": {
    "collapsed": true
   },
   "outputs": [],
   "source": []
  },
  {
   "cell_type": "code",
   "execution_count": null,
   "metadata": {
    "collapsed": true
   },
   "outputs": [],
   "source": []
  },
  {
   "cell_type": "code",
   "execution_count": null,
   "metadata": {
    "collapsed": true
   },
   "outputs": [],
   "source": []
  },
  {
   "cell_type": "code",
   "execution_count": null,
   "metadata": {
    "collapsed": true
   },
   "outputs": [],
   "source": []
  },
  {
   "cell_type": "code",
   "execution_count": null,
   "metadata": {
    "collapsed": true
   },
   "outputs": [],
   "source": []
  },
  {
   "cell_type": "code",
   "execution_count": null,
   "metadata": {
    "collapsed": true
   },
   "outputs": [],
   "source": []
  },
  {
   "cell_type": "code",
   "execution_count": null,
   "metadata": {
    "collapsed": true
   },
   "outputs": [],
   "source": []
  },
  {
   "cell_type": "code",
   "execution_count": null,
   "metadata": {
    "collapsed": true
   },
   "outputs": [],
   "source": []
  },
  {
   "cell_type": "code",
   "execution_count": null,
   "metadata": {
    "collapsed": true
   },
   "outputs": [],
   "source": []
  },
  {
   "cell_type": "code",
   "execution_count": null,
   "metadata": {
    "collapsed": true
   },
   "outputs": [],
   "source": []
  },
  {
   "cell_type": "code",
   "execution_count": null,
   "metadata": {
    "collapsed": true
   },
   "outputs": [],
   "source": []
  },
  {
   "cell_type": "code",
   "execution_count": null,
   "metadata": {
    "collapsed": true
   },
   "outputs": [],
   "source": []
  }
 ],
 "metadata": {
  "kernelspec": {
   "display_name": "Python 3",
   "language": "python",
   "name": "python3"
  },
  "language_info": {
   "codemirror_mode": {
    "name": "ipython",
    "version": 3
   },
   "file_extension": ".py",
   "mimetype": "text/x-python",
   "name": "python",
   "nbconvert_exporter": "python",
   "pygments_lexer": "ipython3",
   "version": "3.5.4"
  }
 },
 "nbformat": 4,
 "nbformat_minor": 2
}
