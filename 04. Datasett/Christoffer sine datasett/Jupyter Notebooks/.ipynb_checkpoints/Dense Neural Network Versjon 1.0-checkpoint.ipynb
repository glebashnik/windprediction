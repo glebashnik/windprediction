{
 "cells": [
  {
   "cell_type": "markdown",
   "metadata": {},
   "source": [
    "# Dense Neural Networks Versjon 1.0"
   ]
  },
  {
   "cell_type": "markdown",
   "metadata": {},
   "source": [
    "Forsøke å benytte noe jeg akkurat har lært meg."
   ]
  },
  {
   "cell_type": "markdown",
   "metadata": {},
   "source": [
    "#### Importering av biblioteker"
   ]
  },
  {
   "cell_type": "code",
   "execution_count": 2,
   "metadata": {},
   "outputs": [],
   "source": [
    "import pandas as pd\n",
    "import numpy as np\n",
    "\n",
    "# Visualization\n",
    "#import seaborn as sns\n",
    "import matplotlib.pyplot as plt\n",
    "\n",
    "%matplotlib inline\n",
    "\n",
    "# Making plots look better\n",
    "import matplotlib as mpl\n",
    "mpl.rcParams['patch.force_edgecolor'] = True\n",
    "\n",
    "%config InlineBackend.figure_format = 'retina'"
   ]
  },
  {
   "cell_type": "markdown",
   "metadata": {},
   "source": [
    "#### Innlasting av datasett"
   ]
  },
  {
   "cell_type": "code",
   "execution_count": 3,
   "metadata": {
    "collapsed": true
   },
   "outputs": [],
   "source": [
    "# TEK (1. Spetember til 18. Desember)\n",
    "df_tek = pd.read_csv('vindkraft 181217 TEK met.csv',sep =';', low_memory = False)\n",
    "    #df_tek.info()\n",
    "\n",
    "# TEK (delayed 2 hours)\n",
    "df_tek_delayed = pd.read_csv('vindkraft 181217 TEK met delayed.csv',sep =',', low_memory = False)\n",
    "    #df_tek_delayed.info()\n",
    "\n",
    "# AROME Værdata (1. Spetember til 18. Desember)\n",
    "df_arome = pd.read_csv('vindkraft 181217 arome.csv',sep =';', low_memory = False)\n",
    "    #df_arome.info()"
   ]
  },
  {
   "cell_type": "markdown",
   "metadata": {},
   "source": [
    "#### Samling av datasett"
   ]
  },
  {
   "cell_type": "code",
   "execution_count": 4,
   "metadata": {
    "collapsed": true
   },
   "outputs": [],
   "source": [
    "df = pd.concat([df_arome['/arome_airtemp_6491_1087'],\n",
    "                df_arome['/arome_airpress_6491_1087'], \n",
    "                df_arome['/arome_winddir_6491_1087'],\n",
    "                df_arome['/arome_windvel_6491_1087'],\n",
    "                df_tek['YVIK-YtreVikna1-Sum-produksjon']\n",
    "               ], \n",
    "               axis = 1)"
   ]
  },
  {
   "cell_type": "code",
   "execution_count": null,
   "metadata": {
    "collapsed": true
   },
   "outputs": [],
   "source": [
    "#df.head(2)"
   ]
  },
  {
   "cell_type": "markdown",
   "metadata": {},
   "source": [
    "#### Vaske sammenstilt datasett"
   ]
  },
  {
   "cell_type": "code",
   "execution_count": 5,
   "metadata": {
    "collapsed": true
   },
   "outputs": [],
   "source": [
    "cleaned_dataframe = df.dropna()"
   ]
  },
  {
   "cell_type": "code",
   "execution_count": 6,
   "metadata": {},
   "outputs": [
    {
     "data": {
      "text/plain": [
       "Index(['/arome_airtemp_6491_1087', '/arome_airpress_6491_1087',\n",
       "       '/arome_winddir_6491_1087', '/arome_windvel_6491_1087',\n",
       "       'YVIK-YtreVikna1-Sum-produksjon'],\n",
       "      dtype='object')"
      ]
     },
     "execution_count": 6,
     "metadata": {},
     "output_type": "execute_result"
    }
   ],
   "source": [
    "cleaned_dataframe.columns"
   ]
  },
  {
   "cell_type": "code",
   "execution_count": null,
   "metadata": {
    "collapsed": true
   },
   "outputs": [],
   "source": [
    "# Grafisk visualisering utgår. se heller Lineær Regresjon Versjon 1.0"
   ]
  },
  {
   "cell_type": "markdown",
   "metadata": {},
   "source": [
    "#### Dele datasett i et X- og Y-datasett"
   ]
  },
  {
   "cell_type": "code",
   "execution_count": 7,
   "metadata": {
    "collapsed": true
   },
   "outputs": [],
   "source": [
    "x = cleaned_dataframe[['/arome_airtemp_6491_1087', '/arome_airpress_6491_1087','/arome_winddir_6491_1087', '/arome_windvel_6491_1087']]\n",
    "y = cleaned_dataframe['YVIK-YtreVikna1-Sum-produksjon']"
   ]
  },
  {
   "cell_type": "markdown",
   "metadata": {},
   "source": [
    "#### Train/Test split"
   ]
  },
  {
   "cell_type": "code",
   "execution_count": 8,
   "metadata": {
    "collapsed": true
   },
   "outputs": [],
   "source": [
    "from sklearn.model_selection import train_test_split"
   ]
  },
  {
   "cell_type": "code",
   "execution_count": 9,
   "metadata": {
    "collapsed": true
   },
   "outputs": [],
   "source": [
    "X_train, X_test, y_train, y_test = train_test_split(x, y, test_size=0.3, random_state=101)"
   ]
  },
  {
   "cell_type": "markdown",
   "metadata": {},
   "source": [
    "#### Skalere feature data"
   ]
  },
  {
   "cell_type": "code",
   "execution_count": 10,
   "metadata": {
    "collapsed": true
   },
   "outputs": [],
   "source": [
    "from sklearn.preprocessing import MinMaxScaler"
   ]
  },
  {
   "cell_type": "code",
   "execution_count": 11,
   "metadata": {
    "collapsed": true
   },
   "outputs": [],
   "source": [
    "scaler = MinMaxScaler()"
   ]
  },
  {
   "cell_type": "code",
   "execution_count": 12,
   "metadata": {},
   "outputs": [
    {
     "data": {
      "text/plain": [
       "MinMaxScaler(copy=True, feature_range=(0, 1))"
      ]
     },
     "execution_count": 12,
     "metadata": {},
     "output_type": "execute_result"
    }
   ],
   "source": [
    "scaler.fit(X_train)"
   ]
  },
  {
   "cell_type": "code",
   "execution_count": 13,
   "metadata": {
    "collapsed": true
   },
   "outputs": [],
   "source": [
    "X_train = pd.DataFrame(data=scaler.transform(X_train),columns = X_train.columns,index=X_train.index)"
   ]
  },
  {
   "cell_type": "code",
   "execution_count": 14,
   "metadata": {
    "collapsed": true
   },
   "outputs": [],
   "source": [
    "X_test = pd.DataFrame(data=scaler.transform(X_test),columns = X_test.columns,index=X_test.index)"
   ]
  },
  {
   "cell_type": "markdown",
   "metadata": {},
   "source": [
    "### Lage og trene modellen ( TensorFlow )"
   ]
  },
  {
   "cell_type": "code",
   "execution_count": 15,
   "metadata": {},
   "outputs": [],
   "source": [
    "import tensorflow as tf"
   ]
  },
  {
   "cell_type": "markdown",
   "metadata": {},
   "source": [
    "#### Lage feature columns"
   ]
  },
  {
   "cell_type": "code",
   "execution_count": 16,
   "metadata": {},
   "outputs": [
    {
     "data": {
      "text/plain": [
       "Index(['/arome_airtemp_6491_1087', '/arome_airpress_6491_1087',\n",
       "       '/arome_winddir_6491_1087', '/arome_windvel_6491_1087',\n",
       "       'YVIK-YtreVikna1-Sum-produksjon'],\n",
       "      dtype='object')"
      ]
     },
     "execution_count": 16,
     "metadata": {},
     "output_type": "execute_result"
    }
   ],
   "source": [
    "cleaned_dataframe.columns"
   ]
  },
  {
   "cell_type": "code",
   "execution_count": 17,
   "metadata": {},
   "outputs": [],
   "source": [
    "airtemp = tf.feature_column.numeric_column('/arome_airtemp_6491_1087')\n",
    "airpress = tf.feature_column.numeric_column('/arome_airpress_6491_1087')\n",
    "winddir = tf.feature_column.numeric_column('/arome_winddir_6491_1087')\n",
    "windvel = tf.feature_column.numeric_column('/arome_windvel_6491_1087')"
   ]
  },
  {
   "cell_type": "code",
   "execution_count": 18,
   "metadata": {
    "collapsed": true
   },
   "outputs": [],
   "source": [
    "feat_cols = [airtemp,airpress,winddir,windvel]"
   ]
  },
  {
   "cell_type": "markdown",
   "metadata": {
    "collapsed": true
   },
   "source": [
    "#### Create the input function for the estimator object. (play around with batch_size and num_epochs)"
   ]
  },
  {
   "cell_type": "code",
   "execution_count": 44,
   "metadata": {
    "collapsed": true
   },
   "outputs": [],
   "source": [
    "input_func = tf.estimator.inputs.pandas_input_fn(x=X_train,y=y_train ,batch_size=20,num_epochs=1000,\n",
    "                                            shuffle=True)"
   ]
  },
  {
   "cell_type": "markdown",
   "metadata": {
    "collapsed": true
   },
   "source": [
    "#### Create the estimator model. Use a DNNRegressor. Play around with the hidden units!"
   ]
  },
  {
   "cell_type": "code",
   "execution_count": 45,
   "metadata": {},
   "outputs": [
    {
     "name": "stdout",
     "output_type": "stream",
     "text": [
      "INFO:tensorflow:Using default config.\n",
      "WARNING:tensorflow:Using temporary folder as model directory: C:\\Users\\chris\\AppData\\Local\\Temp\\tmp625n42cw\n",
      "INFO:tensorflow:Using config: {'_session_config': None, '_save_checkpoints_steps': None, '_model_dir': 'C:\\\\Users\\\\chris\\\\AppData\\\\Local\\\\Temp\\\\tmp625n42cw', '_save_checkpoints_secs': 600, '_tf_random_seed': 1, '_keep_checkpoint_every_n_hours': 10000, '_keep_checkpoint_max': 5, '_log_step_count_steps': 100, '_save_summary_steps': 100}\n"
     ]
    }
   ],
   "source": [
    "model = tf.estimator.DNNRegressor(hidden_units=[4,10,10,10,10],feature_columns=feat_cols)"
   ]
  },
  {
   "cell_type": "markdown",
   "metadata": {
    "collapsed": true
   },
   "source": [
    "#### Train the model for ~1,000 steps. (Later come back to this and train it for more and check for improvement)"
   ]
  },
  {
   "cell_type": "code",
   "execution_count": 53,
   "metadata": {},
   "outputs": [
    {
     "name": "stdout",
     "output_type": "stream",
     "text": [
      "INFO:tensorflow:Create CheckpointSaverHook.\n",
      "INFO:tensorflow:Restoring parameters from C:\\Users\\chris\\AppData\\Local\\Temp\\tmp625n42cw\\model.ckpt-10000\n",
      "INFO:tensorflow:Saving checkpoints for 10001 into C:\\Users\\chris\\AppData\\Local\\Temp\\tmp625n42cw\\model.ckpt.\n",
      "INFO:tensorflow:step = 10001, loss = 1527.79\n",
      "INFO:tensorflow:global_step/sec: 740.855\n",
      "INFO:tensorflow:step = 10101, loss = 1231.88 (0.151 sec)\n",
      "INFO:tensorflow:global_step/sec: 739.388\n",
      "INFO:tensorflow:step = 10201, loss = 906.024 (0.135 sec)\n",
      "INFO:tensorflow:global_step/sec: 750.04\n",
      "INFO:tensorflow:step = 10301, loss = 826.394 (0.118 sec)\n",
      "INFO:tensorflow:global_step/sec: 848.155\n",
      "INFO:tensorflow:step = 10401, loss = 1671.33 (0.135 sec)\n",
      "INFO:tensorflow:global_step/sec: 755.45\n",
      "INFO:tensorflow:step = 10501, loss = 2466.06 (0.115 sec)\n",
      "INFO:tensorflow:global_step/sec: 844.098\n",
      "INFO:tensorflow:step = 10601, loss = 784.219 (0.118 sec)\n",
      "INFO:tensorflow:global_step/sec: 862.286\n",
      "INFO:tensorflow:step = 10701, loss = 1189.53 (0.132 sec)\n",
      "INFO:tensorflow:global_step/sec: 754.484\n",
      "INFO:tensorflow:step = 10801, loss = 637.304 (0.117 sec)\n",
      "INFO:tensorflow:global_step/sec: 745.356\n",
      "INFO:tensorflow:step = 10901, loss = 2141.89 (0.134 sec)\n",
      "INFO:tensorflow:global_step/sec: 747.501\n",
      "INFO:tensorflow:step = 11001, loss = 1479.19 (0.134 sec)\n",
      "INFO:tensorflow:global_step/sec: 850.573\n",
      "INFO:tensorflow:step = 11101, loss = 798.25 (0.118 sec)\n",
      "INFO:tensorflow:global_step/sec: 911.835\n",
      "INFO:tensorflow:step = 11201, loss = 1036.78 (0.125 sec)\n",
      "INFO:tensorflow:global_step/sec: 807.277\n",
      "INFO:tensorflow:step = 11301, loss = 1742.19 (0.108 sec)\n",
      "INFO:tensorflow:global_step/sec: 754.506\n",
      "INFO:tensorflow:step = 11401, loss = 1118.39 (0.133 sec)\n",
      "INFO:tensorflow:global_step/sec: 839.706\n",
      "INFO:tensorflow:step = 11501, loss = 748.19 (0.135 sec)\n",
      "INFO:tensorflow:global_step/sec: 754.316\n",
      "INFO:tensorflow:step = 11601, loss = 1356.3 (0.117 sec)\n",
      "INFO:tensorflow:global_step/sec: 861.609\n",
      "INFO:tensorflow:step = 11701, loss = 921.169 (0.116 sec)\n",
      "INFO:tensorflow:global_step/sec: 858.228\n",
      "INFO:tensorflow:step = 11801, loss = 940.477 (0.117 sec)\n",
      "INFO:tensorflow:global_step/sec: 847.702\n",
      "INFO:tensorflow:step = 11901, loss = 1788.49 (0.118 sec)\n",
      "INFO:tensorflow:global_step/sec: 758.468\n",
      "INFO:tensorflow:step = 12001, loss = 784.027 (0.132 sec)\n",
      "INFO:tensorflow:global_step/sec: 848.539\n",
      "INFO:tensorflow:step = 12101, loss = 1370.99 (0.133 sec)\n",
      "INFO:tensorflow:global_step/sec: 750.755\n",
      "INFO:tensorflow:step = 12201, loss = 1107.69 (0.118 sec)\n",
      "INFO:tensorflow:global_step/sec: 746.797\n",
      "INFO:tensorflow:step = 12301, loss = 365.116 (0.139 sec)\n",
      "INFO:tensorflow:global_step/sec: 847.766\n",
      "INFO:tensorflow:step = 12401, loss = 1356.44 (0.113 sec)\n",
      "INFO:tensorflow:global_step/sec: 756.739\n",
      "INFO:tensorflow:step = 12501, loss = 1253.75 (0.132 sec)\n",
      "INFO:tensorflow:global_step/sec: 857.64\n",
      "INFO:tensorflow:step = 12601, loss = 846.037 (0.117 sec)\n",
      "INFO:tensorflow:global_step/sec: 846.551\n",
      "INFO:tensorflow:step = 12701, loss = 1044.03 (0.118 sec)\n",
      "INFO:tensorflow:global_step/sec: 751.779\n",
      "INFO:tensorflow:step = 12801, loss = 899.254 (0.133 sec)\n",
      "INFO:tensorflow:global_step/sec: 861.512\n",
      "INFO:tensorflow:step = 12901, loss = 1742.58 (0.116 sec)\n",
      "INFO:tensorflow:global_step/sec: 851.585\n",
      "INFO:tensorflow:step = 13001, loss = 1268.64 (0.133 sec)\n",
      "INFO:tensorflow:global_step/sec: 837.095\n",
      "INFO:tensorflow:step = 13101, loss = 1978.87 (0.104 sec)\n",
      "INFO:tensorflow:global_step/sec: 768.554\n",
      "INFO:tensorflow:step = 13201, loss = 1748.37 (0.130 sec)\n",
      "INFO:tensorflow:global_step/sec: 814.404\n",
      "INFO:tensorflow:step = 13301, loss = 1047.03 (0.123 sec)\n",
      "INFO:tensorflow:global_step/sec: 840.129\n",
      "INFO:tensorflow:step = 13401, loss = 2027.37 (0.135 sec)\n",
      "INFO:tensorflow:global_step/sec: 709.47\n",
      "INFO:tensorflow:step = 13501, loss = 1748.78 (0.125 sec)\n",
      "INFO:tensorflow:global_step/sec: 842.352\n",
      "INFO:tensorflow:step = 13601, loss = 1107.18 (0.119 sec)\n",
      "INFO:tensorflow:global_step/sec: 755.356\n",
      "INFO:tensorflow:step = 13701, loss = 984.815 (0.132 sec)\n",
      "INFO:tensorflow:global_step/sec: 853.417\n",
      "INFO:tensorflow:step = 13801, loss = 1172.46 (0.117 sec)\n",
      "INFO:tensorflow:global_step/sec: 844.434\n",
      "INFO:tensorflow:step = 13901, loss = 1628.17 (0.118 sec)\n",
      "INFO:tensorflow:global_step/sec: 855.801\n",
      "INFO:tensorflow:step = 14001, loss = 1081.65 (0.132 sec)\n",
      "INFO:tensorflow:global_step/sec: 755.98\n",
      "INFO:tensorflow:step = 14101, loss = 885.799 (0.117 sec)\n",
      "INFO:tensorflow:global_step/sec: 852.459\n",
      "INFO:tensorflow:step = 14201, loss = 1309.42 (0.117 sec)\n",
      "INFO:tensorflow:global_step/sec: 759.586\n",
      "INFO:tensorflow:step = 14301, loss = 865.043 (0.132 sec)\n",
      "INFO:tensorflow:global_step/sec: 839.754\n",
      "INFO:tensorflow:step = 14401, loss = 476.222 (0.119 sec)\n",
      "INFO:tensorflow:global_step/sec: 859.887\n",
      "INFO:tensorflow:step = 14501, loss = 1253.11 (0.116 sec)\n",
      "INFO:tensorflow:global_step/sec: 851.988\n",
      "INFO:tensorflow:step = 14601, loss = 1870.85 (0.133 sec)\n",
      "INFO:tensorflow:global_step/sec: 756.432\n",
      "INFO:tensorflow:step = 14701, loss = 1240.54 (0.117 sec)\n",
      "INFO:tensorflow:global_step/sec: 854.063\n",
      "INFO:tensorflow:step = 14801, loss = 697.261 (0.133 sec)\n",
      "INFO:tensorflow:global_step/sec: 758.162\n",
      "INFO:tensorflow:step = 14901, loss = 1555.07 (0.116 sec)\n",
      "INFO:tensorflow:global_step/sec: 842.057\n",
      "INFO:tensorflow:step = 15001, loss = 604.72 (0.119 sec)\n",
      "INFO:tensorflow:global_step/sec: 857.924\n",
      "INFO:tensorflow:step = 15101, loss = 1161.28 (0.132 sec)\n",
      "INFO:tensorflow:global_step/sec: 846.715\n",
      "INFO:tensorflow:step = 15201, loss = 1434.41 (0.118 sec)\n",
      "INFO:tensorflow:global_step/sec: 750.591\n",
      "INFO:tensorflow:step = 15301, loss = 908.971 (0.133 sec)\n",
      "INFO:tensorflow:global_step/sec: 759.981\n",
      "INFO:tensorflow:step = 15401, loss = 1576.72 (0.116 sec)\n",
      "INFO:tensorflow:global_step/sec: 858.026\n",
      "INFO:tensorflow:step = 15501, loss = 1515.52 (0.117 sec)\n",
      "INFO:tensorflow:global_step/sec: 744.517\n",
      "INFO:tensorflow:step = 15601, loss = 735.288 (0.141 sec)\n",
      "INFO:tensorflow:global_step/sec: 861.391\n",
      "INFO:tensorflow:step = 15701, loss = 993.528 (0.125 sec)\n",
      "INFO:tensorflow:global_step/sec: 746.005\n",
      "INFO:tensorflow:step = 15801, loss = 1268.6 (0.118 sec)\n",
      "INFO:tensorflow:global_step/sec: 855.069\n",
      "INFO:tensorflow:step = 15901, loss = 935.144 (0.117 sec)\n",
      "INFO:tensorflow:global_step/sec: 756.957\n",
      "INFO:tensorflow:step = 16001, loss = 880.105 (0.132 sec)\n",
      "INFO:tensorflow:global_step/sec: 856.284\n",
      "INFO:tensorflow:step = 16101, loss = 643.665 (0.117 sec)\n",
      "INFO:tensorflow:global_step/sec: 850.511\n",
      "INFO:tensorflow:step = 16201, loss = 871.161 (0.118 sec)\n",
      "INFO:tensorflow:global_step/sec: 846.062\n",
      "INFO:tensorflow:step = 16301, loss = 1262.97 (0.118 sec)\n",
      "INFO:tensorflow:global_step/sec: 760.401\n",
      "INFO:tensorflow:step = 16401, loss = 793.692 (0.132 sec)\n",
      "INFO:tensorflow:global_step/sec: 849.122\n",
      "INFO:tensorflow:step = 16501, loss = 1041.49 (0.118 sec)\n",
      "INFO:tensorflow:global_step/sec: 854.084\n",
      "INFO:tensorflow:step = 16601, loss = 1630.3 (0.133 sec)\n",
      "INFO:tensorflow:global_step/sec: 860.077\n",
      "INFO:tensorflow:step = 16701, loss = 562.413 (0.116 sec)\n",
      "INFO:tensorflow:global_step/sec: 785.555\n",
      "INFO:tensorflow:step = 16801, loss = 1393.25 (0.112 sec)\n",
      "INFO:tensorflow:global_step/sec: 810.797\n",
      "INFO:tensorflow:step = 16901, loss = 906.282 (0.123 sec)\n",
      "INFO:tensorflow:global_step/sec: 851.336\n",
      "INFO:tensorflow:step = 17001, loss = 1153.33 (0.117 sec)\n",
      "INFO:tensorflow:global_step/sec: 820.222\n",
      "INFO:tensorflow:step = 17101, loss = 870.39 (0.122 sec)\n",
      "INFO:tensorflow:global_step/sec: 788.363\n",
      "INFO:tensorflow:step = 17201, loss = 1033.93 (0.127 sec)\n",
      "INFO:tensorflow:global_step/sec: 831.583\n",
      "INFO:tensorflow:step = 17301, loss = 695.901 (0.120 sec)\n",
      "INFO:tensorflow:global_step/sec: 872.009\n",
      "INFO:tensorflow:step = 17401, loss = 1548.31 (0.115 sec)\n",
      "INFO:tensorflow:global_step/sec: 790.593\n",
      "INFO:tensorflow:step = 17501, loss = 1269.63 (0.130 sec)\n",
      "INFO:tensorflow:global_step/sec: 939.073\n",
      "INFO:tensorflow:step = 17601, loss = 905.511 (0.103 sec)\n",
      "INFO:tensorflow:global_step/sec: 852.542\n",
      "INFO:tensorflow:step = 17701, loss = 1683.03 (0.133 sec)\n",
      "INFO:tensorflow:global_step/sec: 748.818\n",
      "INFO:tensorflow:step = 17801, loss = 1034.87 (0.118 sec)\n",
      "INFO:tensorflow:global_step/sec: 851.11\n",
      "INFO:tensorflow:step = 17901, loss = 816.464 (0.117 sec)\n",
      "INFO:tensorflow:global_step/sec: 751.235\n",
      "INFO:tensorflow:step = 18001, loss = 732.587 (0.133 sec)\n",
      "INFO:tensorflow:global_step/sec: 756.629\n",
      "INFO:tensorflow:step = 18101, loss = 1230.29 (0.132 sec)\n"
     ]
    },
    {
     "name": "stdout",
     "output_type": "stream",
     "text": [
      "INFO:tensorflow:global_step/sec: 847.444\n",
      "INFO:tensorflow:step = 18201, loss = 844.662 (0.118 sec)\n",
      "INFO:tensorflow:global_step/sec: 755.442\n",
      "INFO:tensorflow:step = 18301, loss = 1205.9 (0.135 sec)\n",
      "INFO:tensorflow:global_step/sec: 804.308\n",
      "INFO:tensorflow:step = 18401, loss = 1565.33 (0.124 sec)\n",
      "INFO:tensorflow:global_step/sec: 767.184\n",
      "INFO:tensorflow:step = 18501, loss = 537.245 (0.130 sec)\n",
      "INFO:tensorflow:global_step/sec: 838.103\n",
      "INFO:tensorflow:step = 18601, loss = 1073.36 (0.119 sec)\n",
      "INFO:tensorflow:global_step/sec: 760.958\n",
      "INFO:tensorflow:step = 18701, loss = 825.252 (0.132 sec)\n",
      "INFO:tensorflow:global_step/sec: 788.992\n",
      "INFO:tensorflow:step = 18801, loss = 1874.96 (0.123 sec)\n",
      "INFO:tensorflow:global_step/sec: 740.808\n",
      "INFO:tensorflow:step = 18901, loss = 1267.88 (0.138 sec)\n",
      "INFO:tensorflow:global_step/sec: 862.576\n",
      "INFO:tensorflow:step = 19001, loss = 821.87 (0.113 sec)\n",
      "INFO:tensorflow:global_step/sec: 853.158\n",
      "INFO:tensorflow:step = 19101, loss = 2354.57 (0.117 sec)\n",
      "INFO:tensorflow:global_step/sec: 846.513\n",
      "INFO:tensorflow:step = 19201, loss = 824.128 (0.118 sec)\n",
      "INFO:tensorflow:global_step/sec: 865.238\n",
      "INFO:tensorflow:step = 19301, loss = 298.6 (0.116 sec)\n",
      "INFO:tensorflow:global_step/sec: 848.023\n",
      "INFO:tensorflow:step = 19401, loss = 2108.18 (0.118 sec)\n",
      "INFO:tensorflow:global_step/sec: 869.765\n",
      "INFO:tensorflow:step = 19501, loss = 1702.77 (0.115 sec)\n",
      "INFO:tensorflow:global_step/sec: 849.705\n",
      "INFO:tensorflow:step = 19601, loss = 1522.78 (0.118 sec)\n",
      "INFO:tensorflow:global_step/sec: 863.322\n",
      "INFO:tensorflow:step = 19701, loss = 1722.59 (0.116 sec)\n",
      "INFO:tensorflow:global_step/sec: 850.554\n",
      "INFO:tensorflow:step = 19801, loss = 1178.07 (0.118 sec)\n",
      "INFO:tensorflow:global_step/sec: 864.165\n",
      "INFO:tensorflow:step = 19901, loss = 942.608 (0.116 sec)\n",
      "INFO:tensorflow:global_step/sec: 841.738\n",
      "INFO:tensorflow:step = 20001, loss = 1535.87 (0.119 sec)\n",
      "INFO:tensorflow:global_step/sec: 862.6\n",
      "INFO:tensorflow:step = 20101, loss = 1781.77 (0.116 sec)\n",
      "INFO:tensorflow:global_step/sec: 854.934\n",
      "INFO:tensorflow:step = 20201, loss = 1752.17 (0.117 sec)\n",
      "INFO:tensorflow:global_step/sec: 752.016\n",
      "INFO:tensorflow:step = 20301, loss = 1407.63 (0.133 sec)\n",
      "INFO:tensorflow:global_step/sec: 803.759\n",
      "INFO:tensorflow:step = 20401, loss = 1921.08 (0.124 sec)\n",
      "INFO:tensorflow:global_step/sec: 791.707\n",
      "INFO:tensorflow:step = 20501, loss = 1066.69 (0.126 sec)\n",
      "INFO:tensorflow:global_step/sec: 753.48\n",
      "INFO:tensorflow:step = 20601, loss = 672.65 (0.143 sec)\n",
      "INFO:tensorflow:global_step/sec: 840.175\n",
      "INFO:tensorflow:step = 20701, loss = 1322.72 (0.109 sec)\n",
      "INFO:tensorflow:global_step/sec: 856.017\n",
      "INFO:tensorflow:step = 20801, loss = 1113.01 (0.117 sec)\n",
      "INFO:tensorflow:global_step/sec: 867.777\n",
      "INFO:tensorflow:step = 20901, loss = 1074.48 (0.131 sec)\n",
      "INFO:tensorflow:global_step/sec: 848.941\n",
      "INFO:tensorflow:step = 21001, loss = 421.202 (0.118 sec)\n",
      "INFO:tensorflow:global_step/sec: 757.595\n",
      "INFO:tensorflow:step = 21101, loss = 2455.98 (0.128 sec)\n",
      "INFO:tensorflow:global_step/sec: 777.267\n",
      "INFO:tensorflow:step = 21201, loss = 760.308 (0.119 sec)\n",
      "INFO:tensorflow:global_step/sec: 935.93\n",
      "INFO:tensorflow:step = 21301, loss = 1532.58 (0.123 sec)\n",
      "INFO:tensorflow:global_step/sec: 720.548\n",
      "INFO:tensorflow:step = 21401, loss = 997.363 (0.124 sec)\n",
      "INFO:tensorflow:global_step/sec: 906.101\n",
      "INFO:tensorflow:step = 21501, loss = 756.632 (0.123 sec)\n",
      "INFO:tensorflow:global_step/sec: 816.249\n",
      "INFO:tensorflow:step = 21601, loss = 921.158 (0.107 sec)\n",
      "INFO:tensorflow:global_step/sec: 792.145\n",
      "INFO:tensorflow:step = 21701, loss = 1139.8 (0.126 sec)\n",
      "INFO:tensorflow:global_step/sec: 854.733\n",
      "INFO:tensorflow:step = 21801, loss = 1725.25 (0.117 sec)\n",
      "INFO:tensorflow:global_step/sec: 842.277\n",
      "INFO:tensorflow:step = 21901, loss = 474.221 (0.119 sec)\n",
      "INFO:tensorflow:global_step/sec: 858.156\n",
      "INFO:tensorflow:step = 22001, loss = 1100.05 (0.117 sec)\n",
      "INFO:tensorflow:global_step/sec: 855.748\n",
      "INFO:tensorflow:step = 22101, loss = 1800.18 (0.117 sec)\n",
      "INFO:tensorflow:global_step/sec: 857.924\n",
      "INFO:tensorflow:step = 22201, loss = 2812.97 (0.117 sec)\n",
      "INFO:tensorflow:global_step/sec: 856.433\n",
      "INFO:tensorflow:step = 22301, loss = 480.405 (0.132 sec)\n",
      "INFO:tensorflow:global_step/sec: 742.169\n",
      "INFO:tensorflow:step = 22401, loss = 1319.93 (0.119 sec)\n",
      "INFO:tensorflow:global_step/sec: 858.792\n",
      "INFO:tensorflow:step = 22501, loss = 1535.16 (0.116 sec)\n",
      "INFO:tensorflow:global_step/sec: 860.245\n",
      "INFO:tensorflow:step = 22601, loss = 2019.06 (0.116 sec)\n",
      "INFO:tensorflow:global_step/sec: 858.498\n",
      "INFO:tensorflow:step = 22701, loss = 1594.84 (0.116 sec)\n",
      "INFO:tensorflow:global_step/sec: 854.778\n",
      "INFO:tensorflow:step = 22801, loss = 950.846 (0.117 sec)\n",
      "INFO:tensorflow:global_step/sec: 755.643\n",
      "INFO:tensorflow:step = 22901, loss = 684.822 (0.132 sec)\n",
      "INFO:tensorflow:global_step/sec: 843.39\n",
      "INFO:tensorflow:step = 23001, loss = 693.229 (0.119 sec)\n",
      "INFO:tensorflow:global_step/sec: 861.391\n",
      "INFO:tensorflow:step = 23101, loss = 1271.02 (0.116 sec)\n",
      "INFO:tensorflow:global_step/sec: 760.408\n",
      "INFO:tensorflow:step = 23201, loss = 1504.75 (0.132 sec)\n",
      "INFO:tensorflow:global_step/sec: 972.315\n",
      "INFO:tensorflow:step = 23301, loss = 778.127 (0.123 sec)\n",
      "INFO:tensorflow:global_step/sec: 752.371\n",
      "INFO:tensorflow:step = 23401, loss = 1099.69 (0.113 sec)\n",
      "INFO:tensorflow:global_step/sec: 860.988\n",
      "INFO:tensorflow:step = 23501, loss = 611.357 (0.116 sec)\n",
      "INFO:tensorflow:global_step/sec: 854.258\n",
      "INFO:tensorflow:step = 23601, loss = 2301.18 (0.117 sec)\n",
      "INFO:tensorflow:global_step/sec: 755.256\n",
      "INFO:tensorflow:step = 23701, loss = 1313.01 (0.132 sec)\n",
      "INFO:tensorflow:global_step/sec: 844.189\n",
      "INFO:tensorflow:step = 23801, loss = 1587.19 (0.118 sec)\n",
      "INFO:tensorflow:global_step/sec: 755.893\n",
      "INFO:tensorflow:step = 23901, loss = 937.242 (0.136 sec)\n",
      "INFO:tensorflow:global_step/sec: 853.431\n",
      "INFO:tensorflow:step = 24001, loss = 1881.43 (0.113 sec)\n",
      "INFO:tensorflow:global_step/sec: 745\n",
      "INFO:tensorflow:step = 24101, loss = 1685.12 (0.137 sec)\n",
      "INFO:tensorflow:global_step/sec: 857.428\n",
      "INFO:tensorflow:step = 24201, loss = 1281.67 (0.129 sec)\n",
      "INFO:tensorflow:global_step/sec: 749.415\n",
      "INFO:tensorflow:step = 24301, loss = 1566.52 (0.118 sec)\n",
      "INFO:tensorflow:global_step/sec: 854.627\n",
      "INFO:tensorflow:step = 24401, loss = 1507.31 (0.133 sec)\n",
      "INFO:tensorflow:global_step/sec: 743.522\n",
      "INFO:tensorflow:step = 24501, loss = 1356.69 (0.134 sec)\n",
      "INFO:tensorflow:global_step/sec: 863.585\n",
      "INFO:tensorflow:step = 24601, loss = 1047.32 (0.116 sec)\n",
      "INFO:tensorflow:global_step/sec: 750.022\n",
      "INFO:tensorflow:step = 24701, loss = 1434.72 (0.118 sec)\n",
      "INFO:tensorflow:global_step/sec: 850.294\n",
      "INFO:tensorflow:step = 24801, loss = 895.621 (0.118 sec)\n",
      "INFO:tensorflow:global_step/sec: 755.275\n",
      "INFO:tensorflow:step = 24901, loss = 798.048 (0.141 sec)\n",
      "INFO:tensorflow:global_step/sec: 856.244\n",
      "INFO:tensorflow:step = 25001, loss = 580.58 (0.124 sec)\n",
      "INFO:tensorflow:global_step/sec: 670.264\n",
      "INFO:tensorflow:step = 25101, loss = 1894.61 (0.134 sec)\n",
      "INFO:tensorflow:global_step/sec: 840.742\n",
      "INFO:tensorflow:step = 25201, loss = 946.032 (0.119 sec)\n",
      "INFO:tensorflow:global_step/sec: 815.914\n",
      "INFO:tensorflow:step = 25301, loss = 1190.28 (0.123 sec)\n",
      "INFO:tensorflow:global_step/sec: 900.268\n",
      "INFO:tensorflow:step = 25401, loss = 1279.99 (0.111 sec)\n",
      "INFO:tensorflow:global_step/sec: 852.542\n",
      "INFO:tensorflow:step = 25501, loss = 1774.75 (0.133 sec)\n",
      "INFO:tensorflow:global_step/sec: 860.017\n",
      "INFO:tensorflow:step = 25601, loss = 688.907 (0.116 sec)\n",
      "INFO:tensorflow:global_step/sec: 723.365\n",
      "INFO:tensorflow:step = 25701, loss = 1760.15 (0.123 sec)\n",
      "INFO:tensorflow:global_step/sec: 898.525\n",
      "INFO:tensorflow:step = 25801, loss = 927.896 (0.127 sec)\n",
      "INFO:tensorflow:global_step/sec: 749.485\n",
      "INFO:tensorflow:step = 25901, loss = 1250.71 (0.118 sec)\n",
      "INFO:tensorflow:global_step/sec: 853.122\n",
      "INFO:tensorflow:step = 26001, loss = 527.487 (0.117 sec)\n",
      "INFO:tensorflow:global_step/sec: 852.709\n",
      "INFO:tensorflow:step = 26101, loss = 1371.93 (0.117 sec)\n",
      "INFO:tensorflow:global_step/sec: 856.085\n",
      "INFO:tensorflow:step = 26201, loss = 1114.63 (0.117 sec)\n",
      "INFO:tensorflow:global_step/sec: 858.442\n",
      "INFO:tensorflow:step = 26301, loss = 911.278 (0.116 sec)\n",
      "INFO:tensorflow:global_step/sec: 858.475\n",
      "INFO:tensorflow:step = 26401, loss = 1409.09 (0.116 sec)\n",
      "INFO:tensorflow:global_step/sec: 851.31\n",
      "INFO:tensorflow:step = 26501, loss = 1163.16 (0.117 sec)\n"
     ]
    },
    {
     "name": "stdout",
     "output_type": "stream",
     "text": [
      "INFO:tensorflow:global_step/sec: 756.232\n",
      "INFO:tensorflow:step = 26601, loss = 685.711 (0.132 sec)\n",
      "INFO:tensorflow:global_step/sec: 854.819\n",
      "INFO:tensorflow:step = 26701, loss = 763.358 (0.117 sec)\n",
      "INFO:tensorflow:global_step/sec: 833.677\n",
      "INFO:tensorflow:step = 26801, loss = 924.286 (0.120 sec)\n",
      "INFO:tensorflow:global_step/sec: 881.204\n",
      "INFO:tensorflow:step = 26901, loss = 614.332 (0.129 sec)\n",
      "INFO:tensorflow:global_step/sec: 744.186\n",
      "INFO:tensorflow:step = 27001, loss = 579.181 (0.119 sec)\n",
      "INFO:tensorflow:global_step/sec: 875.605\n",
      "INFO:tensorflow:step = 27101, loss = 1372.04 (0.114 sec)\n",
      "INFO:tensorflow:global_step/sec: 853.94\n",
      "INFO:tensorflow:step = 27201, loss = 878.112 (0.117 sec)\n",
      "INFO:tensorflow:global_step/sec: 850.948\n",
      "INFO:tensorflow:step = 27301, loss = 527.683 (0.118 sec)\n",
      "INFO:tensorflow:global_step/sec: 752.883\n",
      "INFO:tensorflow:step = 27401, loss = 653.611 (0.133 sec)\n",
      "INFO:tensorflow:global_step/sec: 748.714\n",
      "INFO:tensorflow:step = 27501, loss = 1080.77 (0.134 sec)\n",
      "INFO:tensorflow:global_step/sec: 743.158\n",
      "INFO:tensorflow:step = 27601, loss = 882.088 (0.135 sec)\n",
      "INFO:tensorflow:global_step/sec: 848.883\n",
      "INFO:tensorflow:step = 27701, loss = 1525.34 (0.118 sec)\n",
      "INFO:tensorflow:global_step/sec: 866.927\n",
      "INFO:tensorflow:step = 27801, loss = 802.558 (0.131 sec)\n",
      "INFO:tensorflow:global_step/sec: 752.91\n",
      "INFO:tensorflow:step = 27901, loss = 1125.56 (0.117 sec)\n",
      "INFO:tensorflow:global_step/sec: 756.939\n",
      "INFO:tensorflow:step = 28001, loss = 1503.94 (0.132 sec)\n",
      "INFO:tensorflow:global_step/sec: 841.469\n",
      "INFO:tensorflow:step = 28101, loss = 2296.97 (0.134 sec)\n",
      "INFO:tensorflow:global_step/sec: 746.174\n",
      "INFO:tensorflow:step = 28201, loss = 734.895 (0.118 sec)\n",
      "INFO:tensorflow:global_step/sec: 858.061\n",
      "INFO:tensorflow:step = 28301, loss = 971.455 (0.132 sec)\n",
      "INFO:tensorflow:global_step/sec: 755.801\n",
      "INFO:tensorflow:step = 28401, loss = 755.245 (0.132 sec)\n",
      "INFO:tensorflow:global_step/sec: 747.139\n",
      "INFO:tensorflow:step = 28501, loss = 1773.72 (0.118 sec)\n",
      "INFO:tensorflow:global_step/sec: 862.181\n",
      "INFO:tensorflow:step = 28601, loss = 2359.36 (0.132 sec)\n",
      "INFO:tensorflow:global_step/sec: 746.814\n",
      "INFO:tensorflow:step = 28701, loss = 982.133 (0.118 sec)\n",
      "INFO:tensorflow:global_step/sec: 847.61\n",
      "INFO:tensorflow:step = 28801, loss = 562.195 (0.118 sec)\n",
      "INFO:tensorflow:global_step/sec: 857.634\n",
      "INFO:tensorflow:step = 28901, loss = 1696.69 (0.132 sec)\n",
      "INFO:tensorflow:global_step/sec: 856.487\n",
      "INFO:tensorflow:step = 29001, loss = 785.597 (0.117 sec)\n",
      "INFO:tensorflow:global_step/sec: 752.738\n",
      "INFO:tensorflow:step = 29101, loss = 969.224 (0.122 sec)\n",
      "INFO:tensorflow:global_step/sec: 993.386\n",
      "INFO:tensorflow:step = 29201, loss = 843.865 (0.112 sec)\n",
      "INFO:tensorflow:global_step/sec: 695.883\n",
      "INFO:tensorflow:step = 29301, loss = 834.824 (0.132 sec)\n",
      "INFO:tensorflow:global_step/sec: 818.848\n",
      "INFO:tensorflow:step = 29401, loss = 1839.22 (0.119 sec)\n",
      "INFO:tensorflow:global_step/sec: 842.417\n",
      "INFO:tensorflow:step = 29501, loss = 1286.75 (0.119 sec)\n",
      "INFO:tensorflow:global_step/sec: 759.997\n",
      "INFO:tensorflow:step = 29601, loss = 1759.16 (0.132 sec)\n",
      "INFO:tensorflow:global_step/sec: 962.462\n",
      "INFO:tensorflow:step = 29701, loss = 818.089 (0.104 sec)\n",
      "INFO:tensorflow:global_step/sec: 797.801\n",
      "INFO:tensorflow:step = 29801, loss = 693.63 (0.125 sec)\n",
      "INFO:tensorflow:global_step/sec: 930.453\n",
      "INFO:tensorflow:step = 29901, loss = 805.347 (0.123 sec)\n",
      "INFO:tensorflow:global_step/sec: 856.68\n",
      "INFO:tensorflow:step = 30001, loss = 940.057 (0.101 sec)\n",
      "INFO:tensorflow:global_step/sec: 754.556\n",
      "INFO:tensorflow:step = 30101, loss = 244.445 (0.133 sec)\n",
      "INFO:tensorflow:global_step/sec: 849.675\n",
      "INFO:tensorflow:step = 30201, loss = 1419.19 (0.118 sec)\n",
      "INFO:tensorflow:global_step/sec: 861.641\n",
      "INFO:tensorflow:step = 30301, loss = 1872.19 (0.116 sec)\n",
      "INFO:tensorflow:global_step/sec: 853.203\n",
      "INFO:tensorflow:step = 30401, loss = 1608.66 (0.133 sec)\n",
      "INFO:tensorflow:global_step/sec: 763.235\n",
      "INFO:tensorflow:step = 30501, loss = 840.138 (0.115 sec)\n",
      "INFO:tensorflow:global_step/sec: 837.753\n",
      "INFO:tensorflow:step = 30601, loss = 1323.63 (0.119 sec)\n",
      "INFO:tensorflow:global_step/sec: 861.731\n",
      "INFO:tensorflow:step = 30701, loss = 1709.89 (0.116 sec)\n",
      "INFO:tensorflow:global_step/sec: 848.371\n",
      "INFO:tensorflow:step = 30801, loss = 1290.83 (0.118 sec)\n",
      "INFO:tensorflow:global_step/sec: 856.559\n",
      "INFO:tensorflow:step = 30901, loss = 1607.56 (0.132 sec)\n",
      "INFO:tensorflow:global_step/sec: 757.454\n",
      "INFO:tensorflow:step = 31001, loss = 768.51 (0.116 sec)\n",
      "INFO:tensorflow:global_step/sec: 853.056\n",
      "INFO:tensorflow:step = 31101, loss = 384.741 (0.117 sec)\n",
      "INFO:tensorflow:global_step/sec: 757.037\n",
      "INFO:tensorflow:step = 31201, loss = 1253.94 (0.132 sec)\n",
      "INFO:tensorflow:global_step/sec: 968.997\n",
      "INFO:tensorflow:step = 31301, loss = 1164.5 (0.119 sec)\n",
      "INFO:tensorflow:global_step/sec: 858.201\n",
      "INFO:tensorflow:step = 31401, loss = 1341.64 (0.117 sec)\n",
      "INFO:tensorflow:global_step/sec: 757.788\n",
      "INFO:tensorflow:step = 31501, loss = 1910.84 (0.116 sec)\n",
      "INFO:tensorflow:global_step/sec: 856.946\n",
      "INFO:tensorflow:step = 31601, loss = 1411.04 (0.117 sec)\n",
      "INFO:tensorflow:global_step/sec: 758.69\n",
      "INFO:tensorflow:step = 31701, loss = 1343.47 (0.132 sec)\n",
      "INFO:tensorflow:global_step/sec: 848.205\n",
      "INFO:tensorflow:step = 31801, loss = 621.389 (0.118 sec)\n",
      "INFO:tensorflow:global_step/sec: 853.994\n",
      "INFO:tensorflow:step = 31901, loss = 1281.98 (0.117 sec)\n",
      "INFO:tensorflow:global_step/sec: 855.397\n",
      "INFO:tensorflow:step = 32001, loss = 1469.8 (0.117 sec)\n",
      "INFO:tensorflow:global_step/sec: 856.956\n",
      "INFO:tensorflow:step = 32101, loss = 2864.01 (0.117 sec)\n",
      "INFO:tensorflow:global_step/sec: 858.052\n",
      "INFO:tensorflow:step = 32201, loss = 1069.9 (0.134 sec)\n",
      "INFO:tensorflow:global_step/sec: 743.199\n",
      "INFO:tensorflow:step = 32301, loss = 1304.46 (0.118 sec)\n",
      "INFO:tensorflow:global_step/sec: 856.774\n",
      "INFO:tensorflow:step = 32401, loss = 1174.78 (0.117 sec)\n",
      "INFO:tensorflow:global_step/sec: 847.786\n",
      "INFO:tensorflow:step = 32501, loss = 901.07 (0.131 sec)\n",
      "INFO:tensorflow:global_step/sec: 859.751\n",
      "INFO:tensorflow:step = 32601, loss = 2312.88 (0.117 sec)\n",
      "INFO:tensorflow:global_step/sec: 760.374\n",
      "INFO:tensorflow:step = 32701, loss = 848.671 (0.117 sec)\n",
      "INFO:tensorflow:global_step/sec: 852.953\n",
      "INFO:tensorflow:step = 32801, loss = 431.283 (0.117 sec)\n",
      "INFO:tensorflow:global_step/sec: 846.184\n",
      "INFO:tensorflow:step = 32901, loss = 1480.2 (0.122 sec)\n",
      "INFO:tensorflow:global_step/sec: 859.156\n",
      "INFO:tensorflow:step = 33001, loss = 1014.89 (0.113 sec)\n",
      "INFO:tensorflow:global_step/sec: 849.306\n",
      "INFO:tensorflow:step = 33101, loss = 1650.85 (0.118 sec)\n",
      "INFO:tensorflow:global_step/sec: 873.65\n",
      "INFO:tensorflow:step = 33201, loss = 1010.58 (0.114 sec)\n",
      "INFO:tensorflow:global_step/sec: 836.408\n",
      "INFO:tensorflow:step = 33301, loss = 454.574 (0.135 sec)\n",
      "INFO:tensorflow:global_step/sec: 743.982\n",
      "INFO:tensorflow:step = 33401, loss = 741.32 (0.120 sec)\n",
      "INFO:tensorflow:global_step/sec: 885.207\n",
      "INFO:tensorflow:step = 33501, loss = 433.792 (0.124 sec)\n",
      "INFO:tensorflow:global_step/sec: 841.713\n",
      "INFO:tensorflow:step = 33601, loss = 1019.05 (0.123 sec)\n",
      "INFO:tensorflow:global_step/sec: 754.889\n",
      "INFO:tensorflow:step = 33701, loss = 1073.09 (0.117 sec)\n",
      "INFO:tensorflow:global_step/sec: 749.966\n",
      "INFO:tensorflow:step = 33801, loss = 899.556 (0.133 sec)\n",
      "INFO:tensorflow:global_step/sec: 856.751\n",
      "INFO:tensorflow:step = 33901, loss = 998.526 (0.117 sec)\n",
      "INFO:tensorflow:global_step/sec: 851.326\n",
      "INFO:tensorflow:step = 34001, loss = 806.903 (0.133 sec)\n",
      "INFO:tensorflow:global_step/sec: 844.317\n",
      "INFO:tensorflow:step = 34101, loss = 1118.09 (0.118 sec)\n",
      "INFO:tensorflow:global_step/sec: 860.992\n",
      "INFO:tensorflow:step = 34201, loss = 1314.08 (0.116 sec)\n",
      "INFO:tensorflow:global_step/sec: 866.141\n",
      "INFO:tensorflow:step = 34301, loss = 575.93 (0.115 sec)\n",
      "INFO:tensorflow:global_step/sec: 851.651\n",
      "INFO:tensorflow:step = 34401, loss = 1620.08 (0.102 sec)\n",
      "INFO:tensorflow:global_step/sec: 850.396\n",
      "INFO:tensorflow:step = 34501, loss = 2015.32 (0.118 sec)\n",
      "INFO:tensorflow:global_step/sec: 860.529\n",
      "INFO:tensorflow:step = 34601, loss = 1138.1 (0.116 sec)\n",
      "INFO:tensorflow:global_step/sec: 861.255\n",
      "INFO:tensorflow:step = 34701, loss = 810.116 (0.116 sec)\n",
      "INFO:tensorflow:global_step/sec: 845.196\n",
      "INFO:tensorflow:step = 34801, loss = 1232.31 (0.118 sec)\n",
      "INFO:tensorflow:global_step/sec: 854.735\n",
      "INFO:tensorflow:step = 34901, loss = 763.141 (0.117 sec)\n"
     ]
    },
    {
     "name": "stdout",
     "output_type": "stream",
     "text": [
      "INFO:tensorflow:global_step/sec: 862.867\n",
      "INFO:tensorflow:step = 35001, loss = 1416.05 (0.116 sec)\n",
      "INFO:tensorflow:global_step/sec: 869.363\n",
      "INFO:tensorflow:step = 35101, loss = 911.784 (0.115 sec)\n",
      "INFO:tensorflow:global_step/sec: 856.274\n",
      "INFO:tensorflow:step = 35201, loss = 860.393 (0.117 sec)\n",
      "INFO:tensorflow:global_step/sec: 751.159\n",
      "INFO:tensorflow:step = 35301, loss = 1060.98 (0.133 sec)\n",
      "INFO:tensorflow:global_step/sec: 861.485\n",
      "INFO:tensorflow:step = 35401, loss = 1102.21 (0.116 sec)\n",
      "INFO:tensorflow:global_step/sec: 741.934\n",
      "INFO:tensorflow:step = 35501, loss = 991.152 (0.135 sec)\n",
      "INFO:tensorflow:global_step/sec: 754.179\n",
      "INFO:tensorflow:step = 35601, loss = 987.933 (0.133 sec)\n",
      "INFO:tensorflow:global_step/sec: 847.726\n",
      "INFO:tensorflow:step = 35701, loss = 1460.23 (0.118 sec)\n",
      "INFO:tensorflow:global_step/sec: 848.172\n",
      "INFO:tensorflow:step = 35801, loss = 1357.85 (0.118 sec)\n",
      "INFO:tensorflow:global_step/sec: 756.289\n",
      "INFO:tensorflow:step = 35901, loss = 744.125 (0.132 sec)\n",
      "INFO:tensorflow:global_step/sec: 863.443\n",
      "INFO:tensorflow:step = 36001, loss = 2058.32 (0.116 sec)\n",
      "INFO:tensorflow:global_step/sec: 848.695\n",
      "INFO:tensorflow:step = 36101, loss = 2066.75 (0.118 sec)\n",
      "INFO:tensorflow:global_step/sec: 864.058\n",
      "INFO:tensorflow:step = 36201, loss = 705.391 (0.116 sec)\n",
      "INFO:tensorflow:global_step/sec: 848.604\n",
      "INFO:tensorflow:step = 36301, loss = 1423.76 (0.118 sec)\n",
      "INFO:tensorflow:global_step/sec: 859.968\n",
      "INFO:tensorflow:step = 36401, loss = 1250.2 (0.116 sec)\n",
      "INFO:tensorflow:global_step/sec: 846.45\n",
      "INFO:tensorflow:step = 36501, loss = 993.011 (0.134 sec)\n",
      "INFO:tensorflow:global_step/sec: 867.536\n",
      "INFO:tensorflow:step = 36601, loss = 764.611 (0.115 sec)\n",
      "INFO:tensorflow:global_step/sec: 754.058\n",
      "INFO:tensorflow:step = 36701, loss = 1105.03 (0.117 sec)\n",
      "INFO:tensorflow:global_step/sec: 837.35\n",
      "INFO:tensorflow:step = 36801, loss = 1298.04 (0.135 sec)\n",
      "INFO:tensorflow:global_step/sec: 761.233\n",
      "INFO:tensorflow:step = 36901, loss = 923.041 (0.116 sec)\n",
      "INFO:tensorflow:global_step/sec: 858.163\n",
      "INFO:tensorflow:step = 37001, loss = 804.221 (0.117 sec)\n",
      "INFO:tensorflow:global_step/sec: 846.296\n",
      "INFO:tensorflow:step = 37101, loss = 1513.69 (0.134 sec)\n",
      "INFO:tensorflow:global_step/sec: 759.106\n",
      "INFO:tensorflow:step = 37201, loss = 1539.4 (0.116 sec)\n",
      "INFO:tensorflow:global_step/sec: 896.249\n",
      "INFO:tensorflow:step = 37301, loss = 1548.3 (0.127 sec)\n",
      "INFO:tensorflow:global_step/sec: 795.984\n",
      "INFO:tensorflow:step = 37401, loss = 1180.16 (0.110 sec)\n",
      "INFO:tensorflow:global_step/sec: 868.976\n",
      "INFO:tensorflow:step = 37501, loss = 1885.14 (0.131 sec)\n",
      "INFO:tensorflow:global_step/sec: 756.344\n",
      "INFO:tensorflow:step = 37601, loss = 990.845 (0.117 sec)\n",
      "INFO:tensorflow:global_step/sec: 844.984\n",
      "INFO:tensorflow:step = 37701, loss = 882.299 (0.134 sec)\n",
      "INFO:tensorflow:global_step/sec: 769.055\n",
      "INFO:tensorflow:step = 37801, loss = 1506.58 (0.114 sec)\n",
      "INFO:tensorflow:global_step/sec: 844.42\n",
      "INFO:tensorflow:step = 37901, loss = 2071.19 (0.118 sec)\n",
      "INFO:tensorflow:global_step/sec: 745.974\n",
      "INFO:tensorflow:step = 38001, loss = 837.578 (0.141 sec)\n",
      "INFO:tensorflow:global_step/sec: 849.777\n",
      "INFO:tensorflow:step = 38101, loss = 2418.86 (0.111 sec)\n",
      "INFO:tensorflow:global_step/sec: 757.639\n",
      "INFO:tensorflow:step = 38201, loss = 1075.53 (0.145 sec)\n",
      "INFO:tensorflow:global_step/sec: 742.286\n",
      "INFO:tensorflow:step = 38301, loss = 704.486 (0.122 sec)\n",
      "INFO:tensorflow:global_step/sec: 783.568\n",
      "INFO:tensorflow:step = 38401, loss = 1036.38 (0.131 sec)\n",
      "INFO:tensorflow:global_step/sec: 791.544\n",
      "INFO:tensorflow:step = 38501, loss = 1553.12 (0.127 sec)\n",
      "INFO:tensorflow:global_step/sec: 865.705\n",
      "INFO:tensorflow:step = 38601, loss = 1145.41 (0.112 sec)\n",
      "INFO:tensorflow:global_step/sec: 730.819\n",
      "INFO:tensorflow:step = 38701, loss = 1029.88 (0.140 sec)\n",
      "INFO:tensorflow:global_step/sec: 791.536\n",
      "INFO:tensorflow:step = 38801, loss = 1668.28 (0.126 sec)\n",
      "INFO:tensorflow:global_step/sec: 825.045\n",
      "INFO:tensorflow:step = 38901, loss = 973.699 (0.118 sec)\n",
      "INFO:tensorflow:global_step/sec: 785.636\n",
      "INFO:tensorflow:step = 39001, loss = 375.945 (0.131 sec)\n",
      "INFO:tensorflow:global_step/sec: 819.913\n",
      "INFO:tensorflow:step = 39101, loss = 1384.46 (0.118 sec)\n",
      "INFO:tensorflow:global_step/sec: 758.292\n",
      "INFO:tensorflow:step = 39201, loss = 980.188 (0.132 sec)\n",
      "INFO:tensorflow:global_step/sec: 730.469\n",
      "INFO:tensorflow:step = 39301, loss = 1552.6 (0.140 sec)\n",
      "INFO:tensorflow:global_step/sec: 692.595\n",
      "INFO:tensorflow:step = 39401, loss = 1710.57 (0.145 sec)\n",
      "INFO:tensorflow:global_step/sec: 647.101\n",
      "INFO:tensorflow:step = 39501, loss = 624.258 (0.150 sec)\n",
      "INFO:tensorflow:global_step/sec: 904.45\n",
      "INFO:tensorflow:step = 39601, loss = 1385.69 (0.126 sec)\n",
      "INFO:tensorflow:global_step/sec: 834.661\n",
      "INFO:tensorflow:step = 39701, loss = 797.075 (0.120 sec)\n",
      "INFO:tensorflow:global_step/sec: 649.884\n",
      "INFO:tensorflow:step = 39801, loss = 963.788 (0.142 sec)\n",
      "INFO:tensorflow:global_step/sec: 692.604\n",
      "INFO:tensorflow:step = 39901, loss = 973.086 (0.143 sec)\n",
      "INFO:tensorflow:global_step/sec: 749.726\n",
      "INFO:tensorflow:step = 40001, loss = 1531.3 (0.133 sec)\n",
      "INFO:tensorflow:global_step/sec: 811.059\n",
      "INFO:tensorflow:step = 40101, loss = 1010.18 (0.123 sec)\n",
      "INFO:tensorflow:global_step/sec: 791.545\n",
      "INFO:tensorflow:step = 40201, loss = 1432.91 (0.126 sec)\n",
      "INFO:tensorflow:global_step/sec: 843.719\n",
      "INFO:tensorflow:step = 40301, loss = 1290.87 (0.120 sec)\n",
      "INFO:tensorflow:global_step/sec: 785.309\n",
      "INFO:tensorflow:step = 40401, loss = 1603.33 (0.126 sec)\n",
      "INFO:tensorflow:global_step/sec: 817.493\n",
      "INFO:tensorflow:step = 40501, loss = 1090.07 (0.124 sec)\n",
      "INFO:tensorflow:global_step/sec: 807.95\n",
      "INFO:tensorflow:step = 40601, loss = 1333.37 (0.122 sec)\n",
      "INFO:tensorflow:global_step/sec: 879.755\n",
      "INFO:tensorflow:step = 40701, loss = 886.216 (0.111 sec)\n",
      "INFO:tensorflow:global_step/sec: 768.375\n",
      "INFO:tensorflow:step = 40801, loss = 1644.2 (0.130 sec)\n",
      "INFO:tensorflow:global_step/sec: 846.891\n",
      "INFO:tensorflow:step = 40901, loss = 1243.37 (0.118 sec)\n",
      "INFO:tensorflow:global_step/sec: 849.946\n",
      "INFO:tensorflow:step = 41001, loss = 1205.02 (0.133 sec)\n",
      "INFO:tensorflow:global_step/sec: 848.211\n",
      "INFO:tensorflow:step = 41101, loss = 1387.18 (0.118 sec)\n",
      "INFO:tensorflow:global_step/sec: 759.07\n",
      "INFO:tensorflow:step = 41201, loss = 992.632 (0.116 sec)\n",
      "INFO:tensorflow:global_step/sec: 850.905\n",
      "INFO:tensorflow:step = 41301, loss = 1689.45 (0.118 sec)\n",
      "INFO:tensorflow:global_step/sec: 860.762\n",
      "INFO:tensorflow:step = 41401, loss = 1272.86 (0.116 sec)\n",
      "INFO:tensorflow:global_step/sec: 787.095\n",
      "INFO:tensorflow:step = 41501, loss = 1343.48 (0.130 sec)\n",
      "INFO:tensorflow:global_step/sec: 915.481\n",
      "INFO:tensorflow:step = 41601, loss = 565.39 (0.116 sec)\n",
      "INFO:tensorflow:global_step/sec: 849.206\n",
      "INFO:tensorflow:step = 41701, loss = 1016.42 (0.122 sec)\n",
      "INFO:tensorflow:global_step/sec: 747.216\n",
      "INFO:tensorflow:step = 41801, loss = 1788.51 (0.119 sec)\n",
      "INFO:tensorflow:global_step/sec: 767.636\n",
      "INFO:tensorflow:step = 41901, loss = 1305.79 (0.130 sec)\n",
      "INFO:tensorflow:global_step/sec: 750.333\n",
      "INFO:tensorflow:step = 42001, loss = 1606.32 (0.133 sec)\n",
      "INFO:tensorflow:global_step/sec: 893.494\n",
      "INFO:tensorflow:step = 42101, loss = 975.449 (0.128 sec)\n",
      "INFO:tensorflow:global_step/sec: 722.909\n",
      "INFO:tensorflow:step = 42201, loss = 1002.45 (0.123 sec)\n",
      "INFO:tensorflow:global_step/sec: 843.358\n",
      "INFO:tensorflow:step = 42301, loss = 1744.82 (0.119 sec)\n",
      "INFO:tensorflow:global_step/sec: 856.173\n",
      "INFO:tensorflow:step = 42401, loss = 1666.86 (0.132 sec)\n",
      "INFO:tensorflow:global_step/sec: 751.498\n",
      "INFO:tensorflow:step = 42501, loss = 770.76 (0.117 sec)\n",
      "INFO:tensorflow:global_step/sec: 897.181\n",
      "INFO:tensorflow:step = 42601, loss = 1519.7 (0.128 sec)\n",
      "INFO:tensorflow:global_step/sec: 727.883\n",
      "INFO:tensorflow:step = 42701, loss = 1587.98 (0.121 sec)\n",
      "INFO:tensorflow:global_step/sec: 851.205\n",
      "INFO:tensorflow:step = 42801, loss = 1015.96 (0.117 sec)\n",
      "INFO:tensorflow:global_step/sec: 857.999\n",
      "INFO:tensorflow:step = 42901, loss = 1162.81 (0.117 sec)\n",
      "INFO:tensorflow:global_step/sec: 849.713\n",
      "INFO:tensorflow:step = 43001, loss = 2233.91 (0.133 sec)\n",
      "INFO:tensorflow:global_step/sec: 753.222\n",
      "INFO:tensorflow:step = 43101, loss = 1551.97 (0.117 sec)\n",
      "INFO:tensorflow:global_step/sec: 853.933\n",
      "INFO:tensorflow:step = 43201, loss = 949.582 (0.117 sec)\n",
      "INFO:tensorflow:global_step/sec: 853.024\n",
      "INFO:tensorflow:step = 43301, loss = 1241.71 (0.117 sec)\n"
     ]
    },
    {
     "name": "stdout",
     "output_type": "stream",
     "text": [
      "INFO:tensorflow:global_step/sec: 861.177\n",
      "INFO:tensorflow:step = 43401, loss = 708.646 (0.116 sec)\n",
      "INFO:tensorflow:global_step/sec: 858.324\n",
      "INFO:tensorflow:step = 43501, loss = 1961.44 (0.117 sec)\n",
      "INFO:tensorflow:global_step/sec: 858.948\n",
      "INFO:tensorflow:step = 43601, loss = 917.453 (0.116 sec)\n",
      "INFO:tensorflow:global_step/sec: 783.94\n",
      "INFO:tensorflow:step = 43701, loss = 1027.22 (0.132 sec)\n",
      "INFO:tensorflow:global_step/sec: 722.772\n",
      "INFO:tensorflow:step = 43801, loss = 429.037 (0.137 sec)\n",
      "INFO:tensorflow:global_step/sec: 846.472\n",
      "INFO:tensorflow:step = 43901, loss = 555.144 (0.115 sec)\n",
      "INFO:tensorflow:global_step/sec: 846.836\n",
      "INFO:tensorflow:step = 44001, loss = 1746.35 (0.134 sec)\n",
      "INFO:tensorflow:global_step/sec: 739.606\n",
      "INFO:tensorflow:step = 44101, loss = 1126.05 (0.120 sec)\n",
      "INFO:tensorflow:global_step/sec: 880.269\n",
      "INFO:tensorflow:step = 44201, loss = 2174.21 (0.129 sec)\n",
      "INFO:tensorflow:global_step/sec: 737.867\n",
      "INFO:tensorflow:step = 44301, loss = 527.206 (0.120 sec)\n",
      "INFO:tensorflow:global_step/sec: 879.992\n",
      "INFO:tensorflow:step = 44401, loss = 356.206 (0.114 sec)\n",
      "INFO:tensorflow:global_step/sec: 726.301\n",
      "INFO:tensorflow:step = 44501, loss = 863.749 (0.142 sec)\n",
      "INFO:tensorflow:global_step/sec: 804.308\n",
      "INFO:tensorflow:step = 44601, loss = 1045.9 (0.123 sec)\n",
      "INFO:tensorflow:global_step/sec: 941.011\n",
      "INFO:tensorflow:step = 44701, loss = 1043.34 (0.119 sec)\n",
      "INFO:tensorflow:global_step/sec: 861.202\n",
      "INFO:tensorflow:step = 44801, loss = 1502.03 (0.116 sec)\n",
      "INFO:tensorflow:global_step/sec: 747.453\n",
      "INFO:tensorflow:step = 44901, loss = 678.449 (0.121 sec)\n",
      "INFO:tensorflow:global_step/sec: 794.502\n",
      "INFO:tensorflow:step = 45001, loss = 2021.87 (0.123 sec)\n",
      "INFO:tensorflow:global_step/sec: 708.106\n",
      "INFO:tensorflow:step = 45101, loss = 976.61 (0.146 sec)\n",
      "INFO:tensorflow:global_step/sec: 840.373\n",
      "INFO:tensorflow:step = 45201, loss = 1619.71 (0.126 sec)\n",
      "INFO:tensorflow:global_step/sec: 866.755\n",
      "INFO:tensorflow:step = 45301, loss = 1585.03 (0.119 sec)\n",
      "INFO:tensorflow:global_step/sec: 865.383\n",
      "INFO:tensorflow:step = 45401, loss = 722.767 (0.117 sec)\n",
      "INFO:tensorflow:global_step/sec: 756.265\n",
      "INFO:tensorflow:step = 45501, loss = 769.936 (0.115 sec)\n",
      "INFO:tensorflow:global_step/sec: 743.513\n",
      "INFO:tensorflow:step = 45601, loss = 486.861 (0.134 sec)\n",
      "INFO:tensorflow:global_step/sec: 855.432\n",
      "INFO:tensorflow:step = 45701, loss = 1079.15 (0.117 sec)\n",
      "INFO:tensorflow:global_step/sec: 851.793\n",
      "INFO:tensorflow:step = 45801, loss = 834.861 (0.117 sec)\n",
      "INFO:tensorflow:global_step/sec: 850.968\n",
      "INFO:tensorflow:step = 45901, loss = 1658.46 (0.118 sec)\n",
      "INFO:tensorflow:global_step/sec: 801.033\n",
      "INFO:tensorflow:step = 46001, loss = 776.693 (0.129 sec)\n",
      "INFO:tensorflow:global_step/sec: 921.533\n",
      "INFO:tensorflow:step = 46101, loss = 718.844 (0.120 sec)\n",
      "INFO:tensorflow:global_step/sec: 861.991\n",
      "INFO:tensorflow:step = 46201, loss = 693.001 (0.100 sec)\n",
      "INFO:tensorflow:global_step/sec: 853.483\n",
      "INFO:tensorflow:step = 46301, loss = 1729.84 (0.117 sec)\n",
      "INFO:tensorflow:global_step/sec: 851.855\n",
      "INFO:tensorflow:step = 46401, loss = 1205.22 (0.117 sec)\n",
      "INFO:tensorflow:global_step/sec: 858.503\n",
      "INFO:tensorflow:step = 46501, loss = 890.34 (0.116 sec)\n",
      "INFO:tensorflow:global_step/sec: 989.937\n",
      "INFO:tensorflow:step = 46601, loss = 781.325 (0.117 sec)\n",
      "INFO:tensorflow:global_step/sec: 831.438\n",
      "INFO:tensorflow:step = 46701, loss = 766.72 (0.105 sec)\n",
      "INFO:tensorflow:global_step/sec: 755.665\n",
      "INFO:tensorflow:step = 46801, loss = 967.958 (0.136 sec)\n",
      "INFO:tensorflow:global_step/sec: 881.04\n",
      "INFO:tensorflow:step = 46901, loss = 951.405 (0.109 sec)\n",
      "INFO:tensorflow:global_step/sec: 848.879\n",
      "INFO:tensorflow:step = 47001, loss = 917.706 (0.118 sec)\n",
      "INFO:tensorflow:global_step/sec: 849.891\n",
      "INFO:tensorflow:step = 47101, loss = 2077.67 (0.118 sec)\n",
      "INFO:tensorflow:global_step/sec: 872.913\n",
      "INFO:tensorflow:step = 47201, loss = 1904.93 (0.115 sec)\n",
      "INFO:tensorflow:global_step/sec: 857.261\n",
      "INFO:tensorflow:step = 47301, loss = 1410.99 (0.117 sec)\n",
      "INFO:tensorflow:global_step/sec: 852.527\n",
      "INFO:tensorflow:step = 47401, loss = 592.493 (0.117 sec)\n",
      "INFO:tensorflow:global_step/sec: 825.262\n",
      "INFO:tensorflow:step = 47501, loss = 1424.52 (0.125 sec)\n",
      "INFO:tensorflow:global_step/sec: 736.943\n",
      "INFO:tensorflow:step = 47601, loss = 783.512 (0.136 sec)\n",
      "INFO:tensorflow:global_step/sec: 893.304\n",
      "INFO:tensorflow:step = 47701, loss = 973.775 (0.108 sec)\n",
      "INFO:tensorflow:global_step/sec: 846.604\n",
      "INFO:tensorflow:step = 47801, loss = 1577.85 (0.134 sec)\n",
      "INFO:tensorflow:global_step/sec: 875.842\n",
      "INFO:tensorflow:step = 47901, loss = 690.712 (0.114 sec)\n",
      "INFO:tensorflow:global_step/sec: 694.46\n",
      "INFO:tensorflow:step = 48001, loss = 2217.03 (0.131 sec)\n",
      "INFO:tensorflow:global_step/sec: 949.462\n",
      "INFO:tensorflow:step = 48101, loss = 1186.04 (0.102 sec)\n",
      "INFO:tensorflow:global_step/sec: 740.032\n",
      "INFO:tensorflow:step = 48201, loss = 1439.18 (0.140 sec)\n",
      "INFO:tensorflow:global_step/sec: 767.186\n",
      "INFO:tensorflow:step = 48301, loss = 747.644 (0.128 sec)\n",
      "INFO:tensorflow:global_step/sec: 962.475\n",
      "INFO:tensorflow:step = 48401, loss = 636.476 (0.101 sec)\n",
      "INFO:tensorflow:global_step/sec: 773.881\n",
      "INFO:tensorflow:step = 48501, loss = 1007.08 (0.133 sec)\n",
      "INFO:tensorflow:global_step/sec: 809.41\n",
      "INFO:tensorflow:step = 48601, loss = 944.22 (0.123 sec)\n",
      "INFO:tensorflow:global_step/sec: 768.835\n",
      "INFO:tensorflow:step = 48701, loss = 1331.16 (0.127 sec)\n",
      "INFO:tensorflow:global_step/sec: 767.698\n",
      "INFO:tensorflow:step = 48801, loss = 1165.28 (0.130 sec)\n",
      "INFO:tensorflow:global_step/sec: 842.24\n",
      "INFO:tensorflow:step = 48901, loss = 995.29 (0.119 sec)\n",
      "INFO:tensorflow:global_step/sec: 851.475\n",
      "INFO:tensorflow:step = 49001, loss = 1322.6 (0.117 sec)\n",
      "INFO:tensorflow:global_step/sec: 851.319\n",
      "INFO:tensorflow:step = 49101, loss = 1036.29 (0.117 sec)\n",
      "INFO:tensorflow:global_step/sec: 861.375\n",
      "INFO:tensorflow:step = 49201, loss = 1362.7 (0.132 sec)\n",
      "INFO:tensorflow:global_step/sec: 751.402\n",
      "INFO:tensorflow:step = 49301, loss = 556.745 (0.117 sec)\n",
      "INFO:tensorflow:global_step/sec: 856.083\n",
      "INFO:tensorflow:step = 49401, loss = 1179.78 (0.132 sec)\n",
      "INFO:tensorflow:global_step/sec: 780.063\n",
      "INFO:tensorflow:step = 49501, loss = 2026.09 (0.125 sec)\n",
      "INFO:tensorflow:global_step/sec: 733.606\n",
      "INFO:tensorflow:step = 49601, loss = 643.101 (0.128 sec)\n",
      "INFO:tensorflow:global_step/sec: 785.309\n",
      "INFO:tensorflow:step = 49701, loss = 1179.84 (0.126 sec)\n",
      "INFO:tensorflow:global_step/sec: 824.077\n",
      "INFO:tensorflow:step = 49801, loss = 1762.51 (0.121 sec)\n",
      "INFO:tensorflow:global_step/sec: 773.285\n",
      "INFO:tensorflow:step = 49901, loss = 1582.58 (0.130 sec)\n",
      "INFO:tensorflow:global_step/sec: 797.753\n",
      "INFO:tensorflow:step = 50001, loss = 1037.15 (0.125 sec)\n",
      "INFO:tensorflow:global_step/sec: 785.419\n",
      "INFO:tensorflow:step = 50101, loss = 473.375 (0.126 sec)\n",
      "INFO:tensorflow:global_step/sec: 818.479\n",
      "INFO:tensorflow:step = 50201, loss = 1121.76 (0.128 sec)\n",
      "INFO:tensorflow:global_step/sec: 799.309\n",
      "INFO:tensorflow:step = 50301, loss = 761.354 (0.120 sec)\n",
      "INFO:tensorflow:global_step/sec: 795.032\n",
      "INFO:tensorflow:step = 50401, loss = 1113.2 (0.126 sec)\n",
      "INFO:tensorflow:global_step/sec: 744.104\n",
      "INFO:tensorflow:step = 50501, loss = 1251.77 (0.133 sec)\n",
      "INFO:tensorflow:global_step/sec: 890.73\n",
      "INFO:tensorflow:step = 50601, loss = 739.687 (0.112 sec)\n",
      "INFO:tensorflow:global_step/sec: 832.187\n",
      "INFO:tensorflow:step = 50701, loss = 1166.52 (0.117 sec)\n",
      "INFO:tensorflow:global_step/sec: 738.399\n",
      "INFO:tensorflow:step = 50801, loss = 871.943 (0.138 sec)\n",
      "INFO:tensorflow:global_step/sec: 779.17\n",
      "INFO:tensorflow:step = 50901, loss = 1656.68 (0.128 sec)\n",
      "INFO:tensorflow:global_step/sec: 817.492\n",
      "INFO:tensorflow:step = 51001, loss = 1425.14 (0.124 sec)\n",
      "INFO:tensorflow:global_step/sec: 804.314\n",
      "INFO:tensorflow:step = 51101, loss = 525.911 (0.123 sec)\n",
      "INFO:tensorflow:global_step/sec: 852.57\n",
      "INFO:tensorflow:step = 51201, loss = 1587.7 (0.117 sec)\n",
      "INFO:tensorflow:global_step/sec: 810.851\n",
      "INFO:tensorflow:step = 51301, loss = 891.355 (0.121 sec)\n",
      "INFO:tensorflow:global_step/sec: 731.399\n",
      "INFO:tensorflow:step = 51401, loss = 929.483 (0.140 sec)\n",
      "INFO:tensorflow:global_step/sec: 643.318\n",
      "INFO:tensorflow:step = 51501, loss = 1238.01 (0.153 sec)\n",
      "INFO:tensorflow:global_step/sec: 793.642\n",
      "INFO:tensorflow:step = 51601, loss = 1175.03 (0.123 sec)\n",
      "INFO:tensorflow:global_step/sec: 809.361\n",
      "INFO:tensorflow:step = 51701, loss = 848.217 (0.129 sec)\n"
     ]
    },
    {
     "name": "stdout",
     "output_type": "stream",
     "text": [
      "INFO:tensorflow:global_step/sec: 817.493\n",
      "INFO:tensorflow:step = 51801, loss = 1285.17 (0.120 sec)\n",
      "INFO:tensorflow:global_step/sec: 954.058\n",
      "INFO:tensorflow:step = 51901, loss = 663.117 (0.102 sec)\n",
      "INFO:tensorflow:global_step/sec: 765.803\n",
      "INFO:tensorflow:step = 52001, loss = 1150.82 (0.131 sec)\n",
      "INFO:tensorflow:global_step/sec: 985.953\n",
      "INFO:tensorflow:step = 52101, loss = 1037.55 (0.117 sec)\n",
      "INFO:tensorflow:global_step/sec: 752.394\n",
      "INFO:tensorflow:step = 52201, loss = 2147.06 (0.121 sec)\n",
      "INFO:tensorflow:global_step/sec: 985.108\n",
      "INFO:tensorflow:step = 52301, loss = 953.865 (0.098 sec)\n",
      "INFO:tensorflow:global_step/sec: 804.717\n",
      "INFO:tensorflow:step = 52401, loss = 567.347 (0.124 sec)\n",
      "INFO:tensorflow:global_step/sec: 910.139\n",
      "INFO:tensorflow:step = 52501, loss = 1718.45 (0.125 sec)\n",
      "INFO:tensorflow:global_step/sec: 862.935\n",
      "INFO:tensorflow:step = 52601, loss = 1626.16 (0.116 sec)\n",
      "INFO:tensorflow:global_step/sec: 753.937\n",
      "INFO:tensorflow:step = 52701, loss = 988.517 (0.117 sec)\n",
      "INFO:tensorflow:global_step/sec: 845.786\n",
      "INFO:tensorflow:step = 52801, loss = 848.352 (0.122 sec)\n",
      "INFO:tensorflow:global_step/sec: 868.641\n",
      "INFO:tensorflow:step = 52901, loss = 1738.29 (0.111 sec)\n",
      "INFO:tensorflow:global_step/sec: 850.587\n",
      "INFO:tensorflow:step = 53001, loss = 1563.63 (0.118 sec)\n",
      "INFO:tensorflow:global_step/sec: 854.817\n",
      "INFO:tensorflow:step = 53101, loss = 2275.62 (0.133 sec)\n",
      "INFO:tensorflow:global_step/sec: 752.466\n",
      "INFO:tensorflow:step = 53201, loss = 1923.4 (0.127 sec)\n",
      "INFO:tensorflow:global_step/sec: 860.925\n",
      "INFO:tensorflow:step = 53301, loss = 923.382 (0.107 sec)\n",
      "INFO:tensorflow:global_step/sec: 838.51\n",
      "INFO:tensorflow:step = 53401, loss = 1177.5 (0.135 sec)\n",
      "INFO:tensorflow:global_step/sec: 764.693\n",
      "INFO:tensorflow:step = 53501, loss = 1989.17 (0.131 sec)\n",
      "INFO:tensorflow:global_step/sec: 739.651\n",
      "INFO:tensorflow:step = 53601, loss = 802.709 (0.120 sec)\n",
      "INFO:tensorflow:global_step/sec: 854.542\n",
      "INFO:tensorflow:step = 53701, loss = 764.501 (0.117 sec)\n",
      "INFO:tensorflow:global_step/sec: 860.13\n",
      "INFO:tensorflow:step = 53801, loss = 627.357 (0.116 sec)\n",
      "INFO:tensorflow:global_step/sec: 852.709\n",
      "INFO:tensorflow:step = 53901, loss = 605.681 (0.133 sec)\n",
      "INFO:tensorflow:global_step/sec: 864.998\n",
      "INFO:tensorflow:step = 54001, loss = 730.043 (0.116 sec)\n",
      "INFO:tensorflow:global_step/sec: 754.549\n",
      "INFO:tensorflow:step = 54101, loss = 491.664 (0.117 sec)\n",
      "INFO:tensorflow:global_step/sec: 846.332\n",
      "INFO:tensorflow:step = 54201, loss = 1394.46 (0.118 sec)\n",
      "INFO:tensorflow:global_step/sec: 856.725\n",
      "INFO:tensorflow:step = 54301, loss = 2060.19 (0.117 sec)\n",
      "INFO:tensorflow:global_step/sec: 856.305\n",
      "INFO:tensorflow:step = 54401, loss = 846.348 (0.117 sec)\n",
      "INFO:tensorflow:global_step/sec: 856.54\n",
      "INFO:tensorflow:step = 54501, loss = 1507.54 (0.132 sec)\n",
      "INFO:tensorflow:global_step/sec: 750.617\n",
      "INFO:tensorflow:step = 54601, loss = 1556.42 (0.129 sec)\n",
      "INFO:tensorflow:global_step/sec: 855.329\n",
      "INFO:tensorflow:step = 54701, loss = 1471.59 (0.105 sec)\n",
      "INFO:tensorflow:global_step/sec: 754.108\n",
      "INFO:tensorflow:step = 54801, loss = 791.858 (0.139 sec)\n",
      "INFO:tensorflow:global_step/sec: 847.163\n",
      "INFO:tensorflow:step = 54901, loss = 1330.43 (0.127 sec)\n",
      "INFO:tensorflow:global_step/sec: 751.169\n",
      "INFO:tensorflow:step = 55001, loss = 1115.88 (0.118 sec)\n",
      "INFO:tensorflow:global_step/sec: 854.832\n",
      "INFO:tensorflow:step = 55101, loss = 1928.56 (0.117 sec)\n",
      "INFO:tensorflow:global_step/sec: 878.865\n",
      "INFO:tensorflow:step = 55201, loss = 1323.96 (0.129 sec)\n",
      "INFO:tensorflow:global_step/sec: 834.664\n",
      "INFO:tensorflow:step = 55301, loss = 857.654 (0.120 sec)\n",
      "INFO:tensorflow:global_step/sec: 755.443\n",
      "INFO:tensorflow:step = 55401, loss = 1007.23 (0.117 sec)\n",
      "INFO:tensorflow:global_step/sec: 843.31\n",
      "INFO:tensorflow:step = 55501, loss = 1088.94 (0.119 sec)\n",
      "INFO:tensorflow:global_step/sec: 759.586\n",
      "INFO:tensorflow:step = 55601, loss = 709.118 (0.132 sec)\n",
      "INFO:tensorflow:global_step/sec: 832.539\n",
      "INFO:tensorflow:step = 55701, loss = 1603.76 (0.120 sec)\n",
      "INFO:tensorflow:global_step/sec: 867.192\n",
      "INFO:tensorflow:step = 55801, loss = 1812.23 (0.131 sec)\n",
      "INFO:tensorflow:global_step/sec: 756.179\n",
      "INFO:tensorflow:step = 55901, loss = 1021.99 (0.117 sec)\n",
      "INFO:tensorflow:global_step/sec: 849.842\n",
      "INFO:tensorflow:step = 56001, loss = 650.016 (0.118 sec)\n",
      "INFO:tensorflow:global_step/sec: 861.135\n",
      "INFO:tensorflow:step = 56101, loss = 771.98 (0.116 sec)\n",
      "INFO:tensorflow:global_step/sec: 855.93\n",
      "INFO:tensorflow:step = 56201, loss = 647.055 (0.117 sec)\n",
      "INFO:tensorflow:global_step/sec: 852.92\n",
      "INFO:tensorflow:step = 56301, loss = 1265.24 (0.117 sec)\n",
      "INFO:tensorflow:global_step/sec: 757.253\n",
      "INFO:tensorflow:step = 56401, loss = 907.178 (0.132 sec)\n",
      "INFO:tensorflow:global_step/sec: 844.905\n",
      "INFO:tensorflow:step = 56501, loss = 811.316 (0.118 sec)\n",
      "INFO:tensorflow:global_step/sec: 854.065\n",
      "INFO:tensorflow:step = 56601, loss = 1412.51 (0.117 sec)\n",
      "INFO:tensorflow:global_step/sec: 756.518\n",
      "INFO:tensorflow:step = 56701, loss = 1512.62 (0.132 sec)\n",
      "INFO:tensorflow:global_step/sec: 751.829\n",
      "INFO:tensorflow:step = 56801, loss = 1159.51 (0.133 sec)\n",
      "INFO:tensorflow:global_step/sec: 749.459\n",
      "INFO:tensorflow:step = 56901, loss = 650.536 (0.142 sec)\n",
      "INFO:tensorflow:global_step/sec: 849.624\n",
      "INFO:tensorflow:step = 57001, loss = 480.008 (0.109 sec)\n",
      "INFO:tensorflow:global_step/sec: 850.779\n",
      "INFO:tensorflow:step = 57101, loss = 955.926 (0.118 sec)\n",
      "INFO:tensorflow:global_step/sec: 851.326\n",
      "INFO:tensorflow:step = 57201, loss = 2023.01 (0.133 sec)\n",
      "INFO:tensorflow:global_step/sec: 848.235\n",
      "INFO:tensorflow:step = 57301, loss = 827.108 (0.118 sec)\n",
      "INFO:tensorflow:global_step/sec: 763.828\n",
      "INFO:tensorflow:step = 57401, loss = 1027.05 (0.115 sec)\n",
      "INFO:tensorflow:global_step/sec: 851.73\n",
      "INFO:tensorflow:step = 57501, loss = 1350.59 (0.117 sec)\n",
      "INFO:tensorflow:global_step/sec: 856.927\n",
      "INFO:tensorflow:step = 57601, loss = 1301.36 (0.117 sec)\n",
      "INFO:tensorflow:global_step/sec: 742.257\n",
      "INFO:tensorflow:step = 57701, loss = 1587.46 (0.135 sec)\n",
      "INFO:tensorflow:global_step/sec: 858.772\n",
      "INFO:tensorflow:step = 57801, loss = 1127.23 (0.132 sec)\n",
      "INFO:tensorflow:global_step/sec: 749.753\n",
      "INFO:tensorflow:step = 57901, loss = 2223.46 (0.118 sec)\n",
      "INFO:tensorflow:global_step/sec: 868.084\n",
      "INFO:tensorflow:step = 58001, loss = 1979.21 (0.115 sec)\n",
      "INFO:tensorflow:global_step/sec: 852.775\n",
      "INFO:tensorflow:step = 58101, loss = 1687.93 (0.117 sec)\n",
      "INFO:tensorflow:global_step/sec: 857.682\n",
      "INFO:tensorflow:step = 58201, loss = 634.238 (0.117 sec)\n",
      "INFO:tensorflow:global_step/sec: 852.328\n",
      "INFO:tensorflow:step = 58301, loss = 1386.94 (0.117 sec)\n",
      "INFO:tensorflow:global_step/sec: 841.015\n",
      "INFO:tensorflow:step = 58401, loss = 949.97 (0.119 sec)\n",
      "INFO:tensorflow:global_step/sec: 754.956\n",
      "INFO:tensorflow:step = 58501, loss = 850.356 (0.132 sec)\n",
      "INFO:tensorflow:global_step/sec: 752.162\n",
      "INFO:tensorflow:step = 58601, loss = 1120.23 (0.133 sec)\n",
      "INFO:tensorflow:global_step/sec: 846.24\n",
      "INFO:tensorflow:step = 58701, loss = 1484.24 (0.118 sec)\n",
      "INFO:tensorflow:global_step/sec: 764.821\n",
      "INFO:tensorflow:step = 58801, loss = 1139.54 (0.131 sec)\n",
      "INFO:tensorflow:global_step/sec: 846.281\n",
      "INFO:tensorflow:step = 58901, loss = 887.085 (0.118 sec)\n",
      "INFO:tensorflow:global_step/sec: 852.532\n",
      "INFO:tensorflow:step = 59001, loss = 867.536 (0.117 sec)\n",
      "INFO:tensorflow:global_step/sec: 857.354\n",
      "INFO:tensorflow:step = 59101, loss = 1327.49 (0.117 sec)\n",
      "INFO:tensorflow:global_step/sec: 846.303\n",
      "INFO:tensorflow:step = 59201, loss = 769.602 (0.118 sec)\n",
      "INFO:tensorflow:global_step/sec: 775.09\n",
      "INFO:tensorflow:step = 59301, loss = 1361.01 (0.137 sec)\n",
      "INFO:tensorflow:global_step/sec: 843.081\n",
      "INFO:tensorflow:step = 59401, loss = 1042.1 (0.110 sec)\n",
      "INFO:tensorflow:global_step/sec: 838.413\n",
      "INFO:tensorflow:step = 59501, loss = 833.676 (0.119 sec)\n",
      "INFO:tensorflow:global_step/sec: 862.894\n",
      "INFO:tensorflow:step = 59601, loss = 875.795 (0.130 sec)\n",
      "INFO:tensorflow:global_step/sec: 755.141\n",
      "INFO:tensorflow:step = 59701, loss = 1157.65 (0.122 sec)\n",
      "INFO:tensorflow:global_step/sec: 861.685\n",
      "INFO:tensorflow:step = 59801, loss = 790.839 (0.112 sec)\n",
      "INFO:tensorflow:global_step/sec: 832.083\n",
      "INFO:tensorflow:step = 59901, loss = 1066.05 (0.120 sec)\n",
      "INFO:tensorflow:Saving checkpoints for 60000 into C:\\Users\\chris\\AppData\\Local\\Temp\\tmp625n42cw\\model.ckpt.\n",
      "INFO:tensorflow:Loss for final step: 876.357.\n"
     ]
    },
    {
     "data": {
      "text/plain": [
       "<tensorflow.python.estimator.canned.dnn.DNNRegressor at 0x247b4137978>"
      ]
     },
     "execution_count": 53,
     "metadata": {},
     "output_type": "execute_result"
    }
   ],
   "source": [
    "model.train(input_fn=input_func,steps=50000)"
   ]
  },
  {
   "cell_type": "markdown",
   "metadata": {
    "collapsed": true
   },
   "source": [
    "#### Create a prediction input function and then use the .predict method off your estimator model to create a list or predictions on your test data."
   ]
  },
  {
   "cell_type": "code",
   "execution_count": 54,
   "metadata": {
    "collapsed": true
   },
   "outputs": [],
   "source": [
    "predict_input_func = tf.estimator.inputs.pandas_input_fn(\n",
    "      x=X_test,\n",
    "      batch_size=10,\n",
    "      num_epochs=1,\n",
    "      shuffle=False)"
   ]
  },
  {
   "cell_type": "code",
   "execution_count": 55,
   "metadata": {
    "collapsed": true
   },
   "outputs": [],
   "source": [
    "pred_gen = model.predict(predict_input_func)"
   ]
  },
  {
   "cell_type": "code",
   "execution_count": 56,
   "metadata": {},
   "outputs": [
    {
     "name": "stdout",
     "output_type": "stream",
     "text": [
      "INFO:tensorflow:Restoring parameters from C:\\Users\\chris\\AppData\\Local\\Temp\\tmp625n42cw\\model.ckpt-60000\n"
     ]
    }
   ],
   "source": [
    "predictions = list(pred_gen)"
   ]
  },
  {
   "cell_type": "markdown",
   "metadata": {
    "collapsed": true
   },
   "source": [
    "#### Calculate the RMSE. Do this manually or use sklearn.metrics"
   ]
  },
  {
   "cell_type": "code",
   "execution_count": 27,
   "metadata": {
    "collapsed": true
   },
   "outputs": [],
   "source": [
    "from sklearn import metrics"
   ]
  },
  {
   "cell_type": "code",
   "execution_count": 57,
   "metadata": {
    "collapsed": true
   },
   "outputs": [],
   "source": [
    "final_preds = []\n",
    "for pred in predictions:\n",
    "    final_preds.append(pred['predictions'])"
   ]
  },
  {
   "cell_type": "code",
   "execution_count": 51,
   "metadata": {},
   "outputs": [
    {
     "name": "stdout",
     "output_type": "stream",
     "text": [
      "Mean Absolute Error: \t\t\t 5.9377164611\n",
      "Mean Squared Error: \t\t\t 59.9907126824\n",
      "Root Mean Squared Error: \t\t 7.74536717544\n"
     ]
    }
   ],
   "source": [
    "# 1000 treningsrunder [4,4,4]\n",
    "print('Mean Absolute Error: \\t\\t\\t', metrics.mean_absolute_error(y_test, final_preds))\n",
    "print('Mean Squared Error: \\t\\t\\t', metrics.mean_squared_error(y_test, final_preds))\n",
    "print('Root Mean Squared Error: \\t\\t', np.sqrt(metrics.mean_squared_error(y_test, final_preds)))"
   ]
  },
  {
   "cell_type": "code",
   "execution_count": null,
   "metadata": {
    "collapsed": true
   },
   "outputs": [],
   "source": []
  },
  {
   "cell_type": "code",
   "execution_count": 36,
   "metadata": {},
   "outputs": [
    {
     "name": "stdout",
     "output_type": "stream",
     "text": [
      "Mean Absolute Error: \t\t\t 6.25466493941\n",
      "Mean Squared Error: \t\t\t 63.5783659755\n",
      "Root Mean Squared Error: \t\t 7.97360432775\n"
     ]
    }
   ],
   "source": [
    "# 10 000 treningsomganger [4,4,4]\n",
    "print('Mean Absolute Error: \\t\\t\\t', metrics.mean_absolute_error(y_test, final_preds))\n",
    "print('Mean Squared Error: \\t\\t\\t', metrics.mean_squared_error(y_test, final_preds))\n",
    "print('Root Mean Squared Error: \\t\\t', np.sqrt(metrics.mean_squared_error(y_test, final_preds)))"
   ]
  },
  {
   "cell_type": "code",
   "execution_count": null,
   "metadata": {
    "collapsed": true
   },
   "outputs": [],
   "source": []
  },
  {
   "cell_type": "code",
   "execution_count": 43,
   "metadata": {},
   "outputs": [
    {
     "name": "stdout",
     "output_type": "stream",
     "text": [
      "Mean Absolute Error: \t\t\t 6.15160234965\n",
      "Mean Squared Error: \t\t\t 62.0314108274\n",
      "Root Mean Squared Error: \t\t 7.87600221098\n"
     ]
    }
   ],
   "source": [
    "# 10 000 treningsomganger [4,6,8,6,4]\n",
    "print('Mean Absolute Error: \\t\\t\\t', metrics.mean_absolute_error(y_test, final_preds))\n",
    "print('Mean Squared Error: \\t\\t\\t', metrics.mean_squared_error(y_test, final_preds))\n",
    "print('Root Mean Squared Error: \\t\\t', np.sqrt(metrics.mean_squared_error(y_test, final_preds)))"
   ]
  },
  {
   "cell_type": "code",
   "execution_count": null,
   "metadata": {
    "collapsed": true
   },
   "outputs": [],
   "source": []
  },
  {
   "cell_type": "code",
   "execution_count": 52,
   "metadata": {},
   "outputs": [
    {
     "name": "stdout",
     "output_type": "stream",
     "text": [
      "Mean Absolute Error: \t\t\t 5.9377164611\n",
      "Mean Squared Error: \t\t\t 59.9907126824\n",
      "Root Mean Squared Error: \t\t 7.74536717544\n"
     ]
    }
   ],
   "source": [
    "# 10 000 treningsomganger [4,10,10,10,10]\n",
    "print('Mean Absolute Error: \\t\\t\\t', metrics.mean_absolute_error(y_test, final_preds))\n",
    "print('Mean Squared Error: \\t\\t\\t', metrics.mean_squared_error(y_test, final_preds))\n",
    "print('Root Mean Squared Error: \\t\\t', np.sqrt(metrics.mean_squared_error(y_test, final_preds)))"
   ]
  },
  {
   "cell_type": "code",
   "execution_count": null,
   "metadata": {
    "collapsed": true
   },
   "outputs": [],
   "source": []
  },
  {
   "cell_type": "code",
   "execution_count": 58,
   "metadata": {},
   "outputs": [
    {
     "name": "stdout",
     "output_type": "stream",
     "text": [
      "Mean Absolute Error: \t\t\t 5.81186851558\n",
      "Mean Squared Error: \t\t\t 59.4974001067\n",
      "Root Mean Squared Error: \t\t 7.71345578238\n"
     ]
    }
   ],
   "source": [
    "# 50 000 treningsomganger [4,10,10,10,10]\n",
    "print('Mean Absolute Error: \\t\\t\\t', metrics.mean_absolute_error(y_test, final_preds))\n",
    "print('Mean Squared Error: \\t\\t\\t', metrics.mean_squared_error(y_test, final_preds))\n",
    "print('Root Mean Squared Error: \\t\\t', np.sqrt(metrics.mean_squared_error(y_test, final_preds)))"
   ]
  },
  {
   "cell_type": "code",
   "execution_count": null,
   "metadata": {
    "collapsed": true
   },
   "outputs": [],
   "source": []
  },
  {
   "cell_type": "code",
   "execution_count": 59,
   "metadata": {},
   "outputs": [
    {
     "data": {
      "text/plain": [
       "<matplotlib.collections.PathCollection at 0x247ae19ae80>"
      ]
     },
     "execution_count": 59,
     "metadata": {},
     "output_type": "execute_result"
    },
    {
     "data": {
      "image/png": "[encoded data removed]",
      "text/plain": [
       "<matplotlib.figure.Figure at 0x247b3f76c50>"
      ]
     },
     "metadata": {
      "image/png": {
       "height": 250,
       "width": 370
      }
     },
     "output_type": "display_data"
    }
   ],
   "source": [
    "# Burde følge en rett linje\n",
    "\n",
    "plt.scatter(y_test,final_preds)"
   ]
  },
  {
   "cell_type": "code",
   "execution_count": 62,
   "metadata": {},
   "outputs": [
    {
     "data": {
      "text/plain": [
       "<matplotlib.text.Text at 0x247b4066e80>"
      ]
     },
     "execution_count": 62,
     "metadata": {},
     "output_type": "execute_result"
    },
    {
     "data": {
      "image/png": "[encoded data removed]",
      "text/plain": [
       "<matplotlib.figure.Figure at 0x247b4586898>"
      ]
     },
     "metadata": {
      "image/png": {
       "height": 739,
       "width": 1165
      }
     },
     "output_type": "display_data"
    }
   ],
   "source": [
    "# Bedre figur:\n",
    "plt.figure(figsize=(20, 12.5))\n",
    "plt.scatter(y_test,final_preds, s = 20)\n",
    "\n",
    "plt.xlabel('Reel produksjon Ytre Vika Vindpark')\n",
    "plt.ylabel('Predikert produksjon')\n",
    "plt.title('Visualisering av nøyaktigheten av lineær regresjons modell')"
   ]
  },
  {
   "cell_type": "code",
   "execution_count": null,
   "metadata": {
    "collapsed": true
   },
   "outputs": [],
   "source": []
  }
 ],
 "metadata": {
  "kernelspec": {
   "display_name": "Python 3",
   "language": "python",
   "name": "python3"
  },
  "language_info": {
   "codemirror_mode": {
    "name": "ipython",
    "version": 3
   },
   "file_extension": ".py",
   "mimetype": "text/x-python",
   "name": "python",
   "nbconvert_exporter": "python",
   "pygments_lexer": "ipython3",
   "version": "3.5.3"
  }
 },
 "nbformat": 4,
 "nbformat_minor": 2
}
