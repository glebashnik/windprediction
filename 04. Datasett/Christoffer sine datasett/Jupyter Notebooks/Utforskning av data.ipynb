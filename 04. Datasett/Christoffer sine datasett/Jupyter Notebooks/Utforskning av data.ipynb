{
 "cells": [
  {
   "cell_type": "markdown",
   "metadata": {},
   "source": [
    "## Prosjekt med Trønder Energi"
   ]
  },
  {
   "cell_type": "markdown",
   "metadata": {},
   "source": [
    "### Importerer biblioteker"
   ]
  },
  {
   "cell_type": "code",
   "execution_count": 27,
   "metadata": {
    "collapsed": true
   },
   "outputs": [],
   "source": [
    "import pandas as pd\n",
    "import numpy as np\n",
    "\n",
    "# Visualization\n",
    "import seaborn as sns\n",
    "import matplotlib.pyplot as plt\n",
    "\n",
    "%matplotlib inline\n",
    "\n",
    "# Making plots look better\n",
    "import matplotlib as mpl\n",
    "mpl.rcParams['patch.force_edgecolor'] = True\n",
    "\n",
    "%config InlineBackend.figure_format = 'retina'"
   ]
  },
  {
   "cell_type": "markdown",
   "metadata": {},
   "source": [
    "### Importerer Plotly og Cufflinks"
   ]
  },
  {
   "cell_type": "code",
   "execution_count": 3,
   "metadata": {},
   "outputs": [
    {
     "name": "stdout",
     "output_type": "stream",
     "text": [
      "2.2.3\n"
     ]
    }
   ],
   "source": [
    "from plotly import __version__\n",
    "from plotly.offline import download_plotlyjs, init_notebook_mode, plot, iplot\n",
    "\n",
    "print(__version__) # requires version >= 1.9.0"
   ]
  },
  {
   "cell_type": "code",
   "execution_count": 5,
   "metadata": {
    "collapsed": true
   },
   "outputs": [],
   "source": [
    "import cufflinks as cf"
   ]
  },
  {
   "cell_type": "code",
   "execution_count": 9,
   "metadata": {},
   "outputs": [
    {
     "data": {
      "text/html": [
       "<script>requirejs.config({paths: { 'plotly': ['https://cdn.plot.ly/plotly-latest.min']},});if(!window.Plotly) {{require(['plotly'],function(plotly) {window.Plotly=plotly;});}}</script>"
      ],
      "text/vnd.plotly.v1+html": [
       "<script>requirejs.config({paths: { 'plotly': ['https://cdn.plot.ly/plotly-latest.min']},});if(!window.Plotly) {{require(['plotly'],function(plotly) {window.Plotly=plotly;});}}</script>"
      ]
     },
     "metadata": {},
     "output_type": "display_data"
    }
   ],
   "source": [
    "# For Notebooks\n",
    "init_notebook_mode(connected=True)"
   ]
  },
  {
   "cell_type": "code",
   "execution_count": 10,
   "metadata": {},
   "outputs": [
    {
     "name": "stderr",
     "output_type": "stream",
     "text": [
      "IOPub data rate exceeded.\n",
      "The notebook server will temporarily stop sending output\n",
      "to the client in order to avoid crashing it.\n",
      "To change this limit, set the config variable\n",
      "`--NotebookApp.iopub_data_rate_limit`.\n"
     ]
    }
   ],
   "source": [
    "# For offline use\n",
    "cf.go_offline()"
   ]
  },
  {
   "cell_type": "markdown",
   "metadata": {},
   "source": [
    "### Load dataset (arome)"
   ]
  },
  {
   "cell_type": "code",
   "execution_count": 98,
   "metadata": {
    "collapsed": true
   },
   "outputs": [],
   "source": [
    "df = pd.read_csv('vindkraft 181217 arome.csv',sep =';', low_memory = False, )"
   ]
  },
  {
   "cell_type": "code",
   "execution_count": 99,
   "metadata": {},
   "outputs": [
    {
     "data": {
      "text/html": [
       "<div>\n",
       "<style>\n",
       "    .dataframe thead tr:only-child th {\n",
       "        text-align: right;\n",
       "    }\n",
       "\n",
       "    .dataframe thead th {\n",
       "        text-align: left;\n",
       "    }\n",
       "\n",
       "    .dataframe tbody tr th {\n",
       "        vertical-align: top;\n",
       "    }\n",
       "</style>\n",
       "<table border=\"1\" class=\"dataframe\">\n",
       "  <thead>\n",
       "    <tr style=\"text-align: right;\">\n",
       "      <th></th>\n",
       "      <th>Time</th>\n",
       "      <th>/arome_airpress_6276_0782</th>\n",
       "      <th>/arome_airpress_6280_0870</th>\n",
       "      <th>/arome_airpress_6283_0958</th>\n",
       "      <th>/arome_airpress_6287_1051</th>\n",
       "      <th>/arome_airpress_6322_0961</th>\n",
       "      <th>/arome_airpress_6323_0780</th>\n",
       "      <th>/arome_airpress_6323_0870</th>\n",
       "      <th>/arome_airpress_6323_1051</th>\n",
       "      <th>/arome_airpress_6323_1141</th>\n",
       "      <th>...</th>\n",
       "      <th>/arome_windvel_6562_0873</th>\n",
       "      <th>/arome_windvel_6565_0960</th>\n",
       "      <th>/arome_windvel_6565_1179</th>\n",
       "      <th>/arome_windvel_6565_1190</th>\n",
       "      <th>/arome_windvel_6568_1053</th>\n",
       "      <th>/arome_windvel_6569_1184</th>\n",
       "      <th>/arome_windvel_6571_1140</th>\n",
       "      <th>/arome_windvel_6571_1178</th>\n",
       "      <th>/arome_windvel_6572_1194</th>\n",
       "      <th>/arome_windvel_6573_1232</th>\n",
       "    </tr>\n",
       "  </thead>\n",
       "  <tbody>\n",
       "    <tr>\n",
       "      <th>0</th>\n",
       "      <td>01.09.2017</td>\n",
       "      <td>988.90190</td>\n",
       "      <td>954.59190</td>\n",
       "      <td>916.72690</td>\n",
       "      <td>930.43190</td>\n",
       "      <td>984.08190</td>\n",
       "      <td>1010.98690</td>\n",
       "      <td>942.98690</td>\n",
       "      <td>974.94190</td>\n",
       "      <td>931.39690</td>\n",
       "      <td>...</td>\n",
       "      <td>4.629784</td>\n",
       "      <td>4.702772</td>\n",
       "      <td>1.811744</td>\n",
       "      <td>0.995159</td>\n",
       "      <td>2.636293</td>\n",
       "      <td>1.352989</td>\n",
       "      <td>0.899231</td>\n",
       "      <td>1.549737</td>\n",
       "      <td>1.191784</td>\n",
       "      <td>4.702246</td>\n",
       "    </tr>\n",
       "    <tr>\n",
       "      <th>1</th>\n",
       "      <td>01.09.2017 01:00</td>\n",
       "      <td>989.38500</td>\n",
       "      <td>955.22500</td>\n",
       "      <td>917.29000</td>\n",
       "      <td>930.99500</td>\n",
       "      <td>984.58500</td>\n",
       "      <td>1011.51000</td>\n",
       "      <td>943.49000</td>\n",
       "      <td>975.40500</td>\n",
       "      <td>931.88000</td>\n",
       "      <td>...</td>\n",
       "      <td>6.788693</td>\n",
       "      <td>4.596343</td>\n",
       "      <td>0.911568</td>\n",
       "      <td>0.476765</td>\n",
       "      <td>2.659359</td>\n",
       "      <td>0.861846</td>\n",
       "      <td>0.241648</td>\n",
       "      <td>2.054464</td>\n",
       "      <td>2.285458</td>\n",
       "      <td>3.030024</td>\n",
       "    </tr>\n",
       "    <tr>\n",
       "      <th>2</th>\n",
       "      <td>01.09.2017 02:00</td>\n",
       "      <td>989.78875</td>\n",
       "      <td>955.58375</td>\n",
       "      <td>917.59375</td>\n",
       "      <td>931.43375</td>\n",
       "      <td>985.02375</td>\n",
       "      <td>1011.71875</td>\n",
       "      <td>943.70875</td>\n",
       "      <td>975.72375</td>\n",
       "      <td>932.32375</td>\n",
       "      <td>...</td>\n",
       "      <td>6.875120</td>\n",
       "      <td>4.436103</td>\n",
       "      <td>0.975065</td>\n",
       "      <td>0.735509</td>\n",
       "      <td>1.888732</td>\n",
       "      <td>0.565838</td>\n",
       "      <td>1.127884</td>\n",
       "      <td>1.548135</td>\n",
       "      <td>1.146835</td>\n",
       "      <td>3.812516</td>\n",
       "    </tr>\n",
       "    <tr>\n",
       "      <th>3</th>\n",
       "      <td>01.09.2017 03:00</td>\n",
       "      <td>989.99940</td>\n",
       "      <td>955.67440</td>\n",
       "      <td>917.55440</td>\n",
       "      <td>931.30940</td>\n",
       "      <td>984.88940</td>\n",
       "      <td>1012.15440</td>\n",
       "      <td>943.82440</td>\n",
       "      <td>975.61440</td>\n",
       "      <td>932.18940</td>\n",
       "      <td>...</td>\n",
       "      <td>6.720838</td>\n",
       "      <td>6.217677</td>\n",
       "      <td>1.322014</td>\n",
       "      <td>0.768863</td>\n",
       "      <td>4.265880</td>\n",
       "      <td>1.092472</td>\n",
       "      <td>2.685591</td>\n",
       "      <td>1.306488</td>\n",
       "      <td>1.521278</td>\n",
       "      <td>2.692166</td>\n",
       "    </tr>\n",
       "    <tr>\n",
       "      <th>4</th>\n",
       "      <td>01.09.2017 04:00</td>\n",
       "      <td>990.46440</td>\n",
       "      <td>956.13940</td>\n",
       "      <td>917.98940</td>\n",
       "      <td>931.79940</td>\n",
       "      <td>985.22940</td>\n",
       "      <td>1012.78440</td>\n",
       "      <td>944.18440</td>\n",
       "      <td>976.01440</td>\n",
       "      <td>932.59940</td>\n",
       "      <td>...</td>\n",
       "      <td>6.790799</td>\n",
       "      <td>6.266120</td>\n",
       "      <td>1.498775</td>\n",
       "      <td>0.917403</td>\n",
       "      <td>4.160288</td>\n",
       "      <td>1.141245</td>\n",
       "      <td>2.302647</td>\n",
       "      <td>2.175237</td>\n",
       "      <td>1.992927</td>\n",
       "      <td>1.944144</td>\n",
       "    </tr>\n",
       "  </tbody>\n",
       "</table>\n",
       "<p>5 rows × 489 columns</p>\n",
       "</div>"
      ],
      "text/plain": [
       "               Time  /arome_airpress_6276_0782  /arome_airpress_6280_0870  \\\n",
       "0        01.09.2017                  988.90190                  954.59190   \n",
       "1  01.09.2017 01:00                  989.38500                  955.22500   \n",
       "2  01.09.2017 02:00                  989.78875                  955.58375   \n",
       "3  01.09.2017 03:00                  989.99940                  955.67440   \n",
       "4  01.09.2017 04:00                  990.46440                  956.13940   \n",
       "\n",
       "   /arome_airpress_6283_0958  /arome_airpress_6287_1051  \\\n",
       "0                  916.72690                  930.43190   \n",
       "1                  917.29000                  930.99500   \n",
       "2                  917.59375                  931.43375   \n",
       "3                  917.55440                  931.30940   \n",
       "4                  917.98940                  931.79940   \n",
       "\n",
       "   /arome_airpress_6322_0961  /arome_airpress_6323_0780  \\\n",
       "0                  984.08190                 1010.98690   \n",
       "1                  984.58500                 1011.51000   \n",
       "2                  985.02375                 1011.71875   \n",
       "3                  984.88940                 1012.15440   \n",
       "4                  985.22940                 1012.78440   \n",
       "\n",
       "   /arome_airpress_6323_0870  /arome_airpress_6323_1051  \\\n",
       "0                  942.98690                  974.94190   \n",
       "1                  943.49000                  975.40500   \n",
       "2                  943.70875                  975.72375   \n",
       "3                  943.82440                  975.61440   \n",
       "4                  944.18440                  976.01440   \n",
       "\n",
       "   /arome_airpress_6323_1141            ...             \\\n",
       "0                  931.39690            ...              \n",
       "1                  931.88000            ...              \n",
       "2                  932.32375            ...              \n",
       "3                  932.18940            ...              \n",
       "4                  932.59940            ...              \n",
       "\n",
       "   /arome_windvel_6562_0873  /arome_windvel_6565_0960  \\\n",
       "0                  4.629784                  4.702772   \n",
       "1                  6.788693                  4.596343   \n",
       "2                  6.875120                  4.436103   \n",
       "3                  6.720838                  6.217677   \n",
       "4                  6.790799                  6.266120   \n",
       "\n",
       "   /arome_windvel_6565_1179  /arome_windvel_6565_1190  \\\n",
       "0                  1.811744                  0.995159   \n",
       "1                  0.911568                  0.476765   \n",
       "2                  0.975065                  0.735509   \n",
       "3                  1.322014                  0.768863   \n",
       "4                  1.498775                  0.917403   \n",
       "\n",
       "   /arome_windvel_6568_1053  /arome_windvel_6569_1184  \\\n",
       "0                  2.636293                  1.352989   \n",
       "1                  2.659359                  0.861846   \n",
       "2                  1.888732                  0.565838   \n",
       "3                  4.265880                  1.092472   \n",
       "4                  4.160288                  1.141245   \n",
       "\n",
       "   /arome_windvel_6571_1140  /arome_windvel_6571_1178  \\\n",
       "0                  0.899231                  1.549737   \n",
       "1                  0.241648                  2.054464   \n",
       "2                  1.127884                  1.548135   \n",
       "3                  2.685591                  1.306488   \n",
       "4                  2.302647                  2.175237   \n",
       "\n",
       "   /arome_windvel_6572_1194  /arome_windvel_6573_1232  \n",
       "0                  1.191784                  4.702246  \n",
       "1                  2.285458                  3.030024  \n",
       "2                  1.146835                  3.812516  \n",
       "3                  1.521278                  2.692166  \n",
       "4                  1.992927                  1.944144  \n",
       "\n",
       "[5 rows x 489 columns]"
      ]
     },
     "execution_count": 99,
     "metadata": {},
     "output_type": "execute_result"
    }
   ],
   "source": [
    "df.head()"
   ]
  },
  {
   "cell_type": "code",
   "execution_count": 15,
   "metadata": {},
   "outputs": [
    {
     "name": "stdout",
     "output_type": "stream",
     "text": [
      "<class 'pandas.core.frame.DataFrame'>\n",
      "RangeIndex: 2592 entries, 0 to 2591\n",
      "Columns: 489 entries, Unnamed: 0 to /arome_windvel_6573_1232\n",
      "dtypes: object(489)\n",
      "memory usage: 9.7+ MB\n"
     ]
    }
   ],
   "source": [
    "df.info()\n"
   ]
  },
  {
   "cell_type": "code",
   "execution_count": null,
   "metadata": {
    "collapsed": true
   },
   "outputs": [],
   "source": []
  },
  {
   "cell_type": "markdown",
   "metadata": {},
   "source": [
    "### Load dataset (TEK met)"
   ]
  },
  {
   "cell_type": "code",
   "execution_count": 100,
   "metadata": {
    "collapsed": true
   },
   "outputs": [],
   "source": [
    "df_tek = pd.read_csv('vindkraft 181217 TEK met.csv',sep =';', low_memory = False, )"
   ]
  },
  {
   "cell_type": "code",
   "execution_count": 101,
   "metadata": {},
   "outputs": [
    {
     "data": {
      "text/html": [
       "<div>\n",
       "<style>\n",
       "    .dataframe thead tr:only-child th {\n",
       "        text-align: right;\n",
       "    }\n",
       "\n",
       "    .dataframe thead th {\n",
       "        text-align: left;\n",
       "    }\n",
       "\n",
       "    .dataframe tbody tr th {\n",
       "        vertical-align: top;\n",
       "    }\n",
       "</style>\n",
       "<table border=\"1\" class=\"dataframe\">\n",
       "  <thead>\n",
       "    <tr style=\"text-align: right;\">\n",
       "      <th></th>\n",
       "      <th>Time</th>\n",
       "      <th>BESS-Bessakerfj.-G1-T-0  A0 -0000</th>\n",
       "      <th>BESS-Bessakerfj.-G2-T-0  A0 -0000</th>\n",
       "      <th>BESS-Bessakerfj.-G3-T-0  A0 -0000</th>\n",
       "      <th>BESS-Bessakerfj.-G4-T-0  A0 -0000</th>\n",
       "      <th>BESS-Bessakerfj.-G5-T-0  A0 -0000</th>\n",
       "      <th>BESS-Bessakerfj.-G6-T-0  A0 -0000</th>\n",
       "      <th>BESS-Bessakerfj.-G7-T-0  A0 -0000</th>\n",
       "      <th>BESS-Bessakerfj.-G8-T-0  A0 -0000</th>\n",
       "      <th>BESS-Bessakerfj.-G9-T-0  A0 -0000</th>\n",
       "      <th>...</th>\n",
       "      <th>RRS.S2502.Gunit.M15 G1.AVL</th>\n",
       "      <th>RRS.S2502.Gunit.M16 G1.AVL</th>\n",
       "      <th>RRS.S2502.Gunit.M17 G1.AVL</th>\n",
       "      <th>BESS-Bessakerfj.-GS-T4015A3 -0104</th>\n",
       "      <th>VALS-Valsneset..-GS1-5-T4015A3 -0104</th>\n",
       "      <th>SKOM-Skomakerfj.-GS-T4015A3 -0104</th>\n",
       "      <th>YVIK-YtreVikna1-Sum-produksjon</th>\n",
       "      <th>SKOM-SfjHydLt30mMid-T0018A3 -0114</th>\n",
       "      <th>SKOM-SfjHydVindrMid-T0014A3 -0113</th>\n",
       "      <th>SKOM-SfjHydVindhMid-T0016A3 -0120</th>\n",
       "    </tr>\n",
       "  </thead>\n",
       "  <tbody>\n",
       "    <tr>\n",
       "      <th>0</th>\n",
       "      <td>01.09.2017</td>\n",
       "      <td>0</td>\n",
       "      <td>0</td>\n",
       "      <td>0</td>\n",
       "      <td>0</td>\n",
       "      <td>0</td>\n",
       "      <td>0</td>\n",
       "      <td>0</td>\n",
       "      <td>0</td>\n",
       "      <td>0</td>\n",
       "      <td>...</td>\n",
       "      <td>1</td>\n",
       "      <td>1</td>\n",
       "      <td>1</td>\n",
       "      <td>3.544</td>\n",
       "      <td>0.717389</td>\n",
       "      <td>1.037983</td>\n",
       "      <td>1.806583</td>\n",
       "      <td>8.95</td>\n",
       "      <td>270.27</td>\n",
       "      <td>4.47</td>\n",
       "    </tr>\n",
       "    <tr>\n",
       "      <th>1</th>\n",
       "      <td>01.09.2017 01:00</td>\n",
       "      <td>0</td>\n",
       "      <td>0</td>\n",
       "      <td>0</td>\n",
       "      <td>0</td>\n",
       "      <td>0</td>\n",
       "      <td>0</td>\n",
       "      <td>0</td>\n",
       "      <td>0</td>\n",
       "      <td>0</td>\n",
       "      <td>...</td>\n",
       "      <td>1</td>\n",
       "      <td>1</td>\n",
       "      <td>1</td>\n",
       "      <td>3.621</td>\n",
       "      <td>0.623941</td>\n",
       "      <td>0.691667</td>\n",
       "      <td>1.804100</td>\n",
       "      <td>8.71</td>\n",
       "      <td>266.95</td>\n",
       "      <td>4.78</td>\n",
       "    </tr>\n",
       "    <tr>\n",
       "      <th>2</th>\n",
       "      <td>01.09.2017 02:00</td>\n",
       "      <td>0</td>\n",
       "      <td>0</td>\n",
       "      <td>0</td>\n",
       "      <td>0</td>\n",
       "      <td>0</td>\n",
       "      <td>0</td>\n",
       "      <td>0</td>\n",
       "      <td>0</td>\n",
       "      <td>0</td>\n",
       "      <td>...</td>\n",
       "      <td>1</td>\n",
       "      <td>1</td>\n",
       "      <td>1</td>\n",
       "      <td>4.109</td>\n",
       "      <td>0.864993</td>\n",
       "      <td>0.660183</td>\n",
       "      <td>1.992983</td>\n",
       "      <td>8.40</td>\n",
       "      <td>240.78</td>\n",
       "      <td>3.67</td>\n",
       "    </tr>\n",
       "    <tr>\n",
       "      <th>3</th>\n",
       "      <td>01.09.2017 03:00</td>\n",
       "      <td>0</td>\n",
       "      <td>0</td>\n",
       "      <td>0</td>\n",
       "      <td>0</td>\n",
       "      <td>0</td>\n",
       "      <td>0</td>\n",
       "      <td>0</td>\n",
       "      <td>0</td>\n",
       "      <td>0</td>\n",
       "      <td>...</td>\n",
       "      <td>1</td>\n",
       "      <td>1</td>\n",
       "      <td>1</td>\n",
       "      <td>4.471</td>\n",
       "      <td>0.911902</td>\n",
       "      <td>1.037200</td>\n",
       "      <td>2.244483</td>\n",
       "      <td>8.25</td>\n",
       "      <td>246.75</td>\n",
       "      <td>3.28</td>\n",
       "    </tr>\n",
       "    <tr>\n",
       "      <th>4</th>\n",
       "      <td>01.09.2017 04:00</td>\n",
       "      <td>0</td>\n",
       "      <td>0</td>\n",
       "      <td>0</td>\n",
       "      <td>0</td>\n",
       "      <td>0</td>\n",
       "      <td>0</td>\n",
       "      <td>0</td>\n",
       "      <td>0</td>\n",
       "      <td>0</td>\n",
       "      <td>...</td>\n",
       "      <td>1</td>\n",
       "      <td>1</td>\n",
       "      <td>1</td>\n",
       "      <td>2.186</td>\n",
       "      <td>0.844172</td>\n",
       "      <td>1.022883</td>\n",
       "      <td>6.783783</td>\n",
       "      <td>8.53</td>\n",
       "      <td>268.83</td>\n",
       "      <td>4.11</td>\n",
       "    </tr>\n",
       "  </tbody>\n",
       "</table>\n",
       "<p>5 rows × 299 columns</p>\n",
       "</div>"
      ],
      "text/plain": [
       "               Time  BESS-Bessakerfj.-G1-T-0  A0 -0000  \\\n",
       "0        01.09.2017                                  0   \n",
       "1  01.09.2017 01:00                                  0   \n",
       "2  01.09.2017 02:00                                  0   \n",
       "3  01.09.2017 03:00                                  0   \n",
       "4  01.09.2017 04:00                                  0   \n",
       "\n",
       "   BESS-Bessakerfj.-G2-T-0  A0 -0000  BESS-Bessakerfj.-G3-T-0  A0 -0000  \\\n",
       "0                                  0                                  0   \n",
       "1                                  0                                  0   \n",
       "2                                  0                                  0   \n",
       "3                                  0                                  0   \n",
       "4                                  0                                  0   \n",
       "\n",
       "   BESS-Bessakerfj.-G4-T-0  A0 -0000  BESS-Bessakerfj.-G5-T-0  A0 -0000  \\\n",
       "0                                  0                                  0   \n",
       "1                                  0                                  0   \n",
       "2                                  0                                  0   \n",
       "3                                  0                                  0   \n",
       "4                                  0                                  0   \n",
       "\n",
       "   BESS-Bessakerfj.-G6-T-0  A0 -0000  BESS-Bessakerfj.-G7-T-0  A0 -0000  \\\n",
       "0                                  0                                  0   \n",
       "1                                  0                                  0   \n",
       "2                                  0                                  0   \n",
       "3                                  0                                  0   \n",
       "4                                  0                                  0   \n",
       "\n",
       "   BESS-Bessakerfj.-G8-T-0  A0 -0000  BESS-Bessakerfj.-G9-T-0  A0 -0000  \\\n",
       "0                                  0                                  0   \n",
       "1                                  0                                  0   \n",
       "2                                  0                                  0   \n",
       "3                                  0                                  0   \n",
       "4                                  0                                  0   \n",
       "\n",
       "                 ...                  RRS.S2502.Gunit.M15 G1.AVL  \\\n",
       "0                ...                                           1   \n",
       "1                ...                                           1   \n",
       "2                ...                                           1   \n",
       "3                ...                                           1   \n",
       "4                ...                                           1   \n",
       "\n",
       "   RRS.S2502.Gunit.M16 G1.AVL  RRS.S2502.Gunit.M17 G1.AVL  \\\n",
       "0                           1                           1   \n",
       "1                           1                           1   \n",
       "2                           1                           1   \n",
       "3                           1                           1   \n",
       "4                           1                           1   \n",
       "\n",
       "   BESS-Bessakerfj.-GS-T4015A3 -0104  VALS-Valsneset..-GS1-5-T4015A3 -0104  \\\n",
       "0                              3.544                              0.717389   \n",
       "1                              3.621                              0.623941   \n",
       "2                              4.109                              0.864993   \n",
       "3                              4.471                              0.911902   \n",
       "4                              2.186                              0.844172   \n",
       "\n",
       "   SKOM-Skomakerfj.-GS-T4015A3 -0104  YVIK-YtreVikna1-Sum-produksjon  \\\n",
       "0                           1.037983                        1.806583   \n",
       "1                           0.691667                        1.804100   \n",
       "2                           0.660183                        1.992983   \n",
       "3                           1.037200                        2.244483   \n",
       "4                           1.022883                        6.783783   \n",
       "\n",
       "   SKOM-SfjHydLt30mMid-T0018A3 -0114  SKOM-SfjHydVindrMid-T0014A3 -0113  \\\n",
       "0                               8.95                             270.27   \n",
       "1                               8.71                             266.95   \n",
       "2                               8.40                             240.78   \n",
       "3                               8.25                             246.75   \n",
       "4                               8.53                             268.83   \n",
       "\n",
       "   SKOM-SfjHydVindhMid-T0016A3 -0120  \n",
       "0                               4.47  \n",
       "1                               4.78  \n",
       "2                               3.67  \n",
       "3                               3.28  \n",
       "4                               4.11  \n",
       "\n",
       "[5 rows x 299 columns]"
      ]
     },
     "execution_count": 101,
     "metadata": {},
     "output_type": "execute_result"
    }
   ],
   "source": [
    "df_tek.head()"
   ]
  },
  {
   "cell_type": "code",
   "execution_count": 9,
   "metadata": {},
   "outputs": [
    {
     "name": "stdout",
     "output_type": "stream",
     "text": [
      "<class 'pandas.core.frame.DataFrame'>\n",
      "RangeIndex: 2592 entries, 0 to 2591\n",
      "Columns: 299 entries, Unnamed: 0 to SKOM-SfjHydVindhMid-T0016A3 -0120\n",
      "dtypes: int64(88), object(211)\n",
      "memory usage: 5.9+ MB\n"
     ]
    }
   ],
   "source": [
    "df_tek.info()"
   ]
  },
  {
   "cell_type": "markdown",
   "metadata": {
    "collapsed": true
   },
   "source": [
    "### Load dataset (koordinater)"
   ]
  },
  {
   "cell_type": "code",
   "execution_count": 42,
   "metadata": {
    "collapsed": true
   },
   "outputs": [],
   "source": [
    "df_cord = pd.read_csv('test.csv',sep =';', low_memory = False )"
   ]
  },
  {
   "cell_type": "code",
   "execution_count": 43,
   "metadata": {},
   "outputs": [
    {
     "data": {
      "text/html": [
       "<div>\n",
       "<style>\n",
       "    .dataframe thead tr:only-child th {\n",
       "        text-align: right;\n",
       "    }\n",
       "\n",
       "    .dataframe thead th {\n",
       "        text-align: left;\n",
       "    }\n",
       "\n",
       "    .dataframe tbody tr th {\n",
       "        vertical-align: top;\n",
       "    }\n",
       "</style>\n",
       "<table border=\"1\" class=\"dataframe\">\n",
       "  <thead>\n",
       "    <tr style=\"text-align: right;\">\n",
       "      <th></th>\n",
       "      <th>Name</th>\n",
       "      <th>Longditude</th>\n",
       "      <th>Latitude</th>\n",
       "    </tr>\n",
       "  </thead>\n",
       "  <tbody>\n",
       "    <tr>\n",
       "      <th>136</th>\n",
       "      <td>6571_1140</td>\n",
       "      <td>65.710000</td>\n",
       "      <td>10.880000</td>\n",
       "    </tr>\n",
       "    <tr>\n",
       "      <th>137</th>\n",
       "      <td>6571_1178</td>\n",
       "      <td>65.710000</td>\n",
       "      <td>10.880000</td>\n",
       "    </tr>\n",
       "    <tr>\n",
       "      <th>138</th>\n",
       "      <td>6572_1194</td>\n",
       "      <td>65.720000</td>\n",
       "      <td>10.880000</td>\n",
       "    </tr>\n",
       "    <tr>\n",
       "      <th>139</th>\n",
       "      <td>6573_1232</td>\n",
       "      <td>65.730000</td>\n",
       "      <td>10.880000</td>\n",
       "    </tr>\n",
       "    <tr>\n",
       "      <th>140</th>\n",
       "      <td>windmill</td>\n",
       "      <td>64.900676</td>\n",
       "      <td>10.891879</td>\n",
       "    </tr>\n",
       "  </tbody>\n",
       "</table>\n",
       "</div>"
      ],
      "text/plain": [
       "          Name  Longditude   Latitude\n",
       "136  6571_1140   65.710000  10.880000\n",
       "137  6571_1178   65.710000  10.880000\n",
       "138  6572_1194   65.720000  10.880000\n",
       "139  6573_1232   65.730000  10.880000\n",
       "140   windmill   64.900676  10.891879"
      ]
     },
     "execution_count": 43,
     "metadata": {},
     "output_type": "execute_result"
    }
   ],
   "source": [
    "df_cord.tail()"
   ]
  },
  {
   "cell_type": "code",
   "execution_count": 44,
   "metadata": {
    "collapsed": true
   },
   "outputs": [],
   "source": [
    "df_cord['category'] = pd.Series(np.zeros(len(df_cord['Longditude'])))"
   ]
  },
  {
   "cell_type": "code",
   "execution_count": 45,
   "metadata": {
    "collapsed": true
   },
   "outputs": [],
   "source": [
    "df_cord.loc[140,'category'] = 1"
   ]
  },
  {
   "cell_type": "code",
   "execution_count": 46,
   "metadata": {},
   "outputs": [
    {
     "data": {
      "text/html": [
       "<div>\n",
       "<style>\n",
       "    .dataframe thead tr:only-child th {\n",
       "        text-align: right;\n",
       "    }\n",
       "\n",
       "    .dataframe thead th {\n",
       "        text-align: left;\n",
       "    }\n",
       "\n",
       "    .dataframe tbody tr th {\n",
       "        vertical-align: top;\n",
       "    }\n",
       "</style>\n",
       "<table border=\"1\" class=\"dataframe\">\n",
       "  <thead>\n",
       "    <tr style=\"text-align: right;\">\n",
       "      <th></th>\n",
       "      <th>Name</th>\n",
       "      <th>Longditude</th>\n",
       "      <th>Latitude</th>\n",
       "      <th>category</th>\n",
       "    </tr>\n",
       "  </thead>\n",
       "  <tbody>\n",
       "    <tr>\n",
       "      <th>136</th>\n",
       "      <td>6571_1140</td>\n",
       "      <td>65.710000</td>\n",
       "      <td>10.880000</td>\n",
       "      <td>0.0</td>\n",
       "    </tr>\n",
       "    <tr>\n",
       "      <th>137</th>\n",
       "      <td>6571_1178</td>\n",
       "      <td>65.710000</td>\n",
       "      <td>10.880000</td>\n",
       "      <td>0.0</td>\n",
       "    </tr>\n",
       "    <tr>\n",
       "      <th>138</th>\n",
       "      <td>6572_1194</td>\n",
       "      <td>65.720000</td>\n",
       "      <td>10.880000</td>\n",
       "      <td>0.0</td>\n",
       "    </tr>\n",
       "    <tr>\n",
       "      <th>139</th>\n",
       "      <td>6573_1232</td>\n",
       "      <td>65.730000</td>\n",
       "      <td>10.880000</td>\n",
       "      <td>0.0</td>\n",
       "    </tr>\n",
       "    <tr>\n",
       "      <th>140</th>\n",
       "      <td>windmill</td>\n",
       "      <td>64.900676</td>\n",
       "      <td>10.891879</td>\n",
       "      <td>1.0</td>\n",
       "    </tr>\n",
       "  </tbody>\n",
       "</table>\n",
       "</div>"
      ],
      "text/plain": [
       "          Name  Longditude   Latitude  category\n",
       "136  6571_1140   65.710000  10.880000       0.0\n",
       "137  6571_1178   65.710000  10.880000       0.0\n",
       "138  6572_1194   65.720000  10.880000       0.0\n",
       "139  6573_1232   65.730000  10.880000       0.0\n",
       "140   windmill   64.900676  10.891879       1.0"
      ]
     },
     "execution_count": 46,
     "metadata": {},
     "output_type": "execute_result"
    }
   ],
   "source": [
    "df_cord.tail()"
   ]
  },
  {
   "cell_type": "code",
   "execution_count": 39,
   "metadata": {},
   "outputs": [
    {
     "data": {
      "text/plain": [
       "140    0.0\n",
       "Name: category, dtype: float64"
      ]
     },
     "execution_count": 39,
     "metadata": {},
     "output_type": "execute_result"
    }
   ],
   "source": [
    "df_cord[df_cord['Name'] == 'windmill']['category']"
   ]
  },
  {
   "cell_type": "markdown",
   "metadata": {},
   "source": [
    "### Scatterplot av koordinater"
   ]
  },
  {
   "cell_type": "code",
   "execution_count": 20,
   "metadata": {},
   "outputs": [
    {
     "data": {
      "text/plain": [
       "<matplotlib.axes._subplots.AxesSubplot at 0x247686e6518>"
      ]
     },
     "execution_count": 20,
     "metadata": {},
     "output_type": "execute_result"
    },
    {
     "data": {
      "image/png": "[encoded data removed]",
      "text/plain": [
       "<matplotlib.figure.Figure at 0x2476b4c06a0>"
      ]
     },
     "metadata": {
      "image/png": {
       "height": 263,
       "width": 384
      }
     },
     "output_type": "display_data"
    }
   ],
   "source": [
    "df_cord.plot.scatter(x='Longditude', y= 'Latitude', s= 10) "
   ]
  },
  {
   "cell_type": "code",
   "execution_count": 49,
   "metadata": {},
   "outputs": [
    {
     "data": {
      "text/plain": [
       "<matplotlib.collections.PathCollection at 0x24763bf77b8>"
      ]
     },
     "execution_count": 49,
     "metadata": {},
     "output_type": "execute_result"
    },
    {
     "data": {
      "image/png": "[encoded data removed]",
      "text/plain": [
       "<matplotlib.figure.Figure at 0x2476a1e1cf8>"
      ]
     },
     "metadata": {
      "image/png": {
       "height": 250,
       "width": 370
      }
     },
     "output_type": "display_data"
    }
   ],
   "source": [
    "plt.scatter(x=df_cord['Longditude'], y= df_cord['Latitude'])"
   ]
  },
  {
   "cell_type": "markdown",
   "metadata": {
    "collapsed": true
   },
   "source": [
    "### Scatterplot med plotly"
   ]
  },
  {
   "cell_type": "code",
   "execution_count": 51,
   "metadata": {},
   "outputs": [
    {
     "data": {
      "application/vnd.plotly.v1+json": {
       "data": [
        {
         "line": {
          "color": "rgba(255, 153, 51, 1.0)",
          "dash": "solid",
          "width": 1.3
         },
         "marker": {
          "size": 10,
          "symbol": "dot"
         },
         "mode": "markers",
         "name": "Latitude",
         "text": "",
         "type": "scatter",
         "x": [
          64.22468846,
          63.82048851,
          64.4013,
          64.173,
          64.4708,
          63.7045,
          64.835,
          63.4596,
          63.8467,
          64.7422,
          64.2141,
          64.7977,
          65.2023,
          65.22,
          65.4567,
          65.7017,
          64.903821,
          64.2154235,
          62.76,
          62.8,
          62.83,
          62.87,
          63.23,
          63.23,
          63.23,
          63.22,
          63.23,
          63.23,
          63.42,
          63.42,
          63.47,
          63.49,
          63.49,
          63.72,
          63.67,
          63.67,
          63.73,
          63.72,
          63.72,
          63.74,
          63.74,
          63.72,
          63.78,
          63.79,
          63.73,
          63.83,
          63.8,
          63.81,
          63.85,
          63.87,
          63.85,
          63.87,
          63.89,
          64.13,
          64.14,
          64.17,
          64.17,
          64.17,
          64.22,
          64.19,
          64.22,
          64.18,
          64.21,
          64.22,
          64.22,
          64.21,
          64.22,
          64.23,
          64.26,
          64.26,
          64.26,
          64.26,
          64.22,
          64.22,
          64.35,
          64.36,
          64.25,
          64.4,
          64.43,
          64.43,
          64.44,
          64.44,
          64.47,
          64.5,
          64.52,
          64.72,
          64.74,
          64.74,
          64.73,
          64.76,
          64.76,
          64.8,
          64.8,
          64.74,
          64.81,
          64.82,
          64.72,
          64.83,
          64.85,
          64.86,
          64.86,
          64.87,
          64.87,
          64.72,
          64.91,
          64.95,
          64.95,
          65.15,
          65.16,
          65.18,
          65.18,
          65.2,
          65.22,
          65.23,
          65.23,
          65.23,
          65.24,
          65.25,
          65.27,
          65.27,
          65.23,
          65.22,
          65.22,
          65.22,
          65.41,
          65.41,
          65.45,
          65.5,
          65.5,
          65.65,
          65.65,
          65.69,
          65.58,
          65.62,
          65.65,
          65.68,
          65.71,
          65.71,
          65.72,
          65.73,
          64.900676
         ],
         "y": [
          10.36520523,
          9.628274417,
          10.455,
          9.4063,
          11.5705,
          9.6105,
          11.1408,
          10.9305,
          8.4667,
          12.845999999999998,
          10.4118,
          10.5493,
          10.9965,
          11.9927,
          12.2182,
          11.8562,
          10.893917,
          10.41747025,
          7.82,
          8.7,
          9.58,
          10.51,
          12.31,
          11.41,
          10.51,
          9.61,
          8.7,
          7.8,
          10.88,
          10.88,
          10.88,
          10.88,
          10.88,
          10.88,
          10.88,
          10.88,
          10.88,
          10.88,
          10.88,
          10.88,
          10.88,
          10.88,
          10.88,
          10.88,
          10.88,
          10.88,
          10.88,
          10.88,
          10.88,
          10.88,
          10.88,
          10.88,
          10.88,
          10.88,
          10.88,
          10.88,
          10.88,
          10.88,
          10.88,
          10.88,
          10.88,
          10.88,
          10.88,
          10.88,
          10.88,
          10.88,
          10.88,
          10.88,
          10.88,
          10.88,
          10.88,
          10.88,
          10.88,
          10.88,
          10.88,
          10.88,
          10.88,
          10.88,
          10.88,
          10.88,
          10.88,
          10.88,
          10.88,
          10.88,
          10.88,
          10.88,
          10.88,
          10.88,
          10.88,
          10.88,
          10.88,
          10.88,
          10.88,
          10.88,
          10.88,
          10.88,
          10.88,
          10.88,
          10.88,
          10.88,
          10.88,
          10.88,
          10.88,
          10.88,
          10.88,
          10.88,
          10.88,
          10.88,
          10.88,
          10.88,
          10.88,
          10.88,
          10.88,
          10.88,
          10.88,
          10.88,
          10.88,
          10.88,
          10.88,
          10.88,
          10.88,
          10.88,
          10.88,
          10.88,
          10.88,
          10.88,
          10.88,
          10.88,
          10.88,
          10.88,
          10.88,
          10.88,
          10.88,
          10.88,
          10.88,
          10.88,
          10.88,
          10.88,
          10.88,
          10.88,
          10.891879
         ]
        }
       ],
       "layout": {
        "legend": {
         "bgcolor": "#F5F6F9",
         "font": {
          "color": "#4D5663"
         }
        },
        "paper_bgcolor": "#F5F6F9",
        "plot_bgcolor": "#F5F6F9",
        "titlefont": {
         "color": "#4D5663"
        },
        "xaxis1": {
         "gridcolor": "#E1E5ED",
         "showgrid": true,
         "tickfont": {
          "color": "#4D5663"
         },
         "title": "",
         "titlefont": {
          "color": "#4D5663"
         },
         "zerolinecolor": "#E1E5ED"
        },
        "yaxis1": {
         "gridcolor": "#E1E5ED",
         "showgrid": true,
         "tickfont": {
          "color": "#4D5663"
         },
         "title": "",
         "titlefont": {
          "color": "#4D5663"
         },
         "zerolinecolor": "#E1E5ED"
        }
       }
      },
      "text/html": [
       "<div id=\"d9c9fb19-903a-45c7-916e-b6ba02da5b23\" style=\"height: 525px; width: 100%;\" class=\"plotly-graph-div\"></div><script type=\"text/javascript\">require([\"plotly\"], function(Plotly) { window.PLOTLYENV=window.PLOTLYENV || {};window.PLOTLYENV.BASE_URL=\"https://plot.ly\";Plotly.newPlot(\"d9c9fb19-903a-45c7-916e-b6ba02da5b23\", [{\"type\": \"scatter\", \"x\": [64.22468846, 63.82048851, 64.4013, 64.173, 64.4708, 63.7045, 64.835, 63.4596, 63.8467, 64.7422, 64.2141, 64.7977, 65.2023, 65.22, 65.4567, 65.7017, 64.903821, 64.2154235, 62.76, 62.8, 62.83, 62.87, 63.23, 63.23, 63.23, 63.22, 63.23, 63.23, 63.42, 63.42, 63.47, 63.49, 63.49, 63.72, 63.67, 63.67, 63.73, 63.72, 63.72, 63.74, 63.74, 63.72, 63.78, 63.79, 63.73, 63.83, 63.8, 63.81, 63.85, 63.87, 63.85, 63.87, 63.89, 64.13, 64.14, 64.17, 64.17, 64.17, 64.22, 64.19, 64.22, 64.18, 64.21, 64.22, 64.22, 64.21, 64.22, 64.23, 64.26, 64.26, 64.26, 64.26, 64.22, 64.22, 64.35, 64.36, 64.25, 64.4, 64.43, 64.43, 64.44, 64.44, 64.47, 64.5, 64.52, 64.72, 64.74, 64.74, 64.73, 64.76, 64.76, 64.8, 64.8, 64.74, 64.81, 64.82, 64.72, 64.83, 64.85, 64.86, 64.86, 64.87, 64.87, 64.72, 64.91, 64.95, 64.95, 65.15, 65.16, 65.18, 65.18, 65.2, 65.22, 65.23, 65.23, 65.23, 65.24, 65.25, 65.27, 65.27, 65.23, 65.22, 65.22, 65.22, 65.41, 65.41, 65.45, 65.5, 65.5, 65.65, 65.65, 65.69, 65.58, 65.62, 65.65, 65.68, 65.71, 65.71, 65.72, 65.73, 64.900676], \"y\": [10.36520523, 9.628274417, 10.455, 9.4063, 11.5705, 9.6105, 11.1408, 10.9305, 8.4667, 12.845999999999998, 10.4118, 10.5493, 10.9965, 11.9927, 12.2182, 11.8562, 10.893917, 10.41747025, 7.82, 8.7, 9.58, 10.51, 12.31, 11.41, 10.51, 9.61, 8.7, 7.8, 10.88, 10.88, 10.88, 10.88, 10.88, 10.88, 10.88, 10.88, 10.88, 10.88, 10.88, 10.88, 10.88, 10.88, 10.88, 10.88, 10.88, 10.88, 10.88, 10.88, 10.88, 10.88, 10.88, 10.88, 10.88, 10.88, 10.88, 10.88, 10.88, 10.88, 10.88, 10.88, 10.88, 10.88, 10.88, 10.88, 10.88, 10.88, 10.88, 10.88, 10.88, 10.88, 10.88, 10.88, 10.88, 10.88, 10.88, 10.88, 10.88, 10.88, 10.88, 10.88, 10.88, 10.88, 10.88, 10.88, 10.88, 10.88, 10.88, 10.88, 10.88, 10.88, 10.88, 10.88, 10.88, 10.88, 10.88, 10.88, 10.88, 10.88, 10.88, 10.88, 10.88, 10.88, 10.88, 10.88, 10.88, 10.88, 10.88, 10.88, 10.88, 10.88, 10.88, 10.88, 10.88, 10.88, 10.88, 10.88, 10.88, 10.88, 10.88, 10.88, 10.88, 10.88, 10.88, 10.88, 10.88, 10.88, 10.88, 10.88, 10.88, 10.88, 10.88, 10.88, 10.88, 10.88, 10.88, 10.88, 10.88, 10.88, 10.88, 10.88, 10.891879], \"name\": \"Latitude\", \"text\": \"\", \"line\": {\"color\": \"rgba(255, 153, 51, 1.0)\", \"width\": 1.3, \"dash\": \"solid\"}, \"mode\": \"markers\", \"marker\": {\"symbol\": \"dot\", \"size\": 10}}], {\"legend\": {\"bgcolor\": \"#F5F6F9\", \"font\": {\"color\": \"#4D5663\"}}, \"paper_bgcolor\": \"#F5F6F9\", \"plot_bgcolor\": \"#F5F6F9\", \"yaxis1\": {\"tickfont\": {\"color\": \"#4D5663\"}, \"gridcolor\": \"#E1E5ED\", \"titlefont\": {\"color\": \"#4D5663\"}, \"zerolinecolor\": \"#E1E5ED\", \"showgrid\": true, \"title\": \"\"}, \"xaxis1\": {\"tickfont\": {\"color\": \"#4D5663\"}, \"gridcolor\": \"#E1E5ED\", \"titlefont\": {\"color\": \"#4D5663\"}, \"zerolinecolor\": \"#E1E5ED\", \"showgrid\": true, \"title\": \"\"}, \"titlefont\": {\"color\": \"#4D5663\"}}, {\"showLink\": true, \"linkText\": \"Export to plot.ly\"})});</script>"
      ],
      "text/vnd.plotly.v1+html": [
       "<div id=\"d9c9fb19-903a-45c7-916e-b6ba02da5b23\" style=\"height: 525px; width: 100%;\" class=\"plotly-graph-div\"></div><script type=\"text/javascript\">require([\"plotly\"], function(Plotly) { window.PLOTLYENV=window.PLOTLYENV || {};window.PLOTLYENV.BASE_URL=\"https://plot.ly\";Plotly.newPlot(\"d9c9fb19-903a-45c7-916e-b6ba02da5b23\", [{\"type\": \"scatter\", \"x\": [64.22468846, 63.82048851, 64.4013, 64.173, 64.4708, 63.7045, 64.835, 63.4596, 63.8467, 64.7422, 64.2141, 64.7977, 65.2023, 65.22, 65.4567, 65.7017, 64.903821, 64.2154235, 62.76, 62.8, 62.83, 62.87, 63.23, 63.23, 63.23, 63.22, 63.23, 63.23, 63.42, 63.42, 63.47, 63.49, 63.49, 63.72, 63.67, 63.67, 63.73, 63.72, 63.72, 63.74, 63.74, 63.72, 63.78, 63.79, 63.73, 63.83, 63.8, 63.81, 63.85, 63.87, 63.85, 63.87, 63.89, 64.13, 64.14, 64.17, 64.17, 64.17, 64.22, 64.19, 64.22, 64.18, 64.21, 64.22, 64.22, 64.21, 64.22, 64.23, 64.26, 64.26, 64.26, 64.26, 64.22, 64.22, 64.35, 64.36, 64.25, 64.4, 64.43, 64.43, 64.44, 64.44, 64.47, 64.5, 64.52, 64.72, 64.74, 64.74, 64.73, 64.76, 64.76, 64.8, 64.8, 64.74, 64.81, 64.82, 64.72, 64.83, 64.85, 64.86, 64.86, 64.87, 64.87, 64.72, 64.91, 64.95, 64.95, 65.15, 65.16, 65.18, 65.18, 65.2, 65.22, 65.23, 65.23, 65.23, 65.24, 65.25, 65.27, 65.27, 65.23, 65.22, 65.22, 65.22, 65.41, 65.41, 65.45, 65.5, 65.5, 65.65, 65.65, 65.69, 65.58, 65.62, 65.65, 65.68, 65.71, 65.71, 65.72, 65.73, 64.900676], \"y\": [10.36520523, 9.628274417, 10.455, 9.4063, 11.5705, 9.6105, 11.1408, 10.9305, 8.4667, 12.845999999999998, 10.4118, 10.5493, 10.9965, 11.9927, 12.2182, 11.8562, 10.893917, 10.41747025, 7.82, 8.7, 9.58, 10.51, 12.31, 11.41, 10.51, 9.61, 8.7, 7.8, 10.88, 10.88, 10.88, 10.88, 10.88, 10.88, 10.88, 10.88, 10.88, 10.88, 10.88, 10.88, 10.88, 10.88, 10.88, 10.88, 10.88, 10.88, 10.88, 10.88, 10.88, 10.88, 10.88, 10.88, 10.88, 10.88, 10.88, 10.88, 10.88, 10.88, 10.88, 10.88, 10.88, 10.88, 10.88, 10.88, 10.88, 10.88, 10.88, 10.88, 10.88, 10.88, 10.88, 10.88, 10.88, 10.88, 10.88, 10.88, 10.88, 10.88, 10.88, 10.88, 10.88, 10.88, 10.88, 10.88, 10.88, 10.88, 10.88, 10.88, 10.88, 10.88, 10.88, 10.88, 10.88, 10.88, 10.88, 10.88, 10.88, 10.88, 10.88, 10.88, 10.88, 10.88, 10.88, 10.88, 10.88, 10.88, 10.88, 10.88, 10.88, 10.88, 10.88, 10.88, 10.88, 10.88, 10.88, 10.88, 10.88, 10.88, 10.88, 10.88, 10.88, 10.88, 10.88, 10.88, 10.88, 10.88, 10.88, 10.88, 10.88, 10.88, 10.88, 10.88, 10.88, 10.88, 10.88, 10.88, 10.88, 10.88, 10.88, 10.88, 10.891879], \"name\": \"Latitude\", \"text\": \"\", \"line\": {\"color\": \"rgba(255, 153, 51, 1.0)\", \"width\": 1.3, \"dash\": \"solid\"}, \"mode\": \"markers\", \"marker\": {\"symbol\": \"dot\", \"size\": 10}}], {\"legend\": {\"bgcolor\": \"#F5F6F9\", \"font\": {\"color\": \"#4D5663\"}}, \"paper_bgcolor\": \"#F5F6F9\", \"plot_bgcolor\": \"#F5F6F9\", \"yaxis1\": {\"tickfont\": {\"color\": \"#4D5663\"}, \"gridcolor\": \"#E1E5ED\", \"titlefont\": {\"color\": \"#4D5663\"}, \"zerolinecolor\": \"#E1E5ED\", \"showgrid\": true, \"title\": \"\"}, \"xaxis1\": {\"tickfont\": {\"color\": \"#4D5663\"}, \"gridcolor\": \"#E1E5ED\", \"titlefont\": {\"color\": \"#4D5663\"}, \"zerolinecolor\": \"#E1E5ED\", \"showgrid\": true, \"title\": \"\"}, \"titlefont\": {\"color\": \"#4D5663\"}}, {\"showLink\": true, \"linkText\": \"Export to plot.ly\"})});</script>"
      ]
     },
     "metadata": {},
     "output_type": "display_data"
    }
   ],
   "source": [
    "df_cord.iplot(kind='scatter',x='Longditude',y='Latitude',mode='markers',size=10)"
   ]
  },
  {
   "cell_type": "markdown",
   "metadata": {},
   "source": [
    "## Forsøk på å gjøre regresjon"
   ]
  },
  {
   "cell_type": "markdown",
   "metadata": {},
   "source": [
    "### Skaffe verdiene til Mølle 1 ytre Vika (MegaWattHour)"
   ]
  },
  {
   "cell_type": "code",
   "execution_count": 56,
   "metadata": {
    "collapsed": true
   },
   "outputs": [],
   "source": []
  },
  {
   "cell_type": "code",
   "execution_count": 58,
   "metadata": {
    "collapsed": true
   },
   "outputs": [],
   "source": []
  },
  {
   "cell_type": "code",
   "execution_count": 59,
   "metadata": {
    "collapsed": true
   },
   "outputs": [],
   "source": []
  },
  {
   "cell_type": "code",
   "execution_count": 102,
   "metadata": {
    "collapsed": true
   },
   "outputs": [],
   "source": [
    "Y_plus = df_tek[['Time','YVIK-YtreVikna1.-G1-T4015A3 -0104']]"
   ]
  },
  {
   "cell_type": "code",
   "execution_count": 103,
   "metadata": {},
   "outputs": [
    {
     "name": "stdout",
     "output_type": "stream",
     "text": [
      "<class 'pandas.core.frame.DataFrame'>\n",
      "RangeIndex: 2592 entries, 0 to 2591\n",
      "Data columns (total 2 columns):\n",
      "Time                                 2592 non-null object\n",
      "YVIK-YtreVikna1.-G1-T4015A3 -0104    2396 non-null float64\n",
      "dtypes: float64(1), object(1)\n",
      "memory usage: 40.6+ KB\n"
     ]
    }
   ],
   "source": [
    "Y_plus.info()"
   ]
  },
  {
   "cell_type": "code",
   "execution_count": 104,
   "metadata": {},
   "outputs": [
    {
     "data": {
      "text/html": [
       "<div>\n",
       "<style>\n",
       "    .dataframe thead tr:only-child th {\n",
       "        text-align: right;\n",
       "    }\n",
       "\n",
       "    .dataframe thead th {\n",
       "        text-align: left;\n",
       "    }\n",
       "\n",
       "    .dataframe tbody tr th {\n",
       "        vertical-align: top;\n",
       "    }\n",
       "</style>\n",
       "<table border=\"1\" class=\"dataframe\">\n",
       "  <thead>\n",
       "    <tr style=\"text-align: right;\">\n",
       "      <th></th>\n",
       "      <th>Time</th>\n",
       "      <th>YVIK-YtreVikna1.-G1-T4015A3 -0104</th>\n",
       "    </tr>\n",
       "  </thead>\n",
       "  <tbody>\n",
       "    <tr>\n",
       "      <th>0</th>\n",
       "      <td>01.09.2017</td>\n",
       "      <td>0.022000</td>\n",
       "    </tr>\n",
       "    <tr>\n",
       "      <th>1</th>\n",
       "      <td>01.09.2017 01:00</td>\n",
       "      <td>0.022000</td>\n",
       "    </tr>\n",
       "    <tr>\n",
       "      <th>2</th>\n",
       "      <td>01.09.2017 02:00</td>\n",
       "      <td>0.022000</td>\n",
       "    </tr>\n",
       "    <tr>\n",
       "      <th>3</th>\n",
       "      <td>01.09.2017 03:00</td>\n",
       "      <td>0.111233</td>\n",
       "    </tr>\n",
       "    <tr>\n",
       "      <th>4</th>\n",
       "      <td>01.09.2017 04:00</td>\n",
       "      <td>0.356000</td>\n",
       "    </tr>\n",
       "  </tbody>\n",
       "</table>\n",
       "</div>"
      ],
      "text/plain": [
       "               Time  YVIK-YtreVikna1.-G1-T4015A3 -0104\n",
       "0        01.09.2017                           0.022000\n",
       "1  01.09.2017 01:00                           0.022000\n",
       "2  01.09.2017 02:00                           0.022000\n",
       "3  01.09.2017 03:00                           0.111233\n",
       "4  01.09.2017 04:00                           0.356000"
      ]
     },
     "execution_count": 104,
     "metadata": {},
     "output_type": "execute_result"
    }
   ],
   "source": [
    "Y_plus.head()"
   ]
  },
  {
   "cell_type": "code",
   "execution_count": 105,
   "metadata": {
    "collapsed": true
   },
   "outputs": [],
   "source": [
    "Y = Y_plus['YVIK-YtreVikna1.-G1-T4015A3 -0104']"
   ]
  },
  {
   "cell_type": "code",
   "execution_count": 91,
   "metadata": {},
   "outputs": [
    {
     "data": {
      "text/plain": [
       "0          0,022\n",
       "1          0,022\n",
       "2          0,022\n",
       "3    0,111233322\n",
       "4          0,356\n",
       "Name: YVIK-YtreVikna1.-G1-T4015A3 -0104, dtype: object"
      ]
     },
     "execution_count": 91,
     "metadata": {},
     "output_type": "execute_result"
    }
   ],
   "source": [
    "Y.head()"
   ]
  },
  {
   "cell_type": "markdown",
   "metadata": {},
   "source": [
    "### Skaffe verdiene til nærmes målestasjon Arome ( 6491_1087)"
   ]
  },
  {
   "cell_type": "code",
   "execution_count": 71,
   "metadata": {
    "collapsed": true
   },
   "outputs": [],
   "source": []
  },
  {
   "cell_type": "code",
   "execution_count": 72,
   "metadata": {
    "collapsed": true
   },
   "outputs": [],
   "source": []
  },
  {
   "cell_type": "code",
   "execution_count": 73,
   "metadata": {
    "collapsed": true
   },
   "outputs": [],
   "source": []
  },
  {
   "cell_type": "code",
   "execution_count": 106,
   "metadata": {
    "collapsed": true
   },
   "outputs": [],
   "source": [
    "X_pluss = df[['Time','/arome_winddir_6491_1087', '/arome_windvel_6491_1087']]"
   ]
  },
  {
   "cell_type": "code",
   "execution_count": 107,
   "metadata": {},
   "outputs": [
    {
     "data": {
      "text/html": [
       "<div>\n",
       "<style>\n",
       "    .dataframe thead tr:only-child th {\n",
       "        text-align: right;\n",
       "    }\n",
       "\n",
       "    .dataframe thead th {\n",
       "        text-align: left;\n",
       "    }\n",
       "\n",
       "    .dataframe tbody tr th {\n",
       "        vertical-align: top;\n",
       "    }\n",
       "</style>\n",
       "<table border=\"1\" class=\"dataframe\">\n",
       "  <thead>\n",
       "    <tr style=\"text-align: right;\">\n",
       "      <th></th>\n",
       "      <th>Time</th>\n",
       "      <th>/arome_winddir_6491_1087</th>\n",
       "      <th>/arome_windvel_6491_1087</th>\n",
       "    </tr>\n",
       "  </thead>\n",
       "  <tbody>\n",
       "    <tr>\n",
       "      <th>0</th>\n",
       "      <td>01.09.2017</td>\n",
       "      <td>44.079459</td>\n",
       "      <td>1.831297</td>\n",
       "    </tr>\n",
       "    <tr>\n",
       "      <th>1</th>\n",
       "      <td>01.09.2017 01:00</td>\n",
       "      <td>44.749222</td>\n",
       "      <td>1.723288</td>\n",
       "    </tr>\n",
       "    <tr>\n",
       "      <th>2</th>\n",
       "      <td>01.09.2017 02:00</td>\n",
       "      <td>59.369394</td>\n",
       "      <td>2.037199</td>\n",
       "    </tr>\n",
       "    <tr>\n",
       "      <th>3</th>\n",
       "      <td>01.09.2017 03:00</td>\n",
       "      <td>284.964341</td>\n",
       "      <td>2.053741</td>\n",
       "    </tr>\n",
       "    <tr>\n",
       "      <th>4</th>\n",
       "      <td>01.09.2017 04:00</td>\n",
       "      <td>305.816383</td>\n",
       "      <td>2.718265</td>\n",
       "    </tr>\n",
       "  </tbody>\n",
       "</table>\n",
       "</div>"
      ],
      "text/plain": [
       "               Time  /arome_winddir_6491_1087  /arome_windvel_6491_1087\n",
       "0        01.09.2017                 44.079459                  1.831297\n",
       "1  01.09.2017 01:00                 44.749222                  1.723288\n",
       "2  01.09.2017 02:00                 59.369394                  2.037199\n",
       "3  01.09.2017 03:00                284.964341                  2.053741\n",
       "4  01.09.2017 04:00                305.816383                  2.718265"
      ]
     },
     "execution_count": 107,
     "metadata": {},
     "output_type": "execute_result"
    }
   ],
   "source": [
    "X_pluss.head()"
   ]
  },
  {
   "cell_type": "code",
   "execution_count": 108,
   "metadata": {
    "collapsed": true
   },
   "outputs": [],
   "source": [
    "X = X_pluss[['/arome_winddir_6491_1087', '/arome_windvel_6491_1087']]"
   ]
  },
  {
   "cell_type": "markdown",
   "metadata": {},
   "source": [
    "# Vaske datasettet"
   ]
  },
  {
   "cell_type": "code",
   "execution_count": 116,
   "metadata": {
    "collapsed": true
   },
   "outputs": [],
   "source": [
    "data = pd.concat([X,Y],axis=1)"
   ]
  },
  {
   "cell_type": "code",
   "execution_count": 118,
   "metadata": {},
   "outputs": [
    {
     "data": {
      "text/html": [
       "<div>\n",
       "<style>\n",
       "    .dataframe thead tr:only-child th {\n",
       "        text-align: right;\n",
       "    }\n",
       "\n",
       "    .dataframe thead th {\n",
       "        text-align: left;\n",
       "    }\n",
       "\n",
       "    .dataframe tbody tr th {\n",
       "        vertical-align: top;\n",
       "    }\n",
       "</style>\n",
       "<table border=\"1\" class=\"dataframe\">\n",
       "  <thead>\n",
       "    <tr style=\"text-align: right;\">\n",
       "      <th></th>\n",
       "      <th>/arome_winddir_6491_1087</th>\n",
       "      <th>/arome_windvel_6491_1087</th>\n",
       "      <th>YVIK-YtreVikna1.-G1-T4015A3 -0104</th>\n",
       "    </tr>\n",
       "  </thead>\n",
       "  <tbody>\n",
       "    <tr>\n",
       "      <th>0</th>\n",
       "      <td>44.079459</td>\n",
       "      <td>1.831297</td>\n",
       "      <td>0.022000</td>\n",
       "    </tr>\n",
       "    <tr>\n",
       "      <th>1</th>\n",
       "      <td>44.749222</td>\n",
       "      <td>1.723288</td>\n",
       "      <td>0.022000</td>\n",
       "    </tr>\n",
       "    <tr>\n",
       "      <th>2</th>\n",
       "      <td>59.369394</td>\n",
       "      <td>2.037199</td>\n",
       "      <td>0.022000</td>\n",
       "    </tr>\n",
       "    <tr>\n",
       "      <th>3</th>\n",
       "      <td>284.964341</td>\n",
       "      <td>2.053741</td>\n",
       "      <td>0.111233</td>\n",
       "    </tr>\n",
       "    <tr>\n",
       "      <th>4</th>\n",
       "      <td>305.816383</td>\n",
       "      <td>2.718265</td>\n",
       "      <td>0.356000</td>\n",
       "    </tr>\n",
       "  </tbody>\n",
       "</table>\n",
       "</div>"
      ],
      "text/plain": [
       "   /arome_winddir_6491_1087  /arome_windvel_6491_1087  \\\n",
       "0                 44.079459                  1.831297   \n",
       "1                 44.749222                  1.723288   \n",
       "2                 59.369394                  2.037199   \n",
       "3                284.964341                  2.053741   \n",
       "4                305.816383                  2.718265   \n",
       "\n",
       "   YVIK-YtreVikna1.-G1-T4015A3 -0104  \n",
       "0                           0.022000  \n",
       "1                           0.022000  \n",
       "2                           0.022000  \n",
       "3                           0.111233  \n",
       "4                           0.356000  "
      ]
     },
     "execution_count": 118,
     "metadata": {},
     "output_type": "execute_result"
    }
   ],
   "source": [
    "data.head()"
   ]
  },
  {
   "cell_type": "code",
   "execution_count": 122,
   "metadata": {
    "collapsed": true
   },
   "outputs": [],
   "source": [
    "data_cleaned = data.dropna()"
   ]
  },
  {
   "cell_type": "code",
   "execution_count": 125,
   "metadata": {
    "collapsed": true
   },
   "outputs": [],
   "source": [
    "x = data_cleaned[['/arome_winddir_6491_1087','/arome_windvel_6491_1087']]"
   ]
  },
  {
   "cell_type": "code",
   "execution_count": 126,
   "metadata": {
    "collapsed": true
   },
   "outputs": [],
   "source": [
    "y = data_cleaned['YVIK-YtreVikna1.-G1-T4015A3 -0104']"
   ]
  },
  {
   "cell_type": "markdown",
   "metadata": {},
   "source": [
    " # Regresjon med Scikit-learn"
   ]
  },
  {
   "cell_type": "code",
   "execution_count": 92,
   "metadata": {
    "collapsed": true
   },
   "outputs": [],
   "source": [
    "from sklearn.model_selection import train_test_split"
   ]
  },
  {
   "cell_type": "code",
   "execution_count": 127,
   "metadata": {
    "collapsed": true
   },
   "outputs": [],
   "source": [
    "X_train, X_test, y_train, y_test = train_test_split(x, y, test_size=0.3, random_state=101)"
   ]
  },
  {
   "cell_type": "code",
   "execution_count": 95,
   "metadata": {
    "collapsed": true
   },
   "outputs": [],
   "source": [
    "from sklearn.linear_model import LinearRegression"
   ]
  },
  {
   "cell_type": "code",
   "execution_count": 128,
   "metadata": {
    "collapsed": true
   },
   "outputs": [],
   "source": [
    "lm = LinearRegression()"
   ]
  },
  {
   "cell_type": "code",
   "execution_count": 129,
   "metadata": {},
   "outputs": [
    {
     "data": {
      "text/plain": [
       "LinearRegression(copy_X=True, fit_intercept=True, n_jobs=1, normalize=False)"
      ]
     },
     "execution_count": 129,
     "metadata": {},
     "output_type": "execute_result"
    }
   ],
   "source": [
    "lm.fit(X_train,y_train)"
   ]
  },
  {
   "cell_type": "code",
   "execution_count": null,
   "metadata": {
    "collapsed": true
   },
   "outputs": [],
   "source": []
  },
  {
   "cell_type": "code",
   "execution_count": 130,
   "metadata": {},
   "outputs": [
    {
     "data": {
      "text/html": [
       "<div>\n",
       "<style>\n",
       "    .dataframe thead tr:only-child th {\n",
       "        text-align: right;\n",
       "    }\n",
       "\n",
       "    .dataframe thead th {\n",
       "        text-align: left;\n",
       "    }\n",
       "\n",
       "    .dataframe tbody tr th {\n",
       "        vertical-align: top;\n",
       "    }\n",
       "</style>\n",
       "<table border=\"1\" class=\"dataframe\">\n",
       "  <thead>\n",
       "    <tr style=\"text-align: right;\">\n",
       "      <th></th>\n",
       "      <th>Coefficient</th>\n",
       "    </tr>\n",
       "  </thead>\n",
       "  <tbody>\n",
       "    <tr>\n",
       "      <th>/arome_winddir_6491_1087</th>\n",
       "      <td>0.000874</td>\n",
       "    </tr>\n",
       "    <tr>\n",
       "      <th>/arome_windvel_6491_1087</th>\n",
       "      <td>0.114655</td>\n",
       "    </tr>\n",
       "  </tbody>\n",
       "</table>\n",
       "</div>"
      ],
      "text/plain": [
       "                          Coefficient\n",
       "/arome_winddir_6491_1087     0.000874\n",
       "/arome_windvel_6491_1087     0.114655"
      ]
     },
     "execution_count": 130,
     "metadata": {},
     "output_type": "execute_result"
    }
   ],
   "source": [
    "coeff_df = pd.DataFrame(lm.coef_,X.columns,columns=['Coefficient'])\n",
    "coeff_df"
   ]
  },
  {
   "cell_type": "code",
   "execution_count": null,
   "metadata": {
    "collapsed": true
   },
   "outputs": [],
   "source": []
  },
  {
   "cell_type": "code",
   "execution_count": 131,
   "metadata": {
    "collapsed": true
   },
   "outputs": [],
   "source": [
    "predictions = lm.predict(X_test)"
   ]
  },
  {
   "cell_type": "code",
   "execution_count": 132,
   "metadata": {},
   "outputs": [
    {
     "data": {
      "text/plain": [
       "<matplotlib.collections.PathCollection at 0x247712e9cc0>"
      ]
     },
     "execution_count": 132,
     "metadata": {},
     "output_type": "execute_result"
    },
    {
     "data": {
      "image/png": "[encoded data removed]",
      "text/plain": [
       "<matplotlib.figure.Figure at 0x247711bfc18>"
      ]
     },
     "metadata": {
      "image/png": {
       "height": 250,
       "width": 379
      }
     },
     "output_type": "display_data"
    }
   ],
   "source": [
    "plt.scatter(y_test,predictions)"
   ]
  },
  {
   "cell_type": "code",
   "execution_count": 133,
   "metadata": {},
   "outputs": [
    {
     "data": {
      "image/png": "[encoded data removed]",
      "text/plain": [
       "<matplotlib.figure.Figure at 0x247712c6b38>"
      ]
     },
     "metadata": {
      "image/png": {
       "height": 263,
       "width": 373
      }
     },
     "output_type": "display_data"
    }
   ],
   "source": [
    "sns.distplot((y_test-predictions),bins=50);"
   ]
  },
  {
   "cell_type": "code",
   "execution_count": 134,
   "metadata": {
    "collapsed": true
   },
   "outputs": [],
   "source": [
    "from sklearn import metrics"
   ]
  },
  {
   "cell_type": "code",
   "execution_count": 135,
   "metadata": {},
   "outputs": [
    {
     "name": "stdout",
     "output_type": "stream",
     "text": [
      "MAE: 0.442272442783\n",
      "MSE: 0.291356063539\n",
      "RMSE: 0.539774085649\n"
     ]
    }
   ],
   "source": [
    "print('MAE:', metrics.mean_absolute_error(y_test, predictions))\n",
    "print('MSE:', metrics.mean_squared_error(y_test, predictions))\n",
    "print('RMSE:', np.sqrt(metrics.mean_squared_error(y_test, predictions)))"
   ]
  },
  {
   "cell_type": "code",
   "execution_count": 139,
   "metadata": {},
   "outputs": [
    {
     "data": {
      "text/plain": [
       "array([ 0.17251032,  0.19306829,  1.28956474,  0.74240689,  0.66566447,\n",
       "        1.2766287 ,  1.19610851,  0.75591401,  0.45971792,  0.89576907,\n",
       "        0.14473942,  1.3303122 ,  1.07398715,  1.3956826 , -0.01711931,\n",
       "        0.60762116,  0.14762904,  2.0918491 ,  1.54595283,  1.13193205,\n",
       "        0.5433157 ,  0.84211862,  1.01810885,  0.00271236,  0.65991154,\n",
       "        1.40158484,  0.41689854,  1.00072649,  1.75238043,  0.58958   ,\n",
       "        0.55820585,  1.52484501,  0.69233627,  1.12820655,  0.99324338,\n",
       "        0.9267115 ,  0.59752221,  0.49288716,  0.41525281,  0.74665609,\n",
       "        1.26160522,  1.22755822,  1.54606341,  0.99113852,  1.55927765,\n",
       "        0.64745121,  1.30319894,  0.37622592,  1.73318827,  0.72132386,\n",
       "        1.26994722,  1.49501582, -0.08574607,  1.21231094,  1.002992  ,\n",
       "        0.27406705,  0.87309163,  1.20062807,  0.26464533,  1.60462368,\n",
       "        1.90025239,  1.26754185,  0.50991342,  1.3634086 ,  1.24799008,\n",
       "        0.51864846,  0.86993331,  0.31066189,  0.78998866,  0.89782582,\n",
       "        1.05198669,  0.15666791,  1.5021603 ,  0.73882687,  1.21505332,\n",
       "        0.98640042,  1.29976467,  0.71862694,  0.46600637,  1.8214672 ,\n",
       "        1.01344864,  0.66382708,  1.28193323,  0.70149358,  1.60752996,\n",
       "        1.5968813 ,  0.52109661,  0.63107181,  0.58190124,  1.75420248,\n",
       "        1.76255202,  1.84252272,  0.30345094,  0.43125428,  1.57453503,\n",
       "        0.63352985,  0.20681188,  1.09427502,  0.89766643,  0.75368444,\n",
       "        1.90449553,  1.50609788,  0.99391262,  1.4815372 ,  1.03997999,\n",
       "        0.29327409,  1.07406814,  0.37930312,  0.8965983 ,  1.72481983,\n",
       "        0.53536623,  0.44243823,  1.68301413,  1.22419553,  1.49718093,\n",
       "        1.7887484 ,  0.40205275,  1.59618702,  1.42063786,  1.4608548 ,\n",
       "        1.30540121,  1.50068659,  0.47871406,  1.46301074,  1.17566563,\n",
       "        1.54934341,  0.18525568,  2.43715067,  1.3751821 ,  1.65098322,\n",
       "        0.92120549,  1.73818079,  0.94775236,  0.66547923,  0.37242642,\n",
       "        1.20756351,  1.23488447,  1.34582758,  1.96758062,  1.06965932,\n",
       "        1.69762935,  0.65037835,  1.02189171,  1.65798543,  1.08819096,\n",
       "        1.3867478 ,  0.9607989 ,  1.60084151,  0.78263657,  1.59659174,\n",
       "        1.59009304,  0.7432293 ,  0.63361817,  0.91319899,  1.74864441,\n",
       "        0.51321597,  1.73527213,  0.48745841,  1.80372237, -0.06989686,\n",
       "        0.98360931,  1.49439987,  0.86921246,  0.64401225,  0.61127995,\n",
       "        0.67371229,  1.59594685,  1.0565762 ,  0.63960841,  1.16705135,\n",
       "        1.26467314,  1.29873464,  0.61411001,  0.54708374,  1.30023823,\n",
       "        0.46201591, -0.02878362,  0.42190995,  0.81163662,  2.21079996,\n",
       "        0.7961008 ,  1.92652261,  0.93520008,  0.49135123,  1.48778066,\n",
       "        0.20819324,  0.27217329,  0.56067738,  1.12841455,  1.19139068,\n",
       "        0.75515244,  1.1660931 ,  2.30586786,  0.44340619,  1.81255427,\n",
       "        0.73303911,  0.41046606,  1.15688955,  1.10460471,  0.62663414,\n",
       "        0.88812602,  1.12252709,  0.43238773,  0.2109507 ,  2.06105779,\n",
       "        0.4105518 ,  0.68363659,  1.12017792,  1.51919996,  1.6461845 ,\n",
       "        1.56602717,  1.62416269,  1.34294447,  0.77962053,  0.62338813,\n",
       "        0.75159162,  0.49947833,  1.80770016,  1.31579659,  0.94006571,\n",
       "        0.52188667,  0.07810702,  1.34207012,  1.74569495,  1.66782333,\n",
       "        1.32394755,  0.82879483,  1.54875121,  0.30429918,  1.51876841,\n",
       "        1.59172927,  1.38944436,  1.75858961,  0.84141325,  0.03352542,\n",
       "        1.69216737,  1.558656  ,  1.24368639,  1.3343079 ,  0.83953915,\n",
       "        1.0348737 ,  0.79363039,  0.7981046 ,  0.48982544,  1.28508714,\n",
       "        1.27739813,  1.16186987,  1.27693645,  1.37572151,  1.12425472,\n",
       "        1.1104671 ,  0.63674811,  0.37445795,  1.33689965,  1.83138282,\n",
       "        1.24728126,  1.44684135,  1.62784497,  1.19660383,  1.17993833,\n",
       "        1.21540974,  0.6566389 , -0.02884489,  1.36926353,  1.1249669 ,\n",
       "        1.5217744 ,  0.93050646,  1.0832369 ,  0.74550133,  0.8929027 ,\n",
       "        0.79630949,  1.2832921 ,  0.41160571,  0.1545891 ,  1.56826497,\n",
       "        1.44300227,  1.62560061,  1.52496771,  0.79277449,  0.76169256,\n",
       "        1.06832479,  0.77850624,  0.44368467,  1.03174755,  1.11819898,\n",
       "        0.23191246,  0.33066573,  1.35940592,  1.35097439,  0.4815811 ,\n",
       "        1.10644699,  1.09625266,  1.00019334,  0.87049087,  0.52573512,\n",
       "        1.03307786,  2.21676447,  1.00841559,  1.04735396,  1.42767791,\n",
       "        0.8011355 ,  1.28882031,  1.38692067,  1.46893929,  1.43244974,\n",
       "        1.96731039,  1.68510594,  1.56243163,  1.21913452,  1.491372  ,\n",
       "        1.04723155,  1.68707796,  1.40304614,  1.43683765,  0.52693782,\n",
       "        1.48869807,  1.03036224,  0.54879716,  1.45164462,  1.57545055,\n",
       "        0.32665944,  0.78920057,  1.0444498 ,  0.78451439,  0.99844006,\n",
       "        0.45982453,  0.43291448,  1.40480536,  1.61961486,  0.36136046,\n",
       "        0.99756423,  0.77570334,  1.84077375,  0.69245891,  1.66237232,\n",
       "        0.88346603,  1.60517021,  0.66893514,  0.53015264,  1.42120767,\n",
       "        1.62478413,  0.37859437,  0.50857222,  0.43127665,  1.20896286,\n",
       "        0.89185071,  1.33503521,  1.40178791,  1.34741064,  1.22734773,\n",
       "        0.7640449 ,  1.6639902 ,  1.01231426,  1.14506685,  1.67362762,\n",
       "        1.45110731,  1.99075629,  0.38390128,  0.981347  ,  1.35885687,\n",
       "        1.05455029,  0.37241897,  1.60860275,  0.52478734,  1.56866485,\n",
       "        1.13460095,  1.29162698,  0.99267518,  1.46435226,  0.46373193,\n",
       "        1.49754582,  0.46321001,  1.55279449,  1.63065503,  0.47013525,\n",
       "        0.83101673,  0.73353761,  0.50329487,  0.71533345,  1.5679925 ,\n",
       "        1.37839568,  1.00223748,  0.90351158,  0.69365976,  1.24692549,\n",
       "        1.32507287,  0.65768492,  1.37899955,  1.08691076,  1.5545192 ,\n",
       "        0.75793762,  0.48125436,  1.58080838,  2.31981709,  1.83519958,\n",
       "        0.91495332,  1.44586902,  0.57839294,  1.20885153,  1.58970753,\n",
       "        0.86770071,  0.40818271,  1.50869625,  0.45663029,  0.49582176,\n",
       "        1.46244411,  1.64251097,  0.56651268,  1.58012258,  0.61212146,\n",
       "        0.61340438,  1.611354  ,  1.65611109,  1.27548237,  0.73454253,\n",
       "        0.61857745,  0.56243071,  0.27479589,  0.81984057,  0.21786626,\n",
       "        0.76249878,  1.06919179,  0.62597397,  0.85234889,  1.20982176,\n",
       "        0.85689797,  0.18236002,  1.08428433,  1.83479162,  1.35675531,\n",
       "        0.78876636,  0.45576945,  1.65818623,  1.21150074,  1.08944112,\n",
       "        0.58008129,  0.93491753,  0.46532038,  1.51059828,  1.22775952,\n",
       "        0.35492922,  0.4806263 ,  0.28967116,  0.72120121,  0.157114  ,\n",
       "        1.09418556,  0.43867162,  0.95760384,  1.63583084,  0.3599647 ,\n",
       "        0.5883647 ,  1.1001888 ,  0.37390027,  0.74090685,  0.03925531,\n",
       "        0.36583664,  1.74152489,  1.89554443,  0.54063571,  0.42352507,\n",
       "        1.45942019,  1.10005932,  0.87725752,  1.20551056,  0.62473297,\n",
       "        1.45276784,  1.54399658,  1.07044193,  0.3348583 ,  0.67965659,\n",
       "        1.29936275,  1.62029077,  0.9516929 ,  1.41864651,  1.31577829,\n",
       "        0.10180514,  1.48197684,  1.02657892,  0.98940084,  0.6107234 ,\n",
       "        1.1382975 ,  1.69291236,  0.77742086,  1.27153026,  0.67059725,\n",
       "        0.40335433,  2.13229957,  0.8046953 ,  0.49667432,  0.89979372,\n",
       "        1.26860569,  1.05828621,  2.07868995,  0.95759269,  0.34456776,\n",
       "        0.49497926,  1.08690149,  1.74569059,  0.68257522,  1.26587633,\n",
       "        0.10889976,  1.14699049,  0.8994031 ,  1.95277058,  1.08667851,\n",
       "        0.5742931 ,  0.27050206,  0.69585985,  1.37051353,  0.52643709,\n",
       "        1.27070723,  1.14620753,  0.06428504,  1.22981472,  1.00220278,\n",
       "        0.95773978,  0.38098974,  0.27639907,  1.52997031,  0.508561  ,\n",
       "        0.76589502,  1.41391964,  0.93151958,  0.0639998 ,  1.6769895 ,\n",
       "        1.33988306,  1.4844358 ,  0.38322178,  1.50636543,  0.58078247,\n",
       "        1.12074615,  1.61882703,  0.83855147,  0.41168817,  1.36617241,\n",
       "        2.35386808,  0.91596444,  0.97345963,  1.36579026,  1.10216115,\n",
       "        1.65069061,  0.94070716,  1.5154499 ,  0.59074686,  0.11353393,\n",
       "        1.41641626,  1.08326299,  1.18858573,  0.52270214,  1.41691766,\n",
       "        1.45936815,  1.37560251,  0.86814219,  1.1941699 ,  1.35567568,\n",
       "        1.55556355,  1.42975556,  0.70059646,  1.31843604,  1.31686148,\n",
       "        1.45441198,  1.47154203,  1.15971837,  0.56303978,  1.23789455,\n",
       "        1.91113988,  0.74348539,  0.4917853 ,  0.37201626,  1.3922111 ,\n",
       "        0.5384283 ,  1.64695177,  0.97937704,  1.37830845, -0.06459894,\n",
       "        1.04927611,  0.98019916,  1.47311017,  1.10751368,  1.42572817,\n",
       "        1.48391438,  1.11882581,  0.10769131,  0.28473774,  1.03345045,\n",
       "        0.40311018,  1.22747113,  1.28454923,  1.18678092,  0.40572284,\n",
       "        0.69067171,  0.72443675,  0.6827381 ,  0.69319185,  1.0560013 ,\n",
       "        0.89113761,  1.37173737,  0.86990506,  1.66427026,  1.12287917,\n",
       "        1.08337712,  0.39025875,  0.11695839,  0.87535487,  0.45893768,\n",
       "        1.21778862,  0.34471334,  0.07060373,  0.49464115,  1.0753001 ,\n",
       "        1.40195227,  1.1648426 ,  0.26517917,  0.9800422 ,  0.89279102,\n",
       "        0.4102282 ,  0.63325967,  0.20900373,  0.51780241,  0.42962807,\n",
       "        1.61701594,  1.49244197,  0.42516178,  1.84458202,  0.26877545,\n",
       "        0.85934889,  1.00700262,  0.80726803,  1.98325582,  1.16680961,\n",
       "        1.51659154,  1.60426582,  0.04439856,  0.78607842,  1.88621189,\n",
       "        0.63854997,  1.02062309,  1.13837987,  0.52682032,  0.44907879,\n",
       "        0.64642989,  1.46329807,  0.16784387,  0.49157669,  0.71000628,\n",
       "        1.13160111,  1.49838765,  0.74422141,  0.50730593,  0.59024504,\n",
       "        1.58999114,  0.78145698,  0.07088374,  1.44007685,  0.5180021 ,\n",
       "        0.61854987,  0.94547516,  1.65083273,  1.55248522,  0.94210693,\n",
       "        0.70676458,  0.97581561,  0.78054358,  0.8363533 ,  1.11497611,\n",
       "        1.6509291 ,  0.64578666,  1.21075316,  0.94899332,  1.32756382,\n",
       "        1.26728254,  0.6908281 ,  0.89458515,  1.22884949,  1.31497495,\n",
       "        0.60008206,  1.19715073,  0.36919693,  0.22395318,  1.50604579,\n",
       "        0.96193653,  0.81267902,  0.47084917,  0.43048281,  0.60975714,\n",
       "        0.62459475,  0.80107937,  1.22584588,  1.53115774,  0.57061756,\n",
       "        1.33382166,  0.65399886,  1.12407362,  0.8887891 ,  1.53130017,\n",
       "        1.52083558,  1.56790854,  0.56837676,  0.34160122,  0.95842697,\n",
       "        0.56079579,  0.96482202,  1.00068684,  0.03878149,  1.83795999])"
      ]
     },
     "execution_count": 139,
     "metadata": {},
     "output_type": "execute_result"
    }
   ],
   "source": [
    "predictions"
   ]
  },
  {
   "cell_type": "code",
   "execution_count": 137,
   "metadata": {},
   "outputs": [
    {
     "data": {
      "text/plain": [
       "323     0.074000\n",
       "433     0.161000\n",
       "1034    0.635267\n",
       "1506    0.368283\n",
       "77      0.941500\n",
       "966     0.982817\n",
       "1846    0.752867\n",
       "2560    0.138200\n",
       "611     1.309150\n",
       "2565    0.283433\n",
       "1924    0.187000\n",
       "1786    0.673350\n",
       "1857    1.090517\n",
       "1038    1.331017\n",
       "319     0.064000\n",
       "72      0.973583\n",
       "2364    0.601817\n",
       "2031    2.254083\n",
       "1271    2.247200\n",
       "1725    0.502000\n",
       "416     0.019000\n",
       "2111    0.002000\n",
       "1720    1.726567\n",
       "155     0.933500\n",
       "2071    0.400567\n",
       "212     1.222867\n",
       "289     0.554083\n",
       "254     1.043300\n",
       "709     2.333250\n",
       "2138    0.197000\n",
       "          ...   \n",
       "2151    0.166633\n",
       "2209    0.649700\n",
       "32      0.424867\n",
       "242     0.134117\n",
       "1684    1.726017\n",
       "1712    2.201300\n",
       "2125    0.201000\n",
       "134     1.812706\n",
       "54      0.162000\n",
       "1319    1.036983\n",
       "594     0.631633\n",
       "1303    2.092117\n",
       "1365    0.369850\n",
       "848     1.200733\n",
       "2109    0.010467\n",
       "936     1.019067\n",
       "576     0.887283\n",
       "110     2.261683\n",
       "823     0.589817\n",
       "870     0.263217\n",
       "1353    0.815600\n",
       "1278    2.332117\n",
       "1544    0.165467\n",
       "230     0.136000\n",
       "366     1.183167\n",
       "2178    0.052000\n",
       "258     1.842500\n",
       "1431    0.384667\n",
       "2321    0.084983\n",
       "699     2.317066\n",
       "Name: YVIK-YtreVikna1.-G1-T4015A3 -0104, Length: 705, dtype: float64"
      ]
     },
     "execution_count": 137,
     "metadata": {},
     "output_type": "execute_result"
    }
   ],
   "source": [
    "y_test"
   ]
  },
  {
   "cell_type": "code",
   "execution_count": null,
   "metadata": {
    "collapsed": true
   },
   "outputs": [],
   "source": []
  },
  {
   "cell_type": "markdown",
   "metadata": {},
   "source": [
    "## Sjekk av error i dagens analyse"
   ]
  },
  {
   "cell_type": "code",
   "execution_count": 146,
   "metadata": {
    "collapsed": true
   },
   "outputs": [],
   "source": [
    "def calculate_mean_squared_error(virkelig, prediksjon):\n",
    "    sumy = 0\n",
    "    for i in range(2,len(virkelig)):\n",
    "        sumy = sumy + (virkelig[i]-prediksjon[i-2])**2\n",
    "    \n",
    "    return  sumy/len(virkelig-2)\n",
    "        "
   ]
  },
  {
   "cell_type": "code",
   "execution_count": 148,
   "metadata": {},
   "outputs": [
    {
     "ename": "KeyError",
     "evalue": "524",
     "output_type": "error",
     "traceback": [
      "\u001b[1;31m---------------------------------------------------------------------------\u001b[0m",
      "\u001b[1;31mKeyError\u001b[0m                                  Traceback (most recent call last)",
      "\u001b[1;32m<ipython-input-148-6bf52a4d09b7>\u001b[0m in \u001b[0;36m<module>\u001b[1;34m()\u001b[0m\n\u001b[1;32m----> 1\u001b[1;33m \u001b[0mcalculate_mean_squared_error\u001b[0m\u001b[1;33m(\u001b[0m\u001b[0my\u001b[0m\u001b[1;33m,\u001b[0m\u001b[0my\u001b[0m\u001b[1;33m)\u001b[0m\u001b[1;33m\u001b[0m\u001b[0m\n\u001b[0m",
      "\u001b[1;32m<ipython-input-146-5b39fd28ca14>\u001b[0m in \u001b[0;36mcalculate_mean_squared_error\u001b[1;34m(virkelig, prediksjon)\u001b[0m\n\u001b[0;32m      2\u001b[0m     \u001b[0msumy\u001b[0m \u001b[1;33m=\u001b[0m \u001b[1;36m0\u001b[0m\u001b[1;33m\u001b[0m\u001b[0m\n\u001b[0;32m      3\u001b[0m     \u001b[1;32mfor\u001b[0m \u001b[0mi\u001b[0m \u001b[1;32min\u001b[0m \u001b[0mrange\u001b[0m\u001b[1;33m(\u001b[0m\u001b[1;36m2\u001b[0m\u001b[1;33m,\u001b[0m\u001b[0mlen\u001b[0m\u001b[1;33m(\u001b[0m\u001b[0mvirkelig\u001b[0m\u001b[1;33m)\u001b[0m\u001b[1;33m)\u001b[0m\u001b[1;33m:\u001b[0m\u001b[1;33m\u001b[0m\u001b[0m\n\u001b[1;32m----> 4\u001b[1;33m         \u001b[0msumy\u001b[0m \u001b[1;33m=\u001b[0m \u001b[0msumy\u001b[0m \u001b[1;33m+\u001b[0m \u001b[1;33m(\u001b[0m\u001b[0mvirkelig\u001b[0m\u001b[1;33m[\u001b[0m\u001b[0mi\u001b[0m\u001b[1;33m]\u001b[0m\u001b[1;33m-\u001b[0m\u001b[0mprediksjon\u001b[0m\u001b[1;33m[\u001b[0m\u001b[0mi\u001b[0m\u001b[1;33m-\u001b[0m\u001b[1;36m2\u001b[0m\u001b[1;33m]\u001b[0m\u001b[1;33m)\u001b[0m\u001b[1;33m**\u001b[0m\u001b[1;36m2\u001b[0m\u001b[1;33m\u001b[0m\u001b[0m\n\u001b[0m\u001b[0;32m      5\u001b[0m \u001b[1;33m\u001b[0m\u001b[0m\n\u001b[0;32m      6\u001b[0m     \u001b[1;32mreturn\u001b[0m  \u001b[0msumy\u001b[0m\u001b[1;33m/\u001b[0m\u001b[0mlen\u001b[0m\u001b[1;33m(\u001b[0m\u001b[0mvirkelig\u001b[0m\u001b[1;33m-\u001b[0m\u001b[1;36m2\u001b[0m\u001b[1;33m)\u001b[0m\u001b[1;33m\u001b[0m\u001b[0m\n",
      "\u001b[1;32m~\\Anaconda3\\lib\\site-packages\\pandas\\core\\series.py\u001b[0m in \u001b[0;36m__getitem__\u001b[1;34m(self, key)\u001b[0m\n\u001b[0;32m    599\u001b[0m         \u001b[0mkey\u001b[0m \u001b[1;33m=\u001b[0m \u001b[0mcom\u001b[0m\u001b[1;33m.\u001b[0m\u001b[0m_apply_if_callable\u001b[0m\u001b[1;33m(\u001b[0m\u001b[0mkey\u001b[0m\u001b[1;33m,\u001b[0m \u001b[0mself\u001b[0m\u001b[1;33m)\u001b[0m\u001b[1;33m\u001b[0m\u001b[0m\n\u001b[0;32m    600\u001b[0m         \u001b[1;32mtry\u001b[0m\u001b[1;33m:\u001b[0m\u001b[1;33m\u001b[0m\u001b[0m\n\u001b[1;32m--> 601\u001b[1;33m             \u001b[0mresult\u001b[0m \u001b[1;33m=\u001b[0m \u001b[0mself\u001b[0m\u001b[1;33m.\u001b[0m\u001b[0mindex\u001b[0m\u001b[1;33m.\u001b[0m\u001b[0mget_value\u001b[0m\u001b[1;33m(\u001b[0m\u001b[0mself\u001b[0m\u001b[1;33m,\u001b[0m \u001b[0mkey\u001b[0m\u001b[1;33m)\u001b[0m\u001b[1;33m\u001b[0m\u001b[0m\n\u001b[0m\u001b[0;32m    602\u001b[0m \u001b[1;33m\u001b[0m\u001b[0m\n\u001b[0;32m    603\u001b[0m             \u001b[1;32mif\u001b[0m \u001b[1;32mnot\u001b[0m \u001b[0mis_scalar\u001b[0m\u001b[1;33m(\u001b[0m\u001b[0mresult\u001b[0m\u001b[1;33m)\u001b[0m\u001b[1;33m:\u001b[0m\u001b[1;33m\u001b[0m\u001b[0m\n",
      "\u001b[1;32m~\\Anaconda3\\lib\\site-packages\\pandas\\core\\indexes\\base.py\u001b[0m in \u001b[0;36mget_value\u001b[1;34m(self, series, key)\u001b[0m\n\u001b[0;32m   2475\u001b[0m         \u001b[1;32mtry\u001b[0m\u001b[1;33m:\u001b[0m\u001b[1;33m\u001b[0m\u001b[0m\n\u001b[0;32m   2476\u001b[0m             return self._engine.get_value(s, k,\n\u001b[1;32m-> 2477\u001b[1;33m                                           tz=getattr(series.dtype, 'tz', None))\n\u001b[0m\u001b[0;32m   2478\u001b[0m         \u001b[1;32mexcept\u001b[0m \u001b[0mKeyError\u001b[0m \u001b[1;32mas\u001b[0m \u001b[0me1\u001b[0m\u001b[1;33m:\u001b[0m\u001b[1;33m\u001b[0m\u001b[0m\n\u001b[0;32m   2479\u001b[0m             \u001b[1;32mif\u001b[0m \u001b[0mlen\u001b[0m\u001b[1;33m(\u001b[0m\u001b[0mself\u001b[0m\u001b[1;33m)\u001b[0m \u001b[1;33m>\u001b[0m \u001b[1;36m0\u001b[0m \u001b[1;32mand\u001b[0m \u001b[0mself\u001b[0m\u001b[1;33m.\u001b[0m\u001b[0minferred_type\u001b[0m \u001b[1;32min\u001b[0m \u001b[1;33m[\u001b[0m\u001b[1;34m'integer'\u001b[0m\u001b[1;33m,\u001b[0m \u001b[1;34m'boolean'\u001b[0m\u001b[1;33m]\u001b[0m\u001b[1;33m:\u001b[0m\u001b[1;33m\u001b[0m\u001b[0m\n",
      "\u001b[1;32mpandas\\_libs\\index.pyx\u001b[0m in \u001b[0;36mpandas._libs.index.IndexEngine.get_value\u001b[1;34m()\u001b[0m\n",
      "\u001b[1;32mpandas\\_libs\\index.pyx\u001b[0m in \u001b[0;36mpandas._libs.index.IndexEngine.get_value\u001b[1;34m()\u001b[0m\n",
      "\u001b[1;32mpandas\\_libs\\index.pyx\u001b[0m in \u001b[0;36mpandas._libs.index.IndexEngine.get_loc\u001b[1;34m()\u001b[0m\n",
      "\u001b[1;32mpandas\\_libs\\hashtable_class_helper.pxi\u001b[0m in \u001b[0;36mpandas._libs.hashtable.Int64HashTable.get_item\u001b[1;34m()\u001b[0m\n",
      "\u001b[1;32mpandas\\_libs\\hashtable_class_helper.pxi\u001b[0m in \u001b[0;36mpandas._libs.hashtable.Int64HashTable.get_item\u001b[1;34m()\u001b[0m\n",
      "\u001b[1;31mKeyError\u001b[0m: 524"
     ]
    }
   ],
   "source": [
    "calculate_mean_squared_error(y,y)"
   ]
  },
  {
   "cell_type": "code",
   "execution_count": null,
   "metadata": {
    "collapsed": true
   },
   "outputs": [],
   "source": []
  },
  {
   "cell_type": "code",
   "execution_count": null,
   "metadata": {
    "collapsed": true
   },
   "outputs": [],
   "source": []
  }
 ],
 "metadata": {
  "kernelspec": {
   "display_name": "Python 3",
   "language": "python",
   "name": "python3"
  },
  "language_info": {
   "codemirror_mode": {
    "name": "ipython",
    "version": 3
   },
   "file_extension": ".py",
   "mimetype": "text/x-python",
   "name": "python",
   "nbconvert_exporter": "python",
   "pygments_lexer": "ipython3",
   "version": "3.5.3"
  }
 },
 "nbformat": 4,
 "nbformat_minor": 2
}
